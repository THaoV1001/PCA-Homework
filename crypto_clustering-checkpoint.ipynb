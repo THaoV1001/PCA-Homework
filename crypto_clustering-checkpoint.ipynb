{
 "cells": [
  {
   "cell_type": "markdown",
   "metadata": {},
   "source": [
    "# Clustering Crypto"
   ]
  },
  {
   "cell_type": "code",
   "execution_count": 227,
   "metadata": {},
   "outputs": [],
   "source": [
    "# Initial imports\n",
    "import requests\n",
    "import pandas as pd\n",
    "import matplotlib.pyplot as plt\n",
    "import hvplot.pandas\n",
    "import plotly.express as px\n",
    "from sklearn.preprocessing import StandardScaler, MinMaxScaler\n",
    "from sklearn.decomposition import PCA\n",
    "from sklearn.cluster import KMeans"
   ]
  },
  {
   "cell_type": "markdown",
   "metadata": {},
   "source": [
    "### Fetching Cryptocurrency Data"
   ]
  },
  {
   "cell_type": "code",
   "execution_count": 228,
   "metadata": {},
   "outputs": [],
   "source": [
    "# Use the following endpoint to fetch json data\n",
    "url = \"https://min-api.cryptocompare.com/data/all/coinlist\""
   ]
  },
  {
   "cell_type": "code",
   "execution_count": 229,
   "metadata": {},
   "outputs": [],
   "source": [
    "# Create a DataFrame \n",
    "# HINT: You will need to use the 'Data' key from the json response, then transpose the DataFrame.\n",
    "page = requests.get(url)\n",
    "data = page.json()['Data']\n",
    "crypto_data = pd.DataFrame(data)\n"
   ]
  },
  {
   "cell_type": "code",
   "execution_count": 230,
   "metadata": {},
   "outputs": [
    {
     "data": {
      "text/html": [
       "<div>\n",
       "<style scoped>\n",
       "    .dataframe tbody tr th:only-of-type {\n",
       "        vertical-align: middle;\n",
       "    }\n",
       "\n",
       "    .dataframe tbody tr th {\n",
       "        vertical-align: top;\n",
       "    }\n",
       "\n",
       "    .dataframe thead th {\n",
       "        text-align: right;\n",
       "    }\n",
       "</style>\n",
       "<table border=\"1\" class=\"dataframe\">\n",
       "  <thead>\n",
       "    <tr style=\"text-align: right;\">\n",
       "      <th></th>\n",
       "      <th>Id</th>\n",
       "      <th>Url</th>\n",
       "      <th>ImageUrl</th>\n",
       "      <th>ContentCreatedOn</th>\n",
       "      <th>Name</th>\n",
       "      <th>Symbol</th>\n",
       "      <th>CoinName</th>\n",
       "      <th>FullName</th>\n",
       "      <th>Description</th>\n",
       "      <th>AssetTokenStatus</th>\n",
       "      <th>...</th>\n",
       "      <th>MaxSupply</th>\n",
       "      <th>MktCapPenalty</th>\n",
       "      <th>IsUsedInDefi</th>\n",
       "      <th>IsUsedInNft</th>\n",
       "      <th>PlatformType</th>\n",
       "      <th>BuiltOn</th>\n",
       "      <th>SmartContractAddress</th>\n",
       "      <th>DecimalPoints</th>\n",
       "      <th>Difficulty</th>\n",
       "      <th>AlgorithmType</th>\n",
       "    </tr>\n",
       "  </thead>\n",
       "  <tbody>\n",
       "    <tr>\n",
       "      <th>MATIC</th>\n",
       "      <td>930246</td>\n",
       "      <td>/coins/matic/overview</td>\n",
       "      <td>/media/37746047/matic.png</td>\n",
       "      <td>1556618555</td>\n",
       "      <td>MATIC</td>\n",
       "      <td>MATIC</td>\n",
       "      <td>Polygon</td>\n",
       "      <td>Polygon (MATIC)</td>\n",
       "      <td>Matic provides scalable, secure and instant tr...</td>\n",
       "      <td>N/A</td>\n",
       "      <td>...</td>\n",
       "      <td>-1</td>\n",
       "      <td>0</td>\n",
       "      <td>0</td>\n",
       "      <td>0</td>\n",
       "      <td>token</td>\n",
       "      <td>ETH</td>\n",
       "      <td>0x7d1afa7b718fb893db30a3abc0cfc608aacfebb0</td>\n",
       "      <td>18</td>\n",
       "      <td>NaN</td>\n",
       "      <td>NaN</td>\n",
       "    </tr>\n",
       "    <tr>\n",
       "      <th>POLY</th>\n",
       "      <td>744820</td>\n",
       "      <td>/coins/poly/overview</td>\n",
       "      <td>/media/27010571/poly.png</td>\n",
       "      <td>1517824946</td>\n",
       "      <td>POLY</td>\n",
       "      <td>POLY</td>\n",
       "      <td>Polymath Network</td>\n",
       "      <td>Polymath Network (POLY)</td>\n",
       "      <td>The Polymath Network is a blockchain-based sys...</td>\n",
       "      <td>N/A</td>\n",
       "      <td>...</td>\n",
       "      <td>-1</td>\n",
       "      <td>0</td>\n",
       "      <td>0</td>\n",
       "      <td>0</td>\n",
       "      <td>token</td>\n",
       "      <td>ETH</td>\n",
       "      <td>0x9992ec3cf6a55b00978cddf2b27bc6882d88d1ec</td>\n",
       "      <td>18</td>\n",
       "      <td>NaN</td>\n",
       "      <td>NaN</td>\n",
       "    </tr>\n",
       "    <tr>\n",
       "      <th>WIFEDOGE</th>\n",
       "      <td>944568</td>\n",
       "      <td>/coins/wifedoge/overview</td>\n",
       "      <td>/media/38554177/wifedoge.png</td>\n",
       "      <td>1636970329</td>\n",
       "      <td>WIFEDOGE</td>\n",
       "      <td>WIFEDOGE</td>\n",
       "      <td>Wifedoge</td>\n",
       "      <td>Wifedoge (WIFEDOGE)</td>\n",
       "      <td>WifeDoge is a meme cryptocurrency that seeks t...</td>\n",
       "      <td>N/A</td>\n",
       "      <td>...</td>\n",
       "      <td>-1</td>\n",
       "      <td>0</td>\n",
       "      <td>0</td>\n",
       "      <td>0</td>\n",
       "      <td>token</td>\n",
       "      <td>BNB</td>\n",
       "      <td>0x07b36f2549291d320132712a1e64d3826b1fb4d7</td>\n",
       "      <td>9</td>\n",
       "      <td>NaN</td>\n",
       "      <td>NaN</td>\n",
       "    </tr>\n",
       "    <tr>\n",
       "      <th>RD</th>\n",
       "      <td>944572</td>\n",
       "      <td>/coins/rd/overview</td>\n",
       "      <td>/media/38554180/rd.png</td>\n",
       "      <td>1636974936</td>\n",
       "      <td>RD</td>\n",
       "      <td>RD</td>\n",
       "      <td>Round Dollar</td>\n",
       "      <td>Round Dollar (RD)</td>\n",
       "      <td>OneCash is a stablecoin centered global financ...</td>\n",
       "      <td>N/A</td>\n",
       "      <td>...</td>\n",
       "      <td>-1</td>\n",
       "      <td>0</td>\n",
       "      <td>0</td>\n",
       "      <td>0</td>\n",
       "      <td>token</td>\n",
       "      <td>TRX</td>\n",
       "      <td>TLS49HRpnY4RymsWhkRW4ETnvkH7w8D72K</td>\n",
       "      <td>4</td>\n",
       "      <td>NaN</td>\n",
       "      <td>NaN</td>\n",
       "    </tr>\n",
       "    <tr>\n",
       "      <th>STRAY</th>\n",
       "      <td>944581</td>\n",
       "      <td>/coins/stray/overview</td>\n",
       "      <td>/media/38554184/stray.png</td>\n",
       "      <td>1636979141</td>\n",
       "      <td>STRAY</td>\n",
       "      <td>STRAY</td>\n",
       "      <td>Animal Token</td>\n",
       "      <td>Animal Token (STRAY)</td>\n",
       "      <td>Animal Token is a project designed to help hom...</td>\n",
       "      <td>N/A</td>\n",
       "      <td>...</td>\n",
       "      <td>-1</td>\n",
       "      <td>0</td>\n",
       "      <td>0</td>\n",
       "      <td>0</td>\n",
       "      <td>token</td>\n",
       "      <td>BNB</td>\n",
       "      <td>0x10bd76630349f649697cb6c75b7de00854381fc5</td>\n",
       "      <td>9</td>\n",
       "      <td>NaN</td>\n",
       "      <td>NaN</td>\n",
       "    </tr>\n",
       "  </tbody>\n",
       "</table>\n",
       "<p>5 rows × 36 columns</p>\n",
       "</div>"
      ],
      "text/plain": [
       "              Id                       Url                      ImageUrl  \\\n",
       "MATIC     930246     /coins/matic/overview     /media/37746047/matic.png   \n",
       "POLY      744820      /coins/poly/overview      /media/27010571/poly.png   \n",
       "WIFEDOGE  944568  /coins/wifedoge/overview  /media/38554177/wifedoge.png   \n",
       "RD        944572        /coins/rd/overview        /media/38554180/rd.png   \n",
       "STRAY     944581     /coins/stray/overview     /media/38554184/stray.png   \n",
       "\n",
       "         ContentCreatedOn      Name    Symbol          CoinName  \\\n",
       "MATIC          1556618555     MATIC     MATIC           Polygon   \n",
       "POLY           1517824946      POLY      POLY  Polymath Network   \n",
       "WIFEDOGE       1636970329  WIFEDOGE  WIFEDOGE          Wifedoge   \n",
       "RD             1636974936        RD        RD      Round Dollar   \n",
       "STRAY          1636979141     STRAY     STRAY      Animal Token   \n",
       "\n",
       "                         FullName  \\\n",
       "MATIC             Polygon (MATIC)   \n",
       "POLY      Polymath Network (POLY)   \n",
       "WIFEDOGE      Wifedoge (WIFEDOGE)   \n",
       "RD              Round Dollar (RD)   \n",
       "STRAY        Animal Token (STRAY)   \n",
       "\n",
       "                                                Description AssetTokenStatus  \\\n",
       "MATIC     Matic provides scalable, secure and instant tr...              N/A   \n",
       "POLY      The Polymath Network is a blockchain-based sys...              N/A   \n",
       "WIFEDOGE  WifeDoge is a meme cryptocurrency that seeks t...              N/A   \n",
       "RD        OneCash is a stablecoin centered global financ...              N/A   \n",
       "STRAY     Animal Token is a project designed to help hom...              N/A   \n",
       "\n",
       "          ... MaxSupply MktCapPenalty IsUsedInDefi IsUsedInNft PlatformType  \\\n",
       "MATIC     ...        -1             0            0           0        token   \n",
       "POLY      ...        -1             0            0           0        token   \n",
       "WIFEDOGE  ...        -1             0            0           0        token   \n",
       "RD        ...        -1             0            0           0        token   \n",
       "STRAY     ...        -1             0            0           0        token   \n",
       "\n",
       "         BuiltOn                        SmartContractAddress DecimalPoints  \\\n",
       "MATIC        ETH  0x7d1afa7b718fb893db30a3abc0cfc608aacfebb0            18   \n",
       "POLY         ETH  0x9992ec3cf6a55b00978cddf2b27bc6882d88d1ec            18   \n",
       "WIFEDOGE     BNB  0x07b36f2549291d320132712a1e64d3826b1fb4d7             9   \n",
       "RD           TRX          TLS49HRpnY4RymsWhkRW4ETnvkH7w8D72K             4   \n",
       "STRAY        BNB  0x10bd76630349f649697cb6c75b7de00854381fc5             9   \n",
       "\n",
       "         Difficulty AlgorithmType  \n",
       "MATIC           NaN           NaN  \n",
       "POLY            NaN           NaN  \n",
       "WIFEDOGE        NaN           NaN  \n",
       "RD              NaN           NaN  \n",
       "STRAY           NaN           NaN  \n",
       "\n",
       "[5 rows x 36 columns]"
      ]
     },
     "execution_count": 230,
     "metadata": {},
     "output_type": "execute_result"
    }
   ],
   "source": [
    "crypto_df = crypto_data.T\n",
    "\n",
    "crypto_df.tail()"
   ]
  },
  {
   "cell_type": "code",
   "execution_count": 231,
   "metadata": {},
   "outputs": [
    {
     "data": {
      "text/plain": [
       "['Id',\n",
       " 'Url',\n",
       " 'ImageUrl',\n",
       " 'ContentCreatedOn',\n",
       " 'Name',\n",
       " 'Symbol',\n",
       " 'CoinName',\n",
       " 'FullName',\n",
       " 'Description',\n",
       " 'AssetTokenStatus',\n",
       " 'Algorithm',\n",
       " 'ProofType',\n",
       " 'SortOrder',\n",
       " 'Sponsored',\n",
       " 'Taxonomy',\n",
       " 'Rating',\n",
       " 'IsTrading',\n",
       " 'TotalCoinsMined',\n",
       " 'CirculatingSupply',\n",
       " 'BlockNumber',\n",
       " 'NetHashesPerSecond',\n",
       " 'BlockReward',\n",
       " 'BlockTime',\n",
       " 'AssetLaunchDate',\n",
       " 'AssetWhitepaperUrl',\n",
       " 'AssetWebsiteUrl',\n",
       " 'MaxSupply',\n",
       " 'MktCapPenalty',\n",
       " 'IsUsedInDefi',\n",
       " 'IsUsedInNft',\n",
       " 'PlatformType',\n",
       " 'BuiltOn',\n",
       " 'SmartContractAddress',\n",
       " 'DecimalPoints',\n",
       " 'Difficulty',\n",
       " 'AlgorithmType']"
      ]
     },
     "execution_count": 231,
     "metadata": {},
     "output_type": "execute_result"
    }
   ],
   "source": [
    "list(crypto_df) #Confirm the list of column labael"
   ]
  },
  {
   "cell_type": "code",
   "execution_count": 232,
   "metadata": {},
   "outputs": [],
   "source": [
    "# Alternatively, use the provided csv file:\n",
    "# file_path = Path(\"Resources/crypto_data.csv\")\n",
    "\n",
    "# Create a DataFrame"
   ]
  },
  {
   "cell_type": "markdown",
   "metadata": {},
   "source": [
    "### Data Preprocessing"
   ]
  },
  {
   "cell_type": "code",
   "execution_count": 233,
   "metadata": {},
   "outputs": [
    {
     "data": {
      "text/html": [
       "<div>\n",
       "<style scoped>\n",
       "    .dataframe tbody tr th:only-of-type {\n",
       "        vertical-align: middle;\n",
       "    }\n",
       "\n",
       "    .dataframe tbody tr th {\n",
       "        vertical-align: top;\n",
       "    }\n",
       "\n",
       "    .dataframe thead th {\n",
       "        text-align: right;\n",
       "    }\n",
       "</style>\n",
       "<table border=\"1\" class=\"dataframe\">\n",
       "  <thead>\n",
       "    <tr style=\"text-align: right;\">\n",
       "      <th></th>\n",
       "      <th>CoinName</th>\n",
       "      <th>Algorithm</th>\n",
       "      <th>IsTrading</th>\n",
       "      <th>ProofType</th>\n",
       "      <th>TotalCoinsMined</th>\n",
       "      <th>CirculatingSupply</th>\n",
       "    </tr>\n",
       "  </thead>\n",
       "  <tbody>\n",
       "    <tr>\n",
       "      <th>42</th>\n",
       "      <td>42 Coin</td>\n",
       "      <td>Scrypt</td>\n",
       "      <td>True</td>\n",
       "      <td>PoW/PoS</td>\n",
       "      <td>0</td>\n",
       "      <td>0</td>\n",
       "    </tr>\n",
       "    <tr>\n",
       "      <th>300</th>\n",
       "      <td>300 token</td>\n",
       "      <td>N/A</td>\n",
       "      <td>True</td>\n",
       "      <td>N/A</td>\n",
       "      <td>300</td>\n",
       "      <td>0</td>\n",
       "    </tr>\n",
       "    <tr>\n",
       "      <th>365</th>\n",
       "      <td>365Coin</td>\n",
       "      <td>X11</td>\n",
       "      <td>True</td>\n",
       "      <td>PoW/PoS</td>\n",
       "      <td>0</td>\n",
       "      <td>0</td>\n",
       "    </tr>\n",
       "    <tr>\n",
       "      <th>404</th>\n",
       "      <td>404Coin</td>\n",
       "      <td>Scrypt</td>\n",
       "      <td>True</td>\n",
       "      <td>PoW/PoS</td>\n",
       "      <td>0</td>\n",
       "      <td>0</td>\n",
       "    </tr>\n",
       "    <tr>\n",
       "      <th>433</th>\n",
       "      <td>433 Token</td>\n",
       "      <td>N/A</td>\n",
       "      <td>False</td>\n",
       "      <td>N/A</td>\n",
       "      <td>NaN</td>\n",
       "      <td>NaN</td>\n",
       "    </tr>\n",
       "  </tbody>\n",
       "</table>\n",
       "</div>"
      ],
      "text/plain": [
       "      CoinName Algorithm IsTrading ProofType TotalCoinsMined CirculatingSupply\n",
       "42     42 Coin    Scrypt      True   PoW/PoS               0                 0\n",
       "300  300 token       N/A      True       N/A             300                 0\n",
       "365    365Coin       X11      True   PoW/PoS               0                 0\n",
       "404    404Coin    Scrypt      True   PoW/PoS               0                 0\n",
       "433  433 Token       N/A     False       N/A             NaN               NaN"
      ]
     },
     "execution_count": 233,
     "metadata": {},
     "output_type": "execute_result"
    }
   ],
   "source": [
    "# Keep only necessary columns:\n",
    "# 'CoinName','Algorithm','IsTrading','ProofType','TotalCoinsMined','TotalCoinSupply'\n",
    "# It seems like 'TotalCoinSupply' no longer exists (as seen on the list of label above), so I replace it with 'CirculatingSupply'.\n",
    "crypto_df_clean = crypto_df[['CoinName', 'Algorithm', 'IsTrading', 'ProofType', 'TotalCoinsMined', 'CirculatingSupply']].copy()\n",
    "crypto_df_clean.head()"
   ]
  },
  {
   "cell_type": "code",
   "execution_count": 234,
   "metadata": {},
   "outputs": [
    {
     "data": {
      "text/html": [
       "<div>\n",
       "<style scoped>\n",
       "    .dataframe tbody tr th:only-of-type {\n",
       "        vertical-align: middle;\n",
       "    }\n",
       "\n",
       "    .dataframe tbody tr th {\n",
       "        vertical-align: top;\n",
       "    }\n",
       "\n",
       "    .dataframe thead th {\n",
       "        text-align: right;\n",
       "    }\n",
       "</style>\n",
       "<table border=\"1\" class=\"dataframe\">\n",
       "  <thead>\n",
       "    <tr style=\"text-align: right;\">\n",
       "      <th></th>\n",
       "      <th>CoinName</th>\n",
       "      <th>Algorithm</th>\n",
       "      <th>IsTrading</th>\n",
       "      <th>ProofType</th>\n",
       "      <th>TotalCoinsMined</th>\n",
       "      <th>CirculatingSupply</th>\n",
       "    </tr>\n",
       "  </thead>\n",
       "  <tbody>\n",
       "    <tr>\n",
       "      <th>42</th>\n",
       "      <td>42 Coin</td>\n",
       "      <td>Scrypt</td>\n",
       "      <td>True</td>\n",
       "      <td>PoW/PoS</td>\n",
       "      <td>0</td>\n",
       "      <td>0</td>\n",
       "    </tr>\n",
       "    <tr>\n",
       "      <th>300</th>\n",
       "      <td>300 token</td>\n",
       "      <td>N/A</td>\n",
       "      <td>True</td>\n",
       "      <td>N/A</td>\n",
       "      <td>300</td>\n",
       "      <td>0</td>\n",
       "    </tr>\n",
       "    <tr>\n",
       "      <th>365</th>\n",
       "      <td>365Coin</td>\n",
       "      <td>X11</td>\n",
       "      <td>True</td>\n",
       "      <td>PoW/PoS</td>\n",
       "      <td>0</td>\n",
       "      <td>0</td>\n",
       "    </tr>\n",
       "    <tr>\n",
       "      <th>404</th>\n",
       "      <td>404Coin</td>\n",
       "      <td>Scrypt</td>\n",
       "      <td>True</td>\n",
       "      <td>PoW/PoS</td>\n",
       "      <td>0</td>\n",
       "      <td>0</td>\n",
       "    </tr>\n",
       "    <tr>\n",
       "      <th>611</th>\n",
       "      <td>SixEleven</td>\n",
       "      <td>SHA-256</td>\n",
       "      <td>True</td>\n",
       "      <td>PoW</td>\n",
       "      <td>0</td>\n",
       "      <td>0</td>\n",
       "    </tr>\n",
       "  </tbody>\n",
       "</table>\n",
       "</div>"
      ],
      "text/plain": [
       "      CoinName Algorithm IsTrading ProofType TotalCoinsMined CirculatingSupply\n",
       "42     42 Coin    Scrypt      True   PoW/PoS               0                 0\n",
       "300  300 token       N/A      True       N/A             300                 0\n",
       "365    365Coin       X11      True   PoW/PoS               0                 0\n",
       "404    404Coin    Scrypt      True   PoW/PoS               0                 0\n",
       "611  SixEleven   SHA-256      True       PoW               0                 0"
      ]
     },
     "execution_count": 234,
     "metadata": {},
     "output_type": "execute_result"
    }
   ],
   "source": [
    "# Keep only cryptocurrencies that are trading\n",
    "crypto_df_clean = crypto_df_clean[crypto_df_clean['IsTrading'] == True]\n",
    "crypto_df_clean.head()"
   ]
  },
  {
   "cell_type": "code",
   "execution_count": 235,
   "metadata": {},
   "outputs": [
    {
     "data": {
      "text/html": [
       "<div>\n",
       "<style scoped>\n",
       "    .dataframe tbody tr th:only-of-type {\n",
       "        vertical-align: middle;\n",
       "    }\n",
       "\n",
       "    .dataframe tbody tr th {\n",
       "        vertical-align: top;\n",
       "    }\n",
       "\n",
       "    .dataframe thead th {\n",
       "        text-align: right;\n",
       "    }\n",
       "</style>\n",
       "<table border=\"1\" class=\"dataframe\">\n",
       "  <thead>\n",
       "    <tr style=\"text-align: right;\">\n",
       "      <th></th>\n",
       "      <th>CoinName</th>\n",
       "      <th>Algorithm</th>\n",
       "      <th>IsTrading</th>\n",
       "      <th>ProofType</th>\n",
       "      <th>TotalCoinsMined</th>\n",
       "      <th>CirculatingSupply</th>\n",
       "    </tr>\n",
       "  </thead>\n",
       "  <tbody>\n",
       "    <tr>\n",
       "      <th>ETP</th>\n",
       "      <td>Metaverse</td>\n",
       "      <td>Ethash</td>\n",
       "      <td>True</td>\n",
       "      <td>N/A</td>\n",
       "      <td>81290250.586884</td>\n",
       "      <td>0</td>\n",
       "    </tr>\n",
       "    <tr>\n",
       "      <th>OXYC</th>\n",
       "      <td>Oxycoin</td>\n",
       "      <td>DPoS</td>\n",
       "      <td>True</td>\n",
       "      <td>DPoS</td>\n",
       "      <td>1122382283.37</td>\n",
       "      <td>0</td>\n",
       "    </tr>\n",
       "    <tr>\n",
       "      <th>PAXEX</th>\n",
       "      <td>PAXEX</td>\n",
       "      <td>X11</td>\n",
       "      <td>True</td>\n",
       "      <td>PoS</td>\n",
       "      <td>NaN</td>\n",
       "      <td>NaN</td>\n",
       "    </tr>\n",
       "    <tr>\n",
       "      <th>PIVX</th>\n",
       "      <td>Private Instant Verified Transaction</td>\n",
       "      <td>Quark</td>\n",
       "      <td>True</td>\n",
       "      <td>PoW/PoS</td>\n",
       "      <td>67549049.835228</td>\n",
       "      <td>0</td>\n",
       "    </tr>\n",
       "    <tr>\n",
       "      <th>POA</th>\n",
       "      <td>Poa Network</td>\n",
       "      <td>Proof-of-Authority</td>\n",
       "      <td>True</td>\n",
       "      <td>PoA</td>\n",
       "      <td>293735369.623202</td>\n",
       "      <td>0</td>\n",
       "    </tr>\n",
       "  </tbody>\n",
       "</table>\n",
       "</div>"
      ],
      "text/plain": [
       "                                   CoinName           Algorithm IsTrading  \\\n",
       "ETP                               Metaverse              Ethash      True   \n",
       "OXYC                                Oxycoin                DPoS      True   \n",
       "PAXEX                                 PAXEX                 X11      True   \n",
       "PIVX   Private Instant Verified Transaction               Quark      True   \n",
       "POA                             Poa Network  Proof-of-Authority      True   \n",
       "\n",
       "      ProofType   TotalCoinsMined CirculatingSupply  \n",
       "ETP         N/A   81290250.586884                 0  \n",
       "OXYC       DPoS     1122382283.37                 0  \n",
       "PAXEX       PoS               NaN               NaN  \n",
       "PIVX    PoW/PoS   67549049.835228                 0  \n",
       "POA         PoA  293735369.623202                 0  "
      ]
     },
     "execution_count": 235,
     "metadata": {},
     "output_type": "execute_result"
    }
   ],
   "source": [
    "# Keep only cryptocurrencies with a working algorithm\n",
    "crypto_df_clean = crypto_df_clean[crypto_df_clean['Algorithm'] != 'N/A']\n",
    "crypto_df_clean.tail()"
   ]
  },
  {
   "cell_type": "code",
   "execution_count": 236,
   "metadata": {},
   "outputs": [
    {
     "data": {
      "text/html": [
       "<div>\n",
       "<style scoped>\n",
       "    .dataframe tbody tr th:only-of-type {\n",
       "        vertical-align: middle;\n",
       "    }\n",
       "\n",
       "    .dataframe tbody tr th {\n",
       "        vertical-align: top;\n",
       "    }\n",
       "\n",
       "    .dataframe thead th {\n",
       "        text-align: right;\n",
       "    }\n",
       "</style>\n",
       "<table border=\"1\" class=\"dataframe\">\n",
       "  <thead>\n",
       "    <tr style=\"text-align: right;\">\n",
       "      <th></th>\n",
       "      <th>CoinName</th>\n",
       "      <th>Algorithm</th>\n",
       "      <th>ProofType</th>\n",
       "      <th>TotalCoinsMined</th>\n",
       "      <th>CirculatingSupply</th>\n",
       "    </tr>\n",
       "  </thead>\n",
       "  <tbody>\n",
       "    <tr>\n",
       "      <th>42</th>\n",
       "      <td>42 Coin</td>\n",
       "      <td>Scrypt</td>\n",
       "      <td>PoW/PoS</td>\n",
       "      <td>0</td>\n",
       "      <td>0</td>\n",
       "    </tr>\n",
       "    <tr>\n",
       "      <th>365</th>\n",
       "      <td>365Coin</td>\n",
       "      <td>X11</td>\n",
       "      <td>PoW/PoS</td>\n",
       "      <td>0</td>\n",
       "      <td>0</td>\n",
       "    </tr>\n",
       "    <tr>\n",
       "      <th>404</th>\n",
       "      <td>404Coin</td>\n",
       "      <td>Scrypt</td>\n",
       "      <td>PoW/PoS</td>\n",
       "      <td>0</td>\n",
       "      <td>0</td>\n",
       "    </tr>\n",
       "    <tr>\n",
       "      <th>611</th>\n",
       "      <td>SixEleven</td>\n",
       "      <td>SHA-256</td>\n",
       "      <td>PoW</td>\n",
       "      <td>0</td>\n",
       "      <td>0</td>\n",
       "    </tr>\n",
       "    <tr>\n",
       "      <th>808</th>\n",
       "      <td>808</td>\n",
       "      <td>SHA-256</td>\n",
       "      <td>PoW/PoS</td>\n",
       "      <td>0</td>\n",
       "      <td>0</td>\n",
       "    </tr>\n",
       "    <tr>\n",
       "      <th>...</th>\n",
       "      <td>...</td>\n",
       "      <td>...</td>\n",
       "      <td>...</td>\n",
       "      <td>...</td>\n",
       "      <td>...</td>\n",
       "    </tr>\n",
       "    <tr>\n",
       "      <th>ETP</th>\n",
       "      <td>Metaverse</td>\n",
       "      <td>Ethash</td>\n",
       "      <td>N/A</td>\n",
       "      <td>81290250.586884</td>\n",
       "      <td>0</td>\n",
       "    </tr>\n",
       "    <tr>\n",
       "      <th>OXYC</th>\n",
       "      <td>Oxycoin</td>\n",
       "      <td>DPoS</td>\n",
       "      <td>DPoS</td>\n",
       "      <td>1122382283.37</td>\n",
       "      <td>0</td>\n",
       "    </tr>\n",
       "    <tr>\n",
       "      <th>PAXEX</th>\n",
       "      <td>PAXEX</td>\n",
       "      <td>X11</td>\n",
       "      <td>PoS</td>\n",
       "      <td>NaN</td>\n",
       "      <td>NaN</td>\n",
       "    </tr>\n",
       "    <tr>\n",
       "      <th>PIVX</th>\n",
       "      <td>Private Instant Verified Transaction</td>\n",
       "      <td>Quark</td>\n",
       "      <td>PoW/PoS</td>\n",
       "      <td>67549049.835228</td>\n",
       "      <td>0</td>\n",
       "    </tr>\n",
       "    <tr>\n",
       "      <th>POA</th>\n",
       "      <td>Poa Network</td>\n",
       "      <td>Proof-of-Authority</td>\n",
       "      <td>PoA</td>\n",
       "      <td>293735369.623202</td>\n",
       "      <td>0</td>\n",
       "    </tr>\n",
       "  </tbody>\n",
       "</table>\n",
       "<p>1634 rows × 5 columns</p>\n",
       "</div>"
      ],
      "text/plain": [
       "                                   CoinName           Algorithm ProofType  \\\n",
       "42                                  42 Coin              Scrypt   PoW/PoS   \n",
       "365                                 365Coin                 X11   PoW/PoS   \n",
       "404                                 404Coin              Scrypt   PoW/PoS   \n",
       "611                               SixEleven             SHA-256       PoW   \n",
       "808                                     808             SHA-256   PoW/PoS   \n",
       "...                                     ...                 ...       ...   \n",
       "ETP                               Metaverse              Ethash       N/A   \n",
       "OXYC                                Oxycoin                DPoS      DPoS   \n",
       "PAXEX                                 PAXEX                 X11       PoS   \n",
       "PIVX   Private Instant Verified Transaction               Quark   PoW/PoS   \n",
       "POA                             Poa Network  Proof-of-Authority       PoA   \n",
       "\n",
       "        TotalCoinsMined CirculatingSupply  \n",
       "42                    0                 0  \n",
       "365                   0                 0  \n",
       "404                   0                 0  \n",
       "611                   0                 0  \n",
       "808                   0                 0  \n",
       "...                 ...               ...  \n",
       "ETP     81290250.586884                 0  \n",
       "OXYC      1122382283.37                 0  \n",
       "PAXEX               NaN               NaN  \n",
       "PIVX    67549049.835228                 0  \n",
       "POA    293735369.623202                 0  \n",
       "\n",
       "[1634 rows x 5 columns]"
      ]
     },
     "execution_count": 236,
     "metadata": {},
     "output_type": "execute_result"
    }
   ],
   "source": [
    "# Remove the \"IsTrading\" column\n",
    "crypto_df_clean = crypto_df_clean.drop(columns='IsTrading')\n",
    "crypto_df_clean"
   ]
  },
  {
   "cell_type": "code",
   "execution_count": 237,
   "metadata": {},
   "outputs": [],
   "source": [
    "# Remove rows with at least 1 null value\n",
    "crypto_df_clean = crypto_df_clean.dropna()"
   ]
  },
  {
   "cell_type": "code",
   "execution_count": 238,
   "metadata": {},
   "outputs": [],
   "source": [
    "# Remove rows with cryptocurrencies having no coins mined\n",
    "crypto_df_clean = crypto_df_clean[crypto_df_clean['TotalCoinsMined'] > 0]"
   ]
  },
  {
   "cell_type": "code",
   "execution_count": 239,
   "metadata": {},
   "outputs": [],
   "source": [
    "# Drop rows where there are 'N/A' text values\n",
    "crypto_df_clean = crypto_df_clean[crypto_df_clean != 'N/A']"
   ]
  },
  {
   "cell_type": "code",
   "execution_count": 240,
   "metadata": {},
   "outputs": [
    {
     "data": {
      "text/html": [
       "<div>\n",
       "<style scoped>\n",
       "    .dataframe tbody tr th:only-of-type {\n",
       "        vertical-align: middle;\n",
       "    }\n",
       "\n",
       "    .dataframe tbody tr th {\n",
       "        vertical-align: top;\n",
       "    }\n",
       "\n",
       "    .dataframe thead th {\n",
       "        text-align: right;\n",
       "    }\n",
       "</style>\n",
       "<table border=\"1\" class=\"dataframe\">\n",
       "  <thead>\n",
       "    <tr style=\"text-align: right;\">\n",
       "      <th></th>\n",
       "      <th>CoinName</th>\n",
       "    </tr>\n",
       "  </thead>\n",
       "  <tbody>\n",
       "    <tr>\n",
       "      <th>NSR</th>\n",
       "      <td>NuShares</td>\n",
       "    </tr>\n",
       "    <tr>\n",
       "      <th>TRI</th>\n",
       "      <td>Triangles Coin</td>\n",
       "    </tr>\n",
       "    <tr>\n",
       "      <th>CMTC</th>\n",
       "      <td>CometCoin</td>\n",
       "    </tr>\n",
       "    <tr>\n",
       "      <th>CHAT</th>\n",
       "      <td>OpenChat</td>\n",
       "    </tr>\n",
       "    <tr>\n",
       "      <th>QRL</th>\n",
       "      <td>Quantum Resistant Ledger</td>\n",
       "    </tr>\n",
       "    <tr>\n",
       "      <th>...</th>\n",
       "      <td>...</td>\n",
       "    </tr>\n",
       "    <tr>\n",
       "      <th>ZEC</th>\n",
       "      <td>ZCash</td>\n",
       "    </tr>\n",
       "    <tr>\n",
       "      <th>ETP</th>\n",
       "      <td>Metaverse</td>\n",
       "    </tr>\n",
       "    <tr>\n",
       "      <th>OXYC</th>\n",
       "      <td>Oxycoin</td>\n",
       "    </tr>\n",
       "    <tr>\n",
       "      <th>PIVX</th>\n",
       "      <td>Private Instant Verified Transaction</td>\n",
       "    </tr>\n",
       "    <tr>\n",
       "      <th>POA</th>\n",
       "      <td>Poa Network</td>\n",
       "    </tr>\n",
       "  </tbody>\n",
       "</table>\n",
       "<p>292 rows × 1 columns</p>\n",
       "</div>"
      ],
      "text/plain": [
       "                                  CoinName\n",
       "NSR                               NuShares\n",
       "TRI                         Triangles Coin\n",
       "CMTC                             CometCoin\n",
       "CHAT                              OpenChat\n",
       "QRL               Quantum Resistant Ledger\n",
       "...                                    ...\n",
       "ZEC                                  ZCash\n",
       "ETP                              Metaverse\n",
       "OXYC                               Oxycoin\n",
       "PIVX  Private Instant Verified Transaction\n",
       "POA                            Poa Network\n",
       "\n",
       "[292 rows x 1 columns]"
      ]
     },
     "execution_count": 240,
     "metadata": {},
     "output_type": "execute_result"
    }
   ],
   "source": [
    "# Store the 'CoinName'column in its own DataFrame prior to dropping it from crypto_df\n",
    "coin_name = crypto_df_clean['CoinName'].to_frame()\n",
    "coin_name"
   ]
  },
  {
   "cell_type": "code",
   "execution_count": 241,
   "metadata": {},
   "outputs": [
    {
     "data": {
      "text/html": [
       "<div>\n",
       "<style scoped>\n",
       "    .dataframe tbody tr th:only-of-type {\n",
       "        vertical-align: middle;\n",
       "    }\n",
       "\n",
       "    .dataframe tbody tr th {\n",
       "        vertical-align: top;\n",
       "    }\n",
       "\n",
       "    .dataframe thead th {\n",
       "        text-align: right;\n",
       "    }\n",
       "</style>\n",
       "<table border=\"1\" class=\"dataframe\">\n",
       "  <thead>\n",
       "    <tr style=\"text-align: right;\">\n",
       "      <th></th>\n",
       "      <th>Algorithm</th>\n",
       "      <th>ProofType</th>\n",
       "      <th>TotalCoinsMined</th>\n",
       "      <th>CirculatingSupply</th>\n",
       "    </tr>\n",
       "  </thead>\n",
       "  <tbody>\n",
       "    <tr>\n",
       "      <th>NSR</th>\n",
       "      <td>PoS</td>\n",
       "      <td>PoS</td>\n",
       "      <td>6168359833.8311</td>\n",
       "      <td>0</td>\n",
       "    </tr>\n",
       "    <tr>\n",
       "      <th>TRI</th>\n",
       "      <td>X13</td>\n",
       "      <td>PoW/PoS</td>\n",
       "      <td>190011.705975</td>\n",
       "      <td>0</td>\n",
       "    </tr>\n",
       "    <tr>\n",
       "      <th>CMTC</th>\n",
       "      <td>Scrypt</td>\n",
       "      <td>PoW</td>\n",
       "      <td>872830</td>\n",
       "      <td>0</td>\n",
       "    </tr>\n",
       "    <tr>\n",
       "      <th>CHAT</th>\n",
       "      <td>Scrypt</td>\n",
       "      <td>PoW/PoS</td>\n",
       "      <td>1000000000</td>\n",
       "      <td>0</td>\n",
       "    </tr>\n",
       "    <tr>\n",
       "      <th>QRL</th>\n",
       "      <td>RandomX</td>\n",
       "      <td>PoW</td>\n",
       "      <td>75305667.453989</td>\n",
       "      <td>0</td>\n",
       "    </tr>\n",
       "  </tbody>\n",
       "</table>\n",
       "</div>"
      ],
      "text/plain": [
       "     Algorithm ProofType  TotalCoinsMined CirculatingSupply\n",
       "NSR        PoS       PoS  6168359833.8311                 0\n",
       "TRI        X13   PoW/PoS    190011.705975                 0\n",
       "CMTC    Scrypt       PoW           872830                 0\n",
       "CHAT    Scrypt   PoW/PoS       1000000000                 0\n",
       "QRL    RandomX       PoW  75305667.453989                 0"
      ]
     },
     "execution_count": 241,
     "metadata": {},
     "output_type": "execute_result"
    }
   ],
   "source": [
    "# Drop the 'CoinName' column since it's not going to be used on the clustering algorithm\n",
    "crypto_df_clean = crypto_df_clean.drop(columns='CoinName')\n",
    "crypto_df_clean.head()"
   ]
  },
  {
   "cell_type": "code",
   "execution_count": 242,
   "metadata": {},
   "outputs": [
    {
     "data": {
      "text/html": [
       "<div>\n",
       "<style scoped>\n",
       "    .dataframe tbody tr th:only-of-type {\n",
       "        vertical-align: middle;\n",
       "    }\n",
       "\n",
       "    .dataframe tbody tr th {\n",
       "        vertical-align: top;\n",
       "    }\n",
       "\n",
       "    .dataframe thead th {\n",
       "        text-align: right;\n",
       "    }\n",
       "</style>\n",
       "<table border=\"1\" class=\"dataframe\">\n",
       "  <thead>\n",
       "    <tr style=\"text-align: right;\">\n",
       "      <th></th>\n",
       "      <th>Algorithm</th>\n",
       "      <th>ProofType</th>\n",
       "      <th>TotalCoinsMined</th>\n",
       "      <th>CirculatingSupply</th>\n",
       "    </tr>\n",
       "  </thead>\n",
       "  <tbody>\n",
       "    <tr>\n",
       "      <th>NSR</th>\n",
       "      <td>39</td>\n",
       "      <td>10</td>\n",
       "      <td>6168359833.8311</td>\n",
       "      <td>0</td>\n",
       "    </tr>\n",
       "    <tr>\n",
       "      <th>TRI</th>\n",
       "      <td>56</td>\n",
       "      <td>15</td>\n",
       "      <td>190011.705975</td>\n",
       "      <td>0</td>\n",
       "    </tr>\n",
       "    <tr>\n",
       "      <th>CMTC</th>\n",
       "      <td>49</td>\n",
       "      <td>14</td>\n",
       "      <td>872830</td>\n",
       "      <td>0</td>\n",
       "    </tr>\n",
       "    <tr>\n",
       "      <th>CHAT</th>\n",
       "      <td>49</td>\n",
       "      <td>15</td>\n",
       "      <td>1000000000</td>\n",
       "      <td>0</td>\n",
       "    </tr>\n",
       "    <tr>\n",
       "      <th>QRL</th>\n",
       "      <td>43</td>\n",
       "      <td>14</td>\n",
       "      <td>75305667.453989</td>\n",
       "      <td>0</td>\n",
       "    </tr>\n",
       "    <tr>\n",
       "      <th>...</th>\n",
       "      <td>...</td>\n",
       "      <td>...</td>\n",
       "      <td>...</td>\n",
       "      <td>...</td>\n",
       "    </tr>\n",
       "    <tr>\n",
       "      <th>ZEC</th>\n",
       "      <td>18</td>\n",
       "      <td>14</td>\n",
       "      <td>11796097.2008</td>\n",
       "      <td>0</td>\n",
       "    </tr>\n",
       "    <tr>\n",
       "      <th>ETP</th>\n",
       "      <td>21</td>\n",
       "      <td>25</td>\n",
       "      <td>81290250.586884</td>\n",
       "      <td>0</td>\n",
       "    </tr>\n",
       "    <tr>\n",
       "      <th>OXYC</th>\n",
       "      <td>13</td>\n",
       "      <td>4</td>\n",
       "      <td>1122382283.37</td>\n",
       "      <td>0</td>\n",
       "    </tr>\n",
       "    <tr>\n",
       "      <th>PIVX</th>\n",
       "      <td>42</td>\n",
       "      <td>15</td>\n",
       "      <td>67549049.835228</td>\n",
       "      <td>0</td>\n",
       "    </tr>\n",
       "    <tr>\n",
       "      <th>POA</th>\n",
       "      <td>41</td>\n",
       "      <td>7</td>\n",
       "      <td>293735369.623202</td>\n",
       "      <td>0</td>\n",
       "    </tr>\n",
       "  </tbody>\n",
       "</table>\n",
       "<p>292 rows × 4 columns</p>\n",
       "</div>"
      ],
      "text/plain": [
       "      Algorithm  ProofType   TotalCoinsMined CirculatingSupply\n",
       "NSR          39         10   6168359833.8311                 0\n",
       "TRI          56         15     190011.705975                 0\n",
       "CMTC         49         14            872830                 0\n",
       "CHAT         49         15        1000000000                 0\n",
       "QRL          43         14   75305667.453989                 0\n",
       "...         ...        ...               ...               ...\n",
       "ZEC          18         14     11796097.2008                 0\n",
       "ETP          21         25   81290250.586884                 0\n",
       "OXYC         13          4     1122382283.37                 0\n",
       "PIVX         42         15   67549049.835228                 0\n",
       "POA          41          7  293735369.623202                 0\n",
       "\n",
       "[292 rows x 4 columns]"
      ]
     },
     "execution_count": 242,
     "metadata": {},
     "output_type": "execute_result"
    }
   ],
   "source": [
    "# Create dummy variables for text features\n",
    "from sklearn.preprocessing import LabelEncoder\n",
    "label_encoder1 = LabelEncoder()\n",
    "label_encoder1.fit(crypto_df_clean['Algorithm'])\n",
    "crypto_df_clean['Algorithm'] = label_encoder1.transform(crypto_df_clean['Algorithm'])\n",
    "\n",
    "label_encoder2 = LabelEncoder()\n",
    "label_encoder2.fit(crypto_df_clean['ProofType'])\n",
    "crypto_df_clean['ProofType'] = label_encoder2.transform(crypto_df_clean['ProofType'])\n",
    "\n",
    "crypto_df_clean"
   ]
  },
  {
   "cell_type": "code",
   "execution_count": 243,
   "metadata": {},
   "outputs": [
    {
     "data": {
      "text/plain": [
       "array([[ 1.03312875, -1.47337631, -0.05862104, -0.05987231],\n",
       "       [ 1.9124928 , -0.71593637, -0.05862104, -0.05987231],\n",
       "       [ 1.55040172, -0.86742436, -0.05862104, -0.05987231],\n",
       "       ...,\n",
       "       [-0.31178097, -2.38230422, -0.05862104, -0.05987231],\n",
       "       [ 1.18831064, -0.71593637, -0.05862104, -0.05987231],\n",
       "       [ 1.13658335, -1.92784026, -0.05862104, -0.05987231]])"
      ]
     },
     "execution_count": 243,
     "metadata": {},
     "output_type": "execute_result"
    }
   ],
   "source": [
    "# Standardize data\n",
    "# Initializing Model\n",
    "data_scaler = StandardScaler()\n",
    "\n",
    "# Fitting the data and store results \n",
    "data_scaler.fit(crypto_df_clean)\n",
    "\n",
    "# Applying stored results to transform dataframe \n",
    "crypto_df_scaled = data_scaler.transform(crypto_df_clean)\n",
    "crypto_df_scaled"
   ]
  },
  {
   "cell_type": "markdown",
   "metadata": {},
   "source": [
    "### Reducing Dimensions Using PCA"
   ]
  },
  {
   "cell_type": "code",
   "execution_count": 244,
   "metadata": {},
   "outputs": [],
   "source": [
    "# Use PCA to reduce dimensions to 3 principal components\n",
    "# Initializing PCA Model \n",
    "pca = PCA(n_components=3)\n"
   ]
  },
  {
   "cell_type": "code",
   "execution_count": 245,
   "metadata": {},
   "outputs": [
    {
     "data": {
      "text/html": [
       "<div>\n",
       "<style scoped>\n",
       "    .dataframe tbody tr th:only-of-type {\n",
       "        vertical-align: middle;\n",
       "    }\n",
       "\n",
       "    .dataframe tbody tr th {\n",
       "        vertical-align: top;\n",
       "    }\n",
       "\n",
       "    .dataframe thead th {\n",
       "        text-align: right;\n",
       "    }\n",
       "</style>\n",
       "<table border=\"1\" class=\"dataframe\">\n",
       "  <thead>\n",
       "    <tr style=\"text-align: right;\">\n",
       "      <th></th>\n",
       "      <th>PC1</th>\n",
       "      <th>PC2</th>\n",
       "      <th>PC3</th>\n",
       "    </tr>\n",
       "  </thead>\n",
       "  <tbody>\n",
       "    <tr>\n",
       "      <th>0</th>\n",
       "      <td>1.733846</td>\n",
       "      <td>-0.071925</td>\n",
       "      <td>-0.376177</td>\n",
       "    </tr>\n",
       "    <tr>\n",
       "      <th>1</th>\n",
       "      <td>1.821552</td>\n",
       "      <td>-0.051065</td>\n",
       "      <td>-0.358766</td>\n",
       "    </tr>\n",
       "    <tr>\n",
       "      <th>2</th>\n",
       "      <td>1.674582</td>\n",
       "      <td>-0.058688</td>\n",
       "      <td>-0.340103</td>\n",
       "    </tr>\n",
       "    <tr>\n",
       "      <th>3</th>\n",
       "      <td>1.569885</td>\n",
       "      <td>-0.057774</td>\n",
       "      <td>-0.315706</td>\n",
       "    </tr>\n",
       "    <tr>\n",
       "      <th>4</th>\n",
       "      <td>1.458868</td>\n",
       "      <td>-0.064438</td>\n",
       "      <td>-0.303195</td>\n",
       "    </tr>\n",
       "  </tbody>\n",
       "</table>\n",
       "</div>"
      ],
      "text/plain": [
       "        PC1       PC2       PC3\n",
       "0  1.733846 -0.071925 -0.376177\n",
       "1  1.821552 -0.051065 -0.358766\n",
       "2  1.674582 -0.058688 -0.340103\n",
       "3  1.569885 -0.057774 -0.315706\n",
       "4  1.458868 -0.064438 -0.303195"
      ]
     },
     "execution_count": 245,
     "metadata": {},
     "output_type": "execute_result"
    }
   ],
   "source": [
    "# Create a DataFrame with the principal components data\n",
    "# Transform data into 3 components with PCA \n",
    "crypto_pca = pca.fit_transform(crypto_df_scaled)\n",
    "\n",
    "# Combine results into a dataframe\n",
    "crypto_pca_df = pd.DataFrame(\n",
    "    data=crypto_pca, columns=['PC1', 'PC2', 'PC3'])\n",
    "\n",
    "crypto_pca_df.head()"
   ]
  },
  {
   "cell_type": "markdown",
   "metadata": {},
   "source": [
    "### Clustering Crytocurrencies Using K-Means\n",
    "\n",
    "#### Find the Best Value for `k` Using the Elbow Curve"
   ]
  },
  {
   "cell_type": "code",
   "execution_count": 246,
   "metadata": {},
   "outputs": [
    {
     "name": "stderr",
     "output_type": "stream",
     "text": [
      "C:\\Users\\61421\\anaconda3\\envs\\pyvizenv\\lib\\site-packages\\sklearn\\cluster\\_kmeans.py:882: UserWarning:\n",
      "\n",
      "KMeans is known to have a memory leak on Windows with MKL, when there are less chunks than available threads. You can avoid it by setting the environment variable OMP_NUM_THREADS=2.\n",
      "\n"
     ]
    },
    {
     "data": {},
     "metadata": {},
     "output_type": "display_data"
    },
    {
     "data": {
      "application/vnd.holoviews_exec.v0+json": "",
      "text/html": [
       "<div id='2011'>\n",
       "\n",
       "\n",
       "\n",
       "\n",
       "\n",
       "  <div class=\"bk-root\" id=\"9663a7d6-b339-4f48-abeb-f3b5bc610629\" data-root-id=\"2011\"></div>\n",
       "</div>\n",
       "<script type=\"application/javascript\">(function(root) {\n",
       "  function embed_document(root) {\n",
       "    var docs_json = {\"4dcf1cdc-af43-4730-8ea8-316dd8cba1ba\":{\"defs\":[{\"extends\":null,\"module\":null,\"name\":\"ReactiveHTML1\",\"overrides\":[],\"properties\":[]},{\"extends\":null,\"module\":null,\"name\":\"FlexBox1\",\"overrides\":[],\"properties\":[{\"default\":\"flex-start\",\"kind\":null,\"name\":\"align_content\"},{\"default\":\"flex-start\",\"kind\":null,\"name\":\"align_items\"},{\"default\":\"row\",\"kind\":null,\"name\":\"flex_direction\"},{\"default\":\"wrap\",\"kind\":null,\"name\":\"flex_wrap\"},{\"default\":\"flex-start\",\"kind\":null,\"name\":\"justify_content\"}]},{\"extends\":null,\"module\":null,\"name\":\"TemplateActions1\",\"overrides\":[],\"properties\":[{\"default\":0,\"kind\":null,\"name\":\"open_modal\"},{\"default\":0,\"kind\":null,\"name\":\"close_modal\"}]},{\"extends\":null,\"module\":null,\"name\":\"MaterialTemplateActions1\",\"overrides\":[],\"properties\":[{\"default\":0,\"kind\":null,\"name\":\"open_modal\"},{\"default\":0,\"kind\":null,\"name\":\"close_modal\"}]}],\"roots\":{\"references\":[{\"attributes\":{\"axis\":{\"id\":\"2025\"},\"grid_line_color\":null,\"ticker\":null},\"id\":\"2028\",\"type\":\"Grid\"},{\"attributes\":{},\"id\":\"2062\",\"type\":\"BasicTickFormatter\"},{\"attributes\":{},\"id\":\"2021\",\"type\":\"LinearScale\"},{\"attributes\":{\"line_alpha\":0.2,\"line_color\":\"#30a2da\",\"line_width\":2,\"x\":{\"field\":\"k\"},\"y\":{\"field\":\"SSE Distance\"}},\"id\":\"2051\",\"type\":\"Line\"},{\"attributes\":{\"end\":10.0,\"reset_end\":10.0,\"reset_start\":1.0,\"start\":1.0,\"tags\":[[[\"k\",\"k\",null]]]},\"id\":\"2013\",\"type\":\"Range1d\"},{\"attributes\":{},\"id\":\"2023\",\"type\":\"LinearScale\"},{\"attributes\":{\"margin\":[5,5,5,5],\"name\":\"HSpacer03202\",\"sizing_mode\":\"stretch_width\"},\"id\":\"2012\",\"type\":\"Spacer\"},{\"attributes\":{\"axis_label\":\"SSE Distance\",\"formatter\":{\"id\":\"2062\"},\"major_label_policy\":{\"id\":\"2061\"},\"ticker\":{\"id\":\"2030\"}},\"id\":\"2029\",\"type\":\"LinearAxis\"},{\"attributes\":{\"data\":{\"SSE Distance\":{\"__ndarray__\":\"P9eoHmYkkEA5cxKMJkuEQM/KFmeEY3ZArBhpEqnWUEAxf2nHpsIzQHTvTVseMCtA83exsFyWIEDPCbsZN/0WQOIwXK24ABBAHAYDKKkNCEA=\",\"dtype\":\"float64\",\"order\":\"little\",\"shape\":[10]},\"SSE_Distance\":{\"__ndarray__\":\"P9eoHmYkkEA5cxKMJkuEQM/KFmeEY3ZArBhpEqnWUEAxf2nHpsIzQHTvTVseMCtA83exsFyWIEDPCbsZN/0WQOIwXK24ABBAHAYDKKkNCEA=\",\"dtype\":\"float64\",\"order\":\"little\",\"shape\":[10]},\"k\":[1,2,3,4,5,6,7,8,9,10]},\"selected\":{\"id\":\"2047\"},\"selection_policy\":{\"id\":\"2070\"}},\"id\":\"2046\",\"type\":\"ColumnDataSource\"},{\"attributes\":{\"axis_label\":\"k\",\"formatter\":{\"id\":\"2057\"},\"major_label_policy\":{\"id\":\"2056\"},\"ticker\":{\"id\":\"2055\"}},\"id\":\"2025\",\"type\":\"LinearAxis\"},{\"attributes\":{\"children\":[{\"id\":\"2012\"},{\"id\":\"2016\"},{\"id\":\"2082\"}],\"margin\":[0,0,0,0],\"name\":\"Row03198\",\"tags\":[\"embedded\"]},\"id\":\"2011\",\"type\":\"Row\"},{\"attributes\":{\"active_multi\":null,\"tools\":[{\"id\":\"2015\"},{\"id\":\"2033\"},{\"id\":\"2034\"},{\"id\":\"2035\"},{\"id\":\"2036\"},{\"id\":\"2037\"}]},\"id\":\"2039\",\"type\":\"Toolbar\"},{\"attributes\":{},\"id\":\"2030\",\"type\":\"BasicTicker\"},{\"attributes\":{\"axis\":{\"id\":\"2029\"},\"dimension\":1,\"grid_line_color\":null,\"ticker\":null},\"id\":\"2032\",\"type\":\"Grid\"},{\"attributes\":{\"end\":1136.1090319353982,\"reset_end\":1136.1090319353982,\"reset_start\":-100.00263530727601,\"start\":-100.00263530727601,\"tags\":[[[\"SSE Distance\",\"SSE Distance\",null]]]},\"id\":\"2014\",\"type\":\"Range1d\"},{\"attributes\":{\"source\":{\"id\":\"2046\"}},\"id\":\"2053\",\"type\":\"CDSView\"},{\"attributes\":{\"bottom_units\":\"screen\",\"fill_alpha\":0.5,\"fill_color\":\"lightgrey\",\"left_units\":\"screen\",\"level\":\"overlay\",\"line_alpha\":1.0,\"line_color\":\"black\",\"line_dash\":[4,4],\"line_width\":2,\"right_units\":\"screen\",\"syncable\":false,\"top_units\":\"screen\"},\"id\":\"2038\",\"type\":\"BoxAnnotation\"},{\"attributes\":{\"below\":[{\"id\":\"2025\"}],\"center\":[{\"id\":\"2028\"},{\"id\":\"2032\"}],\"height\":300,\"left\":[{\"id\":\"2029\"}],\"margin\":[5,5,5,5],\"min_border_bottom\":10,\"min_border_left\":10,\"min_border_right\":10,\"min_border_top\":10,\"renderers\":[{\"id\":\"2052\"}],\"sizing_mode\":\"fixed\",\"title\":{\"id\":\"2017\"},\"toolbar\":{\"id\":\"2039\"},\"width\":700,\"x_range\":{\"id\":\"2013\"},\"x_scale\":{\"id\":\"2021\"},\"y_range\":{\"id\":\"2014\"},\"y_scale\":{\"id\":\"2023\"}},\"id\":\"2016\",\"subtype\":\"Figure\",\"type\":\"Plot\"},{\"attributes\":{\"line_color\":\"#30a2da\",\"line_width\":2,\"x\":{\"field\":\"k\"},\"y\":{\"field\":\"SSE Distance\"}},\"id\":\"2049\",\"type\":\"Line\"},{\"attributes\":{},\"id\":\"2061\",\"type\":\"AllLabels\"},{\"attributes\":{\"data_source\":{\"id\":\"2046\"},\"glyph\":{\"id\":\"2049\"},\"hover_glyph\":null,\"muted_glyph\":{\"id\":\"2051\"},\"nonselection_glyph\":{\"id\":\"2050\"},\"selection_glyph\":{\"id\":\"2054\"},\"view\":{\"id\":\"2053\"}},\"id\":\"2052\",\"type\":\"GlyphRenderer\"},{\"attributes\":{\"text\":\"Elbow Curve\",\"text_color\":\"black\",\"text_font_size\":\"12pt\"},\"id\":\"2017\",\"type\":\"Title\"},{\"attributes\":{},\"id\":\"2047\",\"type\":\"Selection\"},{\"attributes\":{},\"id\":\"2056\",\"type\":\"AllLabels\"},{\"attributes\":{\"ticks\":[1,2,3,4,5,6,7,8,9,10]},\"id\":\"2055\",\"type\":\"FixedTicker\"},{\"attributes\":{},\"id\":\"2070\",\"type\":\"UnionRenderers\"},{\"attributes\":{\"margin\":[5,5,5,5],\"name\":\"HSpacer03203\",\"sizing_mode\":\"stretch_width\"},\"id\":\"2082\",\"type\":\"Spacer\"},{\"attributes\":{\"line_color\":\"#30a2da\",\"line_width\":2,\"x\":{\"field\":\"k\"},\"y\":{\"field\":\"SSE Distance\"}},\"id\":\"2054\",\"type\":\"Line\"},{\"attributes\":{},\"id\":\"2033\",\"type\":\"SaveTool\"},{\"attributes\":{},\"id\":\"2057\",\"type\":\"BasicTickFormatter\"},{\"attributes\":{},\"id\":\"2034\",\"type\":\"PanTool\"},{\"attributes\":{\"callback\":null,\"renderers\":[{\"id\":\"2052\"}],\"tags\":[\"hv_created\"],\"tooltips\":[[\"k\",\"@{k}\"],[\"SSE Distance\",\"@{SSE_Distance}\"]]},\"id\":\"2015\",\"type\":\"HoverTool\"},{\"attributes\":{},\"id\":\"2037\",\"type\":\"ResetTool\"},{\"attributes\":{\"line_alpha\":0.1,\"line_color\":\"#30a2da\",\"line_width\":2,\"x\":{\"field\":\"k\"},\"y\":{\"field\":\"SSE Distance\"}},\"id\":\"2050\",\"type\":\"Line\"},{\"attributes\":{},\"id\":\"2035\",\"type\":\"WheelZoomTool\"},{\"attributes\":{\"overlay\":{\"id\":\"2038\"}},\"id\":\"2036\",\"type\":\"BoxZoomTool\"}],\"root_ids\":[\"2011\"]},\"title\":\"Bokeh Application\",\"version\":\"2.3.2\"}};\n",
       "    var render_items = [{\"docid\":\"4dcf1cdc-af43-4730-8ea8-316dd8cba1ba\",\"root_ids\":[\"2011\"],\"roots\":{\"2011\":\"9663a7d6-b339-4f48-abeb-f3b5bc610629\"}}];\n",
       "    root.Bokeh.embed.embed_items_notebook(docs_json, render_items);\n",
       "  }\n",
       "  if (root.Bokeh !== undefined && root.Bokeh.Panel !== undefined) {\n",
       "    embed_document(root);\n",
       "  } else {\n",
       "    var attempts = 0;\n",
       "    var timer = setInterval(function(root) {\n",
       "      if (root.Bokeh !== undefined && root.Bokeh.Panel !== undefined) {\n",
       "        clearInterval(timer);\n",
       "        embed_document(root);\n",
       "      } else if (document.readyState == \"complete\") {\n",
       "        attempts++;\n",
       "        if (attempts > 200) {\n",
       "          clearInterval(timer);\n",
       "          console.log(\"Bokeh: ERROR: Unable to run BokehJS code because BokehJS library is missing\");\n",
       "        }\n",
       "      }\n",
       "    }, 25, root)\n",
       "  }\n",
       "})(window);</script>"
      ],
      "text/plain": [
       ":Curve   [k]   (SSE Distance)"
      ]
     },
     "execution_count": 246,
     "metadata": {
      "application/vnd.holoviews_exec.v0+json": {
       "id": "2011"
      }
     },
     "output_type": "execute_result"
    }
   ],
   "source": [
    "inertia = []\n",
    "k = list(range(1, 11))\n",
    "\n",
    "# Calculate the inertia for the range of k values\n",
    "for i in k:\n",
    "    km = KMeans(n_clusters=i, random_state=0)\n",
    "    km.fit(crypto_pca_df)\n",
    "    inertia.append(km.inertia_)\n",
    "\n",
    "# Create the Elbow Curve using hvPlot\n",
    "elbow_data = {\"k\": k, \"SSE Distance\": inertia}\n",
    "df_elbow = pd.DataFrame(elbow_data)\n",
    "df_elbow.hvplot.line(x='k', y='SSE Distance', xticks=k, title=\"Elbow Curve\")\n"
   ]
  },
  {
   "cell_type": "markdown",
   "metadata": {},
   "source": [
    "Running K-Means with `k=4` "
   ]
  },
  {
   "cell_type": "code",
   "execution_count": 247,
   "metadata": {},
   "outputs": [
    {
     "data": {
      "text/html": [
       "<div>\n",
       "<style scoped>\n",
       "    .dataframe tbody tr th:only-of-type {\n",
       "        vertical-align: middle;\n",
       "    }\n",
       "\n",
       "    .dataframe tbody tr th {\n",
       "        vertical-align: top;\n",
       "    }\n",
       "\n",
       "    .dataframe thead th {\n",
       "        text-align: right;\n",
       "    }\n",
       "</style>\n",
       "<table border=\"1\" class=\"dataframe\">\n",
       "  <thead>\n",
       "    <tr style=\"text-align: right;\">\n",
       "      <th></th>\n",
       "      <th>PC1</th>\n",
       "      <th>PC2</th>\n",
       "      <th>PC3</th>\n",
       "      <th>Class</th>\n",
       "    </tr>\n",
       "  </thead>\n",
       "  <tbody>\n",
       "    <tr>\n",
       "      <th>0</th>\n",
       "      <td>1.733846</td>\n",
       "      <td>-0.071925</td>\n",
       "      <td>-0.376177</td>\n",
       "      <td>0</td>\n",
       "    </tr>\n",
       "    <tr>\n",
       "      <th>1</th>\n",
       "      <td>1.821552</td>\n",
       "      <td>-0.051065</td>\n",
       "      <td>-0.358766</td>\n",
       "      <td>0</td>\n",
       "    </tr>\n",
       "    <tr>\n",
       "      <th>2</th>\n",
       "      <td>1.674582</td>\n",
       "      <td>-0.058688</td>\n",
       "      <td>-0.340103</td>\n",
       "      <td>0</td>\n",
       "    </tr>\n",
       "    <tr>\n",
       "      <th>3</th>\n",
       "      <td>1.569885</td>\n",
       "      <td>-0.057774</td>\n",
       "      <td>-0.315706</td>\n",
       "      <td>0</td>\n",
       "    </tr>\n",
       "    <tr>\n",
       "      <th>4</th>\n",
       "      <td>1.458868</td>\n",
       "      <td>-0.064438</td>\n",
       "      <td>-0.303195</td>\n",
       "      <td>0</td>\n",
       "    </tr>\n",
       "  </tbody>\n",
       "</table>\n",
       "</div>"
      ],
      "text/plain": [
       "        PC1       PC2       PC3  Class\n",
       "0  1.733846 -0.071925 -0.376177      0\n",
       "1  1.821552 -0.051065 -0.358766      0\n",
       "2  1.674582 -0.058688 -0.340103      0\n",
       "3  1.569885 -0.057774 -0.315706      0\n",
       "4  1.458868 -0.064438 -0.303195      0"
      ]
     },
     "execution_count": 247,
     "metadata": {},
     "output_type": "execute_result"
    }
   ],
   "source": [
    "# Initialize the K-Means model\n",
    "km_model = KMeans(n_clusters=4, random_state=0)\n",
    "\n",
    "# Fit the model\n",
    "km_model.fit(crypto_pca_df)\n",
    "\n",
    "# Predict clusters\n",
    "km_predictions = km_model.predict(crypto_pca_df)\n",
    "\n",
    "# Create a new DataFrame including predicted clusters and cryptocurrencies features\n",
    "crypto_pca_df['Class'] = km_model.labels_\n",
    "\n",
    "crypto_pca_df.head()"
   ]
  },
  {
   "cell_type": "code",
   "execution_count": 248,
   "metadata": {},
   "outputs": [
    {
     "data": {
      "text/html": [
       "<div>\n",
       "<style scoped>\n",
       "    .dataframe tbody tr th:only-of-type {\n",
       "        vertical-align: middle;\n",
       "    }\n",
       "\n",
       "    .dataframe tbody tr th {\n",
       "        vertical-align: top;\n",
       "    }\n",
       "\n",
       "    .dataframe thead th {\n",
       "        text-align: right;\n",
       "    }\n",
       "</style>\n",
       "<table border=\"1\" class=\"dataframe\">\n",
       "  <thead>\n",
       "    <tr style=\"text-align: right;\">\n",
       "      <th></th>\n",
       "      <th>Algorithm</th>\n",
       "      <th>ProofType</th>\n",
       "      <th>TotalCoinsMined</th>\n",
       "      <th>CirculatingSupply</th>\n",
       "      <th>PC1</th>\n",
       "      <th>PC2</th>\n",
       "      <th>PC3</th>\n",
       "      <th>Class</th>\n",
       "      <th>CoinName</th>\n",
       "    </tr>\n",
       "  </thead>\n",
       "  <tbody>\n",
       "    <tr>\n",
       "      <th>0</th>\n",
       "      <td>39</td>\n",
       "      <td>10</td>\n",
       "      <td>6168359833.8311</td>\n",
       "      <td>0</td>\n",
       "      <td>1.733846</td>\n",
       "      <td>-0.071925</td>\n",
       "      <td>-0.376177</td>\n",
       "      <td>0</td>\n",
       "      <td>NuShares</td>\n",
       "    </tr>\n",
       "    <tr>\n",
       "      <th>1</th>\n",
       "      <td>56</td>\n",
       "      <td>15</td>\n",
       "      <td>190011.705975</td>\n",
       "      <td>0</td>\n",
       "      <td>1.821552</td>\n",
       "      <td>-0.051065</td>\n",
       "      <td>-0.358766</td>\n",
       "      <td>0</td>\n",
       "      <td>Triangles Coin</td>\n",
       "    </tr>\n",
       "    <tr>\n",
       "      <th>2</th>\n",
       "      <td>49</td>\n",
       "      <td>14</td>\n",
       "      <td>872830</td>\n",
       "      <td>0</td>\n",
       "      <td>1.674582</td>\n",
       "      <td>-0.058688</td>\n",
       "      <td>-0.340103</td>\n",
       "      <td>0</td>\n",
       "      <td>CometCoin</td>\n",
       "    </tr>\n",
       "    <tr>\n",
       "      <th>3</th>\n",
       "      <td>49</td>\n",
       "      <td>15</td>\n",
       "      <td>1000000000</td>\n",
       "      <td>0</td>\n",
       "      <td>1.569885</td>\n",
       "      <td>-0.057774</td>\n",
       "      <td>-0.315706</td>\n",
       "      <td>0</td>\n",
       "      <td>OpenChat</td>\n",
       "    </tr>\n",
       "    <tr>\n",
       "      <th>4</th>\n",
       "      <td>43</td>\n",
       "      <td>14</td>\n",
       "      <td>75305667.453989</td>\n",
       "      <td>0</td>\n",
       "      <td>1.458868</td>\n",
       "      <td>-0.064438</td>\n",
       "      <td>-0.303195</td>\n",
       "      <td>0</td>\n",
       "      <td>Quantum Resistant Ledger</td>\n",
       "    </tr>\n",
       "    <tr>\n",
       "      <th>...</th>\n",
       "      <td>...</td>\n",
       "      <td>...</td>\n",
       "      <td>...</td>\n",
       "      <td>...</td>\n",
       "      <td>...</td>\n",
       "      <td>...</td>\n",
       "      <td>...</td>\n",
       "      <td>...</td>\n",
       "      <td>...</td>\n",
       "    </tr>\n",
       "    <tr>\n",
       "      <th>287</th>\n",
       "      <td>18</td>\n",
       "      <td>14</td>\n",
       "      <td>11796097.2008</td>\n",
       "      <td>0</td>\n",
       "      <td>0.560057</td>\n",
       "      <td>-0.088399</td>\n",
       "      <td>-0.149409</td>\n",
       "      <td>0</td>\n",
       "      <td>ZCash</td>\n",
       "    </tr>\n",
       "    <tr>\n",
       "      <th>288</th>\n",
       "      <td>21</td>\n",
       "      <td>25</td>\n",
       "      <td>81290250.586884</td>\n",
       "      <td>0</td>\n",
       "      <td>-0.483752</td>\n",
       "      <td>-0.075476</td>\n",
       "      <td>0.100504</td>\n",
       "      <td>1</td>\n",
       "      <td>Metaverse</td>\n",
       "    </tr>\n",
       "    <tr>\n",
       "      <th>289</th>\n",
       "      <td>13</td>\n",
       "      <td>4</td>\n",
       "      <td>1122382283.37</td>\n",
       "      <td>0</td>\n",
       "      <td>1.427264</td>\n",
       "      <td>-0.102324</td>\n",
       "      <td>-0.362622</td>\n",
       "      <td>0</td>\n",
       "      <td>Oxycoin</td>\n",
       "    </tr>\n",
       "    <tr>\n",
       "      <th>290</th>\n",
       "      <td>42</td>\n",
       "      <td>15</td>\n",
       "      <td>67549049.835228</td>\n",
       "      <td>0</td>\n",
       "      <td>1.318218</td>\n",
       "      <td>-0.064483</td>\n",
       "      <td>-0.272646</td>\n",
       "      <td>0</td>\n",
       "      <td>Private Instant Verified Transaction</td>\n",
       "    </tr>\n",
       "    <tr>\n",
       "      <th>291</th>\n",
       "      <td>41</td>\n",
       "      <td>7</td>\n",
       "      <td>293735369.623202</td>\n",
       "      <td>0</td>\n",
       "      <td>2.119841</td>\n",
       "      <td>-0.072748</td>\n",
       "      <td>-0.461671</td>\n",
       "      <td>0</td>\n",
       "      <td>Poa Network</td>\n",
       "    </tr>\n",
       "  </tbody>\n",
       "</table>\n",
       "<p>292 rows × 9 columns</p>\n",
       "</div>"
      ],
      "text/plain": [
       "     Algorithm  ProofType   TotalCoinsMined CirculatingSupply       PC1  \\\n",
       "0           39         10   6168359833.8311                 0  1.733846   \n",
       "1           56         15     190011.705975                 0  1.821552   \n",
       "2           49         14            872830                 0  1.674582   \n",
       "3           49         15        1000000000                 0  1.569885   \n",
       "4           43         14   75305667.453989                 0  1.458868   \n",
       "..         ...        ...               ...               ...       ...   \n",
       "287         18         14     11796097.2008                 0  0.560057   \n",
       "288         21         25   81290250.586884                 0 -0.483752   \n",
       "289         13          4     1122382283.37                 0  1.427264   \n",
       "290         42         15   67549049.835228                 0  1.318218   \n",
       "291         41          7  293735369.623202                 0  2.119841   \n",
       "\n",
       "          PC2       PC3  Class                              CoinName  \n",
       "0   -0.071925 -0.376177      0                              NuShares  \n",
       "1   -0.051065 -0.358766      0                        Triangles Coin  \n",
       "2   -0.058688 -0.340103      0                             CometCoin  \n",
       "3   -0.057774 -0.315706      0                              OpenChat  \n",
       "4   -0.064438 -0.303195      0              Quantum Resistant Ledger  \n",
       "..        ...       ...    ...                                   ...  \n",
       "287 -0.088399 -0.149409      0                                 ZCash  \n",
       "288 -0.075476  0.100504      1                             Metaverse  \n",
       "289 -0.102324 -0.362622      0                               Oxycoin  \n",
       "290 -0.064483 -0.272646      0  Private Instant Verified Transaction  \n",
       "291 -0.072748 -0.461671      0                           Poa Network  \n",
       "\n",
       "[292 rows x 9 columns]"
      ]
     },
     "execution_count": 248,
     "metadata": {},
     "output_type": "execute_result"
    }
   ],
   "source": [
    "#Reset index to make it easier to concat df below\n",
    "crypto_df_clean = crypto_df_clean.reset_index(drop=True) \n",
    "coin_name = coin_name.reset_index(drop=True)\n",
    "\n",
    "# Combined PCA DataFrame with original Features DataFrame\n",
    "combined_df = pd.concat([crypto_df_clean, crypto_pca_df, coin_name], axis=\"columns\", join=\"inner\")\n",
    "\n",
    "#Re-apply index after both DataFrames have been concatnated\n",
    "#combined_df.set_index(\"index\", inplace=True)\n",
    "combined_df"
   ]
  },
  {
   "cell_type": "markdown",
   "metadata": {},
   "source": [
    "### Visualizing Results\n",
    "\n",
    "#### 3D-Scatter with Clusters"
   ]
  },
  {
   "cell_type": "code",
   "execution_count": 249,
   "metadata": {},
   "outputs": [
    {
     "data": {
      "application/vnd.plotly.v1+json": {
       "config": {
        "plotlyServerURL": "https://plot.ly"
       },
       "data": [
        {
         "customdata": [
          [
           39
          ],
          [
           56
          ],
          [
           49
          ],
          [
           49
          ],
          [
           43
          ],
          [
           14
          ],
          [
           54
          ],
          [
           18
          ],
          [
           26
          ],
          [
           14
          ],
          [
           44
          ],
          [
           40
          ],
          [
           58
          ],
          [
           9
          ],
          [
           57
          ],
          [
           24
          ],
          [
           44
          ],
          [
           38
          ],
          [
           21
          ],
          [
           42
          ],
          [
           49
          ],
          [
           44
          ],
          [
           47
          ],
          [
           18
          ],
          [
           21
          ],
          [
           44
          ],
          [
           53
          ],
          [
           44
          ],
          [
           49
          ],
          [
           44
          ],
          [
           51
          ],
          [
           51
          ],
          [
           33
          ],
          [
           57
          ],
          [
           18
          ],
          [
           51
          ],
          [
           36
          ],
          [
           56
          ],
          [
           12
          ],
          [
           49
          ],
          [
           21
          ],
          [
           18
          ],
          [
           9
          ],
          [
           26
          ],
          [
           3
          ],
          [
           17
          ],
          [
           49
          ],
          [
           49
          ],
          [
           39
          ],
          [
           56
          ],
          [
           10
          ],
          [
           7
          ],
          [
           44
          ],
          [
           49
          ],
          [
           39
          ],
          [
           13
          ],
          [
           1
          ],
          [
           33
          ],
          [
           49
          ],
          [
           51
          ],
          [
           53
          ],
          [
           15
          ],
          [
           51
          ],
          [
           13
          ],
          [
           49
          ],
          [
           52
          ],
          [
           49
          ],
          [
           46
          ],
          [
           56
          ],
          [
           8
          ],
          [
           44
          ],
          [
           43
          ],
          [
           21
          ],
          [
           18
          ],
          [
           49
          ],
          [
           29
          ],
          [
           19
          ],
          [
           31
          ],
          [
           33
          ],
          [
           48
          ],
          [
           44
          ],
          [
           39
          ],
          [
           54
          ],
          [
           49
          ],
          [
           28
          ],
          [
           55
          ],
          [
           8
          ],
          [
           49
          ],
          [
           49
          ],
          [
           13
          ],
          [
           38
          ],
          [
           56
          ],
          [
           45
          ],
          [
           49
          ],
          [
           21
          ],
          [
           18
          ],
          [
           39
          ],
          [
           56
          ],
          [
           13
          ],
          [
           16
          ],
          [
           18
          ],
          [
           44
          ],
          [
           44
          ],
          [
           18
          ],
          [
           44
          ],
          [
           50
          ],
          [
           49
          ],
          [
           42
          ],
          [
           30
          ],
          [
           10
          ],
          [
           54
          ],
          [
           21
          ],
          [
           37
          ],
          [
           45
          ],
          [
           54
          ],
          [
           10
          ],
          [
           49
          ],
          [
           13
          ],
          [
           20
          ],
          [
           32
          ],
          [
           13
          ],
          [
           23
          ],
          [
           11
          ],
          [
           49
          ],
          [
           49
          ],
          [
           39
          ],
          [
           59
          ],
          [
           49
          ],
          [
           18
          ],
          [
           13
          ],
          [
           42
          ],
          [
           41
          ]
         ],
         "hovertemplate": "<b>%{hovertext}</b><br><br>Class=%{marker.color}<br>PC1=%{x}<br>PC2=%{y}<br>PC3=%{z}<br>Algorithm=%{customdata[0]}<extra></extra>",
         "hovertext": [
          "NuShares",
          "Triangles Coin",
          "CometCoin",
          "OpenChat",
          "Quantum Resistant Ledger",
          "Amber",
          "Pura",
          "Bitcoin Private",
          "Aidos Kuneen",
          "DAPS Coin",
          "Foin",
          "Zano",
          "VEIL",
          "MimbleWimbleCoin",
          "Ravencoin Classic",
          "XDNA",
          "Wibcoin",
          "TokenPay",
          "EtherZero",
          "QuarkCoin",
          "United Emirates Coin",
          "Arweave",
          "MAPS",
          "Bithereum",
          "BeforeCoinMarketCap",
          "Smart Bitcoin",
          "VEED",
          "UnitedBitcoin",
          "VeriCoin",
          "Emercoin",
          "Novax Coin",
          "TRONbetLive",
          "Circuits of Value",
          "Genix",
          "Beam",
          "Didcoin",
          "FeatherCoin",
          "Stratis",
          "AEON",
          "Canada eCoin",
          "Expanse",
          "TENT",
          "Grin",
          "Internet Node token",
          "SafePal",
          "Nervos Network",
          "Reddcoin",
          "PotCoin",
          "Nxt",
          "CloakCoin",
          "Beldex",
          "Handshake",
          "REDi",
          "ViaCoin",
          "Anchor Protocol",
          "ARK",
          "Binance Coin",
          "DigiByte",
          "Auroracoin",
          "Sun Token",
          "VeChain",
          "Ubiq",
          "Sun Token",
          "Shift",
          "Primas",
          "Ontology",
          "NovaCoin",
          "Nexus",
          "NavCoin",
          "Nano",
          "Namecoin",
          "Monero",
          "Ethereum Name Service",
          "Zelcash",
          "WhiteCoin",
          "Waves",
          "Aion",
          "Vertcoin",
          "Verge",
          "V Systems",
          "SysCoin",
          "Steem",
          "Stakenet",
          "Gulden",
          "SmartCash",
          "SibCoin",
          "Siacoin",
          "SaluS",
          "SafeExchangeCoin",
          "Rise",
          "QTUM",
          "Bitcoin Diamond",
          "Bitshares",
          "Dogecoin",
          "Ethereum",
          "BitcoinZ",
          "Validity",
          "ABBC Coin",
          "Achain",
          "Acute Angle Cloud",
          "Horizen",
          "Bitcoin",
          "Bitcoin Cash",
          "Bitcoin Gold",
          "Bitcoin SV",
          "BitTorrent",
          "BlackCoin",
          "BlockNet",
          "ICON Project",
          "ByteCoin",
          "IOCoin",
          "Callisto Network",
          "Cardano",
          "Kcash",
          "Dash",
          "Dero",
          "Einsteinium",
          "EOS",
          "Ethereum Classic",
          "Firo",
          "Lisk",
          "Groestlcoin",
          "Haven Protocol",
          "Litecoin",
          "MonaCoin",
          "Neblio",
          "NEO",
          "MegaCoin",
          "ZCash",
          "Oxycoin",
          "Private Instant Verified Transaction",
          "Poa Network"
         ],
         "legendgroup": "0",
         "marker": {
          "color": [
           0,
           0,
           0,
           0,
           0,
           0,
           0,
           0,
           0,
           0,
           0,
           0,
           0,
           0,
           0,
           0,
           0,
           0,
           0,
           0,
           0,
           0,
           0,
           0,
           0,
           0,
           0,
           0,
           0,
           0,
           0,
           0,
           0,
           0,
           0,
           0,
           0,
           0,
           0,
           0,
           0,
           0,
           0,
           0,
           0,
           0,
           0,
           0,
           0,
           0,
           0,
           0,
           0,
           0,
           0,
           0,
           0,
           0,
           0,
           0,
           0,
           0,
           0,
           0,
           0,
           0,
           0,
           0,
           0,
           0,
           0,
           0,
           0,
           0,
           0,
           0,
           0,
           0,
           0,
           0,
           0,
           0,
           0,
           0,
           0,
           0,
           0,
           0,
           0,
           0,
           0,
           0,
           0,
           0,
           0,
           0,
           0,
           0,
           0,
           0,
           0,
           0,
           0,
           0,
           0,
           0,
           0,
           0,
           0,
           0,
           0,
           0,
           0,
           0,
           0,
           0,
           0,
           0,
           0,
           0,
           0,
           0,
           0,
           0,
           0,
           0,
           0,
           0,
           0,
           0,
           0,
           0
          ],
          "coloraxis": "coloraxis",
          "symbol": "circle"
         },
         "mode": "markers",
         "name": "0",
         "scene": "scene",
         "showlegend": true,
         "type": "scatter3d",
         "x": [
          1.7338455909702102,
          1.8215520122143691,
          1.6745820448237216,
          1.569885128327507,
          1.458867572920698,
          1.149126040862919,
          1.8543441047429086,
          0.5600572733247633,
          0.8476765691954624,
          1.882004456336422,
          0.3431539034461701,
          1.2463152760592489,
          1.8934568361820432,
          0.23648556547022703,
          1.962201340694421,
          0.6710748287315726,
          1.4948199849045152,
          1.6978931789863707,
          0.6679145092762754,
          1.3182182444406452,
          0.522915963365357,
          1.4948271739417711,
          2.1261618033371223,
          0.5600572733247633,
          0.5632175927800602,
          1.4948199849045347,
          0.6667256113007046,
          1.4948199849045347,
          1.7792789613199367,
          1.3901230684083197,
          0.5948207873330317,
          0.5948207873330317,
          1.099343453082324,
          1.962201340694421,
          0.5600572733247633,
          0.5948207873330118,
          1.207200689033836,
          2.3450365946954435,
          0.34434280142173895,
          3.0356419592745163,
          0.6679145092762754,
          0.5600572733247633,
          0.23648556547022703,
          1.7899488176613971,
          0.23016492655963247,
          0.5241048613409254,
          1.5698851283275062,
          1.5698851283275066,
          1.6291486744739934,
          1.8215520122143682,
          0.27243797745406434,
          0.1645807415025522,
          0.34315390344616986,
          1.6745820448237216,
          1.733845590970208,
          1.427264378367726,
          1.2052292675541076,
          1.0993434530823236,
          1.5698851283275066,
          0.5948207873330317,
          1.3996040267742098,
          0.45220003737325104,
          0.5948207873330313,
          1.427264378367726,
          1.6745820448237216,
          2.201226946760094,
          1.5698851283275066,
          1.2526340593835648,
          1.8215520122143682,
          0.20053315348638948,
          1.4948199849045347,
          1.458867572920698,
          0.14442992679520053,
          0.4553603568285483,
          1.5698851283275066,
          1.7931091371166943,
          0.49131276881238567,
          1.027438629114649,
          1.0993434530823236,
          1.0104481338625941,
          1.4948199849045347,
          1.3150579249853482,
          1.1214656892694037,
          1.6745820448237214,
          0.9195813931631369,
          1.8902965167267458,
          0.20053315348638848,
          1.5698851283275066,
          2.3027635438010114,
          0.7990828793904363,
          1.6978931789863707,
          1.8215520122143682,
          2.577741561850522,
          1.6935174068069614,
          0.6679314890025281,
          0.5600572733247631,
          1.733846228319473,
          0.7745828472522186,
          1.427264378367726,
          1.6398185308154534,
          0.5600572733247633,
          1.4948226927327,
          1.494822696640469,
          0.5600572733247633,
          1.49482269614037,
          2.757503621769689,
          2.093369710808582,
          1.3182182444406452,
          1.4102738831156718,
          0.27243797745406073,
          1.7496471882466937,
          0.6679145092762754,
          1.6666469494757983,
          0.6931970649186525,
          1.6449517690255393,
          0.2724395548497301,
          1.6745820448237216,
          1.4274134955255644,
          0.6319807056431556,
          1.0633910410984864,
          1.427264378367726,
          0.7398193332439502,
          0.30839038943790176,
          1.6745919413502097,
          1.6745820448237216,
          0.16339184352698358,
          0.8824400832037309,
          1.6745820448237216,
          0.5600572733247633,
          1.427264378367726,
          1.3182182444406452,
          2.1198411644265276
         ],
         "y": [
          -0.07192521371995164,
          -0.051065427605011655,
          -0.05868767456717767,
          -0.05777432432007669,
          -0.06443815746580507,
          -0.0986256098721996,
          -0.05389560548498655,
          -0.08839850287675621,
          -0.08073119234525183,
          -0.10501906160188255,
          -0.05343289093128067,
          -0.0663934287058255,
          -0.04914859997213559,
          -0.09702422722469863,
          -0.051020364035671055,
          -0.08173466973102918,
          -0.0634797436492312,
          -0.07288362753639034,
          -0.08552326142744206,
          -0.06448322103514433,
          -0.04864082184909045,
          -0.06345409614632404,
          -0.06517125343554653,
          -0.08839850287675621,
          -0.08460991118034215,
          -0.06347974364936701,
          -0.044807166583324676,
          -0.06347974364936701,
          -0.059601024814275566,
          -0.06256639340226824,
          -0.04672399421621434,
          -0.0467239942162142,
          -0.07402229563018528,
          -0.0510203640356724,
          -0.08839850287675621,
          -0.046723994216077175,
          -0.07114705418087135,
          -0.055632178840505475,
          -0.09414898577538448,
          -0.07056122777946064,
          -0.08552326142744207,
          -0.08839850287675621,
          -0.09702422722469861,
          -0.08895134456914058,
          -0.10460141061752436,
          -0.08935691669318957,
          -0.05777432432007388,
          -0.05777432432007802,
          -0.07101186347285338,
          -0.0510654276050117,
          -0.0960658134082604,
          -0.09894105485757464,
          -0.05343289093127932,
          -0.05868767456717678,
          -0.07192521371995214,
          -0.102324074429934,
          -0.11565174072138806,
          -0.07402229563018349,
          -0.05777432432007804,
          -0.04672399421621434,
          -0.0512006183130179,
          -0.09127374432607033,
          -0.04672399421621162,
          -0.102324074429934,
          -0.05868767456717677,
          -0.05946583410625755,
          -0.05777432432007804,
          -0.05882286527519465,
          -0.05106542760501169,
          -0.09798264104113664,
          -0.06347974364936701,
          -0.06443815746580507,
          -0.08095651019194827,
          -0.08748515262965739,
          -0.057774324320077904,
          -0.08516275287272776,
          -0.08652673881321933,
          -0.07593912326306161,
          -0.07402229563018327,
          -0.05416598690102149,
          -0.06347974364936693,
          -0.06827181273155719,
          -0.04750215375529522,
          -0.05868767456717671,
          -0.07881436471237538,
          -0.05293719166854852,
          -0.09798264104112997,
          -0.05777432432007804,
          -0.06416777604976903,
          -0.09684397294734146,
          -0.07288362753639033,
          -0.051065427605011676,
          -0.07165483230391617,
          0.008865843120685305,
          -0.08546268480689667,
          -0.08839850287675478,
          -0.07192293992212985,
          -0.041931925134023926,
          -0.10232407442993388,
          -0.1003621832277185,
          -0.08839850287675621,
          -0.06347008324160691,
          -0.06347006930030759,
          -0.08839850287675621,
          -0.06347007108445282,
          -0.06686276322159189,
          -0.0623410755555718,
          -0.06448322103514435,
          -0.08055093806789457,
          -0.09606581340823553,
          -0.052982255237887806,
          -0.08552326142744165,
          -0.057052334283514326,
          -0.05521452785613877,
          -0.05206356333440126,
          -0.0960601859147858,
          -0.05868767456717676,
          -0.10179208626046987,
          -0.08641528836675315,
          -0.07498070944662356,
          -0.102324074429934,
          -0.08360643379456598,
          -0.09510739959182253,
          -0.058652367865474654,
          -0.05868767456717677,
          -0.05822496001347091,
          -0.03905668368470997,
          -0.05868767456717677,
          -0.08839850287675621,
          -0.10232407442993387,
          -0.06448322103514435,
          -0.07274843682837243
         ],
         "z": [
          -0.3761768613769478,
          -0.35876623283330705,
          -0.3401032116524387,
          -0.3157062249924249,
          -0.3031946335031132,
          -0.2955820790681262,
          -0.37086036011021106,
          -0.14940889121425444,
          -0.19862032874668922,
          -0.46636098568822076,
          -0.04097920993452758,
          -0.26033388116935624,
          -0.37106909221641576,
          -0.09404602399026525,
          -0.3893146491848751,
          -0.1619204827035678,
          -0.30934606319475855,
          -0.37002543168539237,
          -0.16786318028891747,
          -0.27264621715154613,
          -0.07173635839229935,
          -0.3093093483167553,
          -0.44978528556939434,
          -0.14940889121425444,
          -0.14346619362890548,
          -0.3093460631946675,
          -0.09634207715852582,
          -0.3093460631946675,
          -0.364500198312452,
          -0.28494907653465484,
          -0.08403921777540803,
          -0.08403921777540808,
          -0.24168033658756985,
          -0.38931464918487413,
          -0.14940889121425444,
          -0.08403921777549993,
          -0.2601346256622327,
          -0.48075116613337066,
          -0.11250031306492825,
          -0.6572640382326047,
          -0.16786318028891745,
          -0.14940889121425444,
          -0.09404602399026527,
          -0.4181932086868038,
          -0.10593141916096462,
          -0.1432574615227032,
          -0.31570622499242934,
          -0.31570622499242657,
          -0.351779874716934,
          -0.358766232833307,
          -0.10019745368181973,
          -0.08174316460715658,
          -0.04097920993452849,
          -0.3401032116524393,
          -0.3761768613769468,
          -0.3626216093566098,
          -0.33759842637798304,
          -0.24168033658757104,
          -0.31570622499242657,
          -0.08403921777540803,
          -0.2671209837786136,
          -0.1309546021395913,
          -0.08403921777540982,
          -0.3626216093566098,
          -0.3401032116524393,
          -0.4561454473671534,
          -0.31570622499242657,
          -0.24845796259773806,
          -0.358766232833307,
          -0.08789459429871087,
          -0.3093460631946675,
          -0.3031946335031132,
          -0.045878246988853844,
          -0.12501190455424172,
          -0.3157062249924266,
          -0.4122505111014541,
          -0.13116333424579607,
          -0.22937747720446094,
          -0.24168033658757118,
          -0.18756986200080913,
          -0.30934606319466756,
          -0.2785889147368958,
          -0.200081453490122,
          -0.34010321165243934,
          -0.21092318812979816,
          -0.37701178980176536,
          -0.08789459429871534,
          -0.31570622499242657,
          -0.4864851316125158,
          -0.21623968939653357,
          -0.3700254316853924,
          -0.358766232833307,
          -0.5594673594863494,
          -0.2433990938950281,
          -0.16777646372926122,
          -0.1494088912142554,
          -0.3761736063930479,
          -0.11479636623317992,
          -0.3626216093566099,
          -0.4054728850912858,
          -0.14940889121425444,
          -0.30933223414117644,
          -0.309332214183947,
          -0.14940889121425444,
          -0.3093322167379841,
          -0.5902245079442109,
          -0.43769115829249017,
          -0.27264621715154613,
          -0.3208139941529576,
          -0.10019745368183638,
          -0.3464633734501983,
          -0.16786318028891775,
          -0.33983922386362203,
          -0.1203215996061202,
          -0.32205874010965696,
          -0.10018939782018142,
          -0.3401032116524393,
          -0.3618600583915939,
          -0.16161671654728008,
          -0.23552890689601533,
          -0.3626216093566098,
          -0.18016603967202616,
          -0.10634888337337396,
          -0.3400526694518864,
          -0.3401032116524393,
          -0.010222061476755879,
          -0.13325065530784286,
          -0.3401032116524393,
          -0.14940889121425444,
          -0.3626216093566099,
          -0.27264621715154613,
          -0.46167068074009354
         ]
        },
        {
         "customdata": [
          [
           34
          ],
          [
           4
          ],
          [
           33
          ],
          [
           35
          ],
          [
           13
          ],
          [
           25
          ],
          [
           3
          ],
          [
           1
          ],
          [
           3
          ],
          [
           3
          ],
          [
           3
          ],
          [
           3
          ],
          [
           3
          ],
          [
           3
          ],
          [
           3
          ],
          [
           3
          ],
          [
           3
          ],
          [
           3
          ],
          [
           3
          ],
          [
           3
          ],
          [
           3
          ],
          [
           13
          ],
          [
           3
          ],
          [
           3
          ],
          [
           3
          ],
          [
           3
          ],
          [
           3
          ],
          [
           3
          ],
          [
           3
          ],
          [
           3
          ],
          [
           3
          ],
          [
           3
          ],
          [
           3
          ],
          [
           3
          ],
          [
           3
          ],
          [
           3
          ],
          [
           3
          ],
          [
           3
          ],
          [
           3
          ],
          [
           3
          ],
          [
           0
          ],
          [
           22
          ],
          [
           3
          ],
          [
           3
          ],
          [
           3
          ],
          [
           3
          ],
          [
           3
          ],
          [
           3
          ],
          [
           3
          ],
          [
           3
          ],
          [
           3
          ],
          [
           3
          ],
          [
           3
          ],
          [
           3
          ],
          [
           3
          ],
          [
           3
          ],
          [
           3
          ],
          [
           21
          ],
          [
           3
          ],
          [
           3
          ],
          [
           3
          ],
          [
           3
          ],
          [
           3
          ],
          [
           3
          ],
          [
           3
          ],
          [
           3
          ],
          [
           3
          ],
          [
           3
          ],
          [
           3
          ],
          [
           2
          ],
          [
           3
          ],
          [
           3
          ],
          [
           3
          ],
          [
           3
          ],
          [
           3
          ],
          [
           3
          ],
          [
           3
          ],
          [
           3
          ],
          [
           3
          ],
          [
           3
          ],
          [
           3
          ],
          [
           3
          ],
          [
           3
          ],
          [
           3
          ],
          [
           3
          ],
          [
           3
          ],
          [
           3
          ],
          [
           3
          ],
          [
           3
          ],
          [
           3
          ],
          [
           3
          ],
          [
           3
          ],
          [
           3
          ],
          [
           3
          ],
          [
           3
          ],
          [
           3
          ],
          [
           3
          ],
          [
           3
          ],
          [
           3
          ],
          [
           3
          ],
          [
           3
          ],
          [
           3
          ],
          [
           3
          ],
          [
           3
          ],
          [
           3
          ],
          [
           3
          ],
          [
           3
          ],
          [
           3
          ],
          [
           3
          ],
          [
           3
          ],
          [
           3
          ],
          [
           3
          ],
          [
           3
          ],
          [
           3
          ],
          [
           3
          ],
          [
           3
          ],
          [
           3
          ],
          [
           18
          ],
          [
           3
          ],
          [
           3
          ],
          [
           3
          ],
          [
           3
          ],
          [
           3
          ],
          [
           3
          ],
          [
           3
          ],
          [
           3
          ],
          [
           3
          ],
          [
           3
          ],
          [
           3
          ],
          [
           3
          ],
          [
           3
          ],
          [
           3
          ],
          [
           3
          ],
          [
           3
          ],
          [
           3
          ],
          [
           3
          ],
          [
           3
          ],
          [
           3
          ],
          [
           3
          ],
          [
           3
          ],
          [
           3
          ],
          [
           3
          ],
          [
           3
          ],
          [
           3
          ],
          [
           3
          ],
          [
           8
          ],
          [
           33
          ],
          [
           13
          ],
          [
           1
          ],
          [
           27
          ],
          [
           5
          ],
          [
           3
          ],
          [
           5
          ],
          [
           18
          ],
          [
           34
          ],
          [
           6
          ],
          [
           13
          ],
          [
           21
          ]
         ],
         "hovertemplate": "<b>%{hovertext}</b><br><br>Class=%{marker.color}<br>PC1=%{x}<br>PC2=%{y}<br>PC3=%{z}<br>Algorithm=%{customdata[0]}<extra></extra>",
         "hovertext": [
          "Nevula",
          "Swingby",
          "Revain",
          "NextDAO",
          "Tenset",
          "WeStarter",
          "YooShi",
          "BakeryToken",
          "IMPULSE by FDR",
          "Altura",
          "DekBox",
          "Less Network",
          "KingDoge",
          "SafeHamsters",
          "Yuang Coin",
          "Kiwigo",
          "Votechain",
          "Pea Farm",
          "SparkPoint Fuel",
          "Genshiro",
          "Binamon",
          "ModiHost",
          "MiniDOGE",
          "RealFevr",
          "MocktailSwap",
          "Effort Economy ",
          "QueenDex Coin",
          "Lion Token",
          "Artex",
          "TBCC",
          "xWIN Finance",
          "MContent",
          "Tokyo AU",
          "ShonToken",
          "Investelly token",
          "Binance Smart Chain Girl",
          "Daddy Doge",
          "Five7",
          "Diamond Boyz Coin",
          "Plant vs Undead Token",
          "Ergo",
          "ECOMI",
          "Coin98",
          "Safe Energy",
          "Trust Wallet Token",
          "Lanceria",
          "Teaswap Art",
          "Kaiken Shiba",
          "My DeFi Pet",
          "BunnyPark",
          "ApeSwap Finance",
          "Pancake Bunny",
          "Alpha Finance Lab",
          "Safe Star",
          "Pylon Eco Token",
          "Metahero",
          "Pig Finance",
          "Waltonchain",
          "Monsta Infinite",
          "Doggy",
          "Xiasi Inu",
          "Thetan Arena",
          "Nafter",
          "CryptoBlades",
          "CryptoZoon",
          "Binemon",
          "HoDooi.com",
          "Smaugs NFT",
          "Wall Street Games",
          "Honest",
          "Radio Caca",
          "Sishi Finance",
          "Feeder Finance",
          "Battle Pets",
          "Pacoca",
          "Pancake Hunny",
          "NFT Alley",
          "TEN",
          "Dehero Community Token",
          "Wheelers",
          "ShibaCash",
          "Longdrink Finance",
          "Eggplant Finance",
          "EIFI FINANCE",
          "TendieSwap",
          "CosmicSwap",
          "Vention",
          "WOWswap",
          "Betu",
          "Wenlambo",
          "Sheesh it is bussin bussin",
          "Pet Games",
          "CheCoin",
          "GemGuardian",
          "ForeverFOMO",
          "Knight War Spirits",
          "KRYZA Network",
          "Badger Sett Badger",
          "Portify",
          "DogeHouse Capital",
          "Bholdus Token",
          "Sphynx Token",
          "RugZombie",
          "LPI DAO",
          "Rainbow Token",
          "Step Hero",
          "Starpunk",
          "The Real Golden Inu",
          "Jade Currency",
          "Binamars",
          "BUMooN",
          "Loud Market",
          "DefiXBet",
          "RiceFarm",
          "BNB Cash",
          "Bogged Finance",
          "Dexit Finance",
          "Pirate Chain",
          "Roseon Finance",
          "BabyDoge",
          "Splinterlands",
          "CumRocket",
          "Lucky Lion",
          "OpenOcean",
          "SIL Finance Token V2",
          "Bonus Cake",
          "TrustFi Network Token",
          "gotEM",
          "Pitch Finance Token",
          "Torii Finance",
          "GOMA Finance",
          "GameFi",
          "Shell Token",
          "Pokmonsters",
          "Kalata Protocol",
          "NFT Art Finance",
          "Baby Floki Billionaire",
          "VelasPad",
          "Lazio Fan Token",
          "HarmonyPad",
          "YocoinYOCO",
          "JERITEX",
          "Australian Safe Shepherd",
          "TRONPAD",
          "AUREO",
          "Yee",
          "Wirex Token",
          "Worldwide Asset eXchange",
          "Phoenix Binance",
          "Ravencoin",
          "Decred",
          "Project Quantum",
          "HyperCash",
          "Komodo",
          "DeepBrain Chain",
          "DigitalNote",
          "High Performance Blockchain",
          "Metaverse"
         ],
         "legendgroup": "1",
         "marker": {
          "color": [
           1,
           1,
           1,
           1,
           1,
           1,
           1,
           1,
           1,
           1,
           1,
           1,
           1,
           1,
           1,
           1,
           1,
           1,
           1,
           1,
           1,
           1,
           1,
           1,
           1,
           1,
           1,
           1,
           1,
           1,
           1,
           1,
           1,
           1,
           1,
           1,
           1,
           1,
           1,
           1,
           1,
           1,
           1,
           1,
           1,
           1,
           1,
           1,
           1,
           1,
           1,
           1,
           1,
           1,
           1,
           1,
           1,
           1,
           1,
           1,
           1,
           1,
           1,
           1,
           1,
           1,
           1,
           1,
           1,
           1,
           1,
           1,
           1,
           1,
           1,
           1,
           1,
           1,
           1,
           1,
           1,
           1,
           1,
           1,
           1,
           1,
           1,
           1,
           1,
           1,
           1,
           1,
           1,
           1,
           1,
           1,
           1,
           1,
           1,
           1,
           1,
           1,
           1,
           1,
           1,
           1,
           1,
           1,
           1,
           1,
           1,
           1,
           1,
           1,
           1,
           1,
           1,
           1,
           1,
           1,
           1,
           1,
           1,
           1,
           1,
           1,
           1,
           1,
           1,
           1,
           1,
           1,
           1,
           1,
           1,
           1,
           1,
           1,
           1,
           1,
           1,
           1,
           1,
           1,
           1,
           1,
           1,
           1,
           1,
           1,
           1,
           1,
           1,
           1,
           1,
           1,
           1,
           1
          ],
          "coloraxis": "coloraxis",
          "symbol": "diamond"
         },
         "mode": "markers",
         "name": "1",
         "scene": "scene",
         "showlegend": true,
         "type": "scatter3d",
         "x": [
          -0.016370216392204096,
          -1.0949425759073248,
          -0.052322628376042436,
          0.019582195591633964,
          -0.7713708680527883,
          -0.33994192424673975,
          -1.130894987899169,
          -1.2027998118588366,
          -1.1308949878911623,
          -1.1308949878911623,
          -1.1308949878911623,
          -1.1308949878911623,
          -1.130894987910768,
          -1.1308949878912113,
          -1.130894987910768,
          -1.1308949878911623,
          -1.1308949878911623,
          -1.1308949878911623,
          -1.1308949878911623,
          -1.1308949878911623,
          -1.1308949878911623,
          -0.7713708680527883,
          -1.130894987905685,
          -1.1308949878911625,
          -1.1308949878911623,
          -1.1308949878911623,
          -1.1308949878911623,
          -1.1308949878911623,
          -1.1308949878911623,
          -1.1308949878911623,
          -1.1308949878911623,
          -1.1308949880097552,
          -1.130894987910768,
          -1.1308949878911625,
          -1.1308949878911623,
          -1.1308949878911623,
          -1.1308949879009558,
          -1.1308949878911623,
          -1.1308949878911623,
          -1.1308949878911623,
          -0.08708614238430945,
          -0.4136979404570935,
          -1.1308949878911623,
          -1.1308949878965981,
          -1.1308949878911623,
          -1.1308949878911623,
          -1.1308949878911623,
          -1.1308949935825339,
          -1.1308949878911623,
          -1.1308949878911623,
          -1.1308949878911623,
          -1.1308949878911623,
          -1.1308949878911623,
          -1.1308949879016876,
          -1.1308949878911623,
          -1.1308949878911625,
          -1.1308949878993169,
          -0.48375157218208936,
          -1.1308949878911623,
          -1.1308949878911623,
          -1.130894987900923,
          -1.1308949878911623,
          -1.1308949878911623,
          -1.1308949878911623,
          -1.1308949878911623,
          -1.1308949878911623,
          -1.1308949878911623,
          -1.1308949878911623,
          -1.1308949879103716,
          -1.1668473998749995,
          -1.1308949878911685,
          -1.1308949878911623,
          -1.1308949878911623,
          -1.1308949878911623,
          -1.1308949878911623,
          -1.1308949878911623,
          -1.1308949878911623,
          -1.1308949878911623,
          -1.1308949878911623,
          -1.1308949878911623,
          -1.130894987893976,
          -1.1308947917845902,
          -1.1308949878911623,
          -1.1308949878911623,
          -1.1308949878911623,
          -1.1308949878911623,
          -1.1308949878911623,
          -1.1308949878911623,
          -1.1308949878911623,
          -1.1308949878921404,
          -1.1308949878911623,
          -1.1308949878911623,
          -1.1308949878911643,
          -1.1308949878911623,
          -1.1308949878911623,
          -1.1308949878911623,
          -1.130894987891337,
          -1.1308949878911623,
          -1.1308949878911623,
          -1.1308949878911623,
          -1.1308949878911625,
          -1.1308949878911623,
          -1.1308949878911623,
          -1.1308949878911623,
          -1.130894987907471,
          -1.1308949878911623,
          -1.1308949878911623,
          -1.130894987899615,
          -1.1308949878911623,
          -1.1308949878911623,
          -1.1308949879039978,
          -1.1308949878911623,
          -1.1308949878911623,
          -1.1308949878911623,
          -1.1308949878911623,
          -1.1308949878911623,
          -1.1308949878911623,
          -0.3822149751411715,
          -1.1308949878911623,
          -1.130894993046586,
          -1.1308949878911623,
          -1.1308949878911623,
          -1.1308949878911623,
          -1.1308949878911623,
          -1.1308949878911623,
          -1.130894987891164,
          -1.1308949878911623,
          -1.1308949878911623,
          -1.1308949878911643,
          -1.1308949878911623,
          -1.130894987894762,
          -1.1308949878911623,
          -1.1308949878911623,
          -1.1308949878911623,
          -1.1308949878911623,
          -1.1308949884949793,
          -1.1308949879098626,
          -1.1308949878911623,
          -1.1308949878911623,
          -1.1308949878911623,
          -1.1308949878911623,
          -1.1308949878911623,
          -1.130894988087218,
          -1.1308949878911623,
          -1.1308949878911623,
          -0.9511329279719754,
          -0.052322628376040854,
          -0.7713708680527883,
          -1.2027998118588368,
          -0.26803710027906524,
          -0.012020998961337431,
          -1.1308949878911818,
          -0.012020998961337433,
          -0.48691189163738646,
          -0.01637021639220351,
          0.02393141302249973,
          -0.7713708680527883,
          -0.48375157218208936
         ],
         "y": [
          -0.0630170290956557,
          -0.09176944358880237,
          -0.06397544291208765,
          -0.06205861527922278,
          -0.08314371924086009,
          -0.07164275344360356,
          -0.09272785734978368,
          -0.09464468503811657,
          -0.09272785740524057,
          -0.09272785740524038,
          -0.09272785740524057,
          -0.09272785740524056,
          -0.09272785726945074,
          -0.0927278574049011,
          -0.09272785726945074,
          -0.09272785740524042,
          -0.09272785740524057,
          -0.09272785740524057,
          -0.09272785740524056,
          -0.09272785740524057,
          -0.09272785740524055,
          -0.08314371924085998,
          -0.09272785730465448,
          -0.0927278574052384,
          -0.09272785740524057,
          -0.09272785740524057,
          -0.09272785740524031,
          -0.09272785740523988,
          -0.09272785740524057,
          -0.09272785740524042,
          -0.09272785740524057,
          -0.09272785658385609,
          -0.09272785726945074,
          -0.09272785740523921,
          -0.09272785740524057,
          -0.09272785740524056,
          -0.09272785733740954,
          -0.09272785740524056,
          -0.09272785740524042,
          -0.09272785740524053,
          -0.10564995157264105,
          0.047141012893837264,
          -0.09272785740524057,
          -0.09272785736759111,
          -0.09272785740524042,
          -0.09272785740524052,
          -0.09272785740524049,
          -0.0927278179863073,
          -0.09272785740524057,
          -0.09272785740524057,
          -0.09272785740524057,
          -0.09272785740524057,
          -0.09272785740524042,
          -0.09272785733234028,
          -0.09272785740524057,
          -0.09272785740523924,
          -0.09272785734876061,
          -0.07547640870935574,
          -0.09272785740524053,
          -0.09272785740524003,
          -0.09272785733763703,
          -0.09272785740524052,
          -0.09272785740524042,
          -0.09272785740524057,
          -0.09272785740524042,
          -0.09272785740524044,
          -0.09272785740524042,
          -0.09272785740524057,
          -0.09272785727219575,
          -0.09368627122167855,
          -0.09272785740519722,
          -0.09272785740524057,
          -0.09272785740524057,
          -0.09272785740524055,
          -0.09272785740524057,
          -0.09272785740524057,
          -0.09272785740524057,
          -0.09272785740524057,
          -0.09272785740524057,
          -0.09272785740524057,
          -0.09272785738575166,
          -0.09272715777833108,
          -0.09272785740524057,
          -0.09272785740524056,
          -0.09272785740524057,
          -0.09272785740524057,
          -0.09272785740524048,
          -0.09272785740524057,
          -0.09272785740524044,
          -0.09272785739846529,
          -0.09272785740524052,
          -0.0927278574052404,
          -0.09272785740522699,
          -0.09272785740524057,
          -0.09272785740524057,
          -0.09272785740524052,
          -0.0927278574040295,
          -0.09272785740524057,
          -0.09272785740524057,
          -0.09272785740524057,
          -0.09272785740523921,
          -0.09272785740524042,
          -0.09272785740524056,
          -0.09272785740524057,
          -0.09272785729228482,
          -0.09272785740524057,
          -0.09272785740524048,
          -0.0927278573466942,
          -0.09272785740524057,
          -0.09272785740524057,
          -0.09272785731634123,
          -0.09272785740524057,
          -0.09272785740524057,
          -0.09272785740524057,
          -0.09272785740524055,
          -0.09272785740524057,
          -0.0927278574052402,
          -0.08017835065286735,
          -0.09272785740524057,
          -0.09272782169832924,
          -0.09272785740524052,
          -0.09272785740524038,
          -0.09272785740524057,
          -0.09272785740524042,
          -0.09272785740524057,
          -0.09272785740522711,
          -0.09272785740524057,
          -0.09272785740524053,
          -0.09272785740522699,
          -0.09272785740524057,
          -0.09272785738030866,
          -0.09272785740524057,
          -0.09272785740524057,
          -0.09272785740524057,
          -0.09272785740524056,
          -0.09272785322315093,
          -0.09272785727572015,
          -0.09272785740524056,
          -0.09272785740524057,
          -0.09272785740524045,
          -0.09272785740524057,
          -0.09272785740524057,
          -0.09272785604734225,
          -0.09272785740524048,
          -0.09272785740524057,
          -0.08793578832304898,
          -0.06397544291209864,
          -0.08314371924085961,
          -0.09464468503811622,
          -0.06972592581072606,
          -0.09994453224335206,
          -0.09272785740510477,
          -0.09994453224335204,
          -0.0792650004057686,
          -0.06301702909565977,
          -0.09898611842691292,
          -0.0831437192408601,
          -0.07547640870935572
         ],
         "z": [
          0.020535086981012276,
          0.20507797772764635,
          0.02668651667256252,
          0.014383657289461352,
          0.1497151105036573,
          0.07589795420500507,
          0.21122940738203577,
          0.22353226680230942,
          0.21122940741920082,
          0.21122940741920068,
          0.21122940741920082,
          0.21122940741920077,
          0.2112294073281998,
          0.2112294074189733,
          0.2112294073281998,
          0.21122940741920068,
          0.21122940741920082,
          0.21122940741920082,
          0.21122940741920077,
          0.21122940741920082,
          0.21122940741920077,
          0.14971511050365718,
          0.211229407351792,
          0.21122940741919935,
          0.21122940741920082,
          0.21122940741920082,
          0.21122940741920063,
          0.21122940741920035,
          0.21122940741920082,
          0.21122940741920068,
          0.21122940741920082,
          0.21122940686874142,
          0.2112294073281998,
          0.2112294074191999,
          0.21122940741920082,
          0.21122940741920077,
          0.21122940737374313,
          0.21122940741920077,
          0.21122940741920068,
          0.21122940741920077,
          -0.03868315676627609,
          0.26850937702970296,
          0.21122940741920082,
          0.21122940739396964,
          0.21122940741920068,
          0.21122940741920077,
          0.21122940741920074,
          0.2112293810021925,
          0.21122940741920082,
          0.21122940741920082,
          0.21122940741920082,
          0.21122940741920082,
          0.21122940741920068,
          0.21122940737034593,
          0.21122940741920082,
          0.2112294074191999,
          0.21122940738135018,
          0.10050367297122251,
          0.21122940741920077,
          0.21122940741920043,
          0.2112294073738956,
          0.21122940741920077,
          0.21122940741920068,
          0.21122940741920082,
          0.21122940741920068,
          0.2112294074192007,
          0.21122940741920068,
          0.21122940741920082,
          0.21122940733003945,
          0.2173808371107551,
          0.21122940741917173,
          0.21122940741920082,
          0.21122940741920082,
          0.21122940741920077,
          0.21122940741920082,
          0.21122940741920082,
          0.21122940741920082,
          0.21122940741920082,
          0.21122940741920082,
          0.21122940741920082,
          0.2112294074061401,
          0.211230408948142,
          0.21122940741920082,
          0.21122940741920077,
          0.21122940741920082,
          0.21122940741920082,
          0.2112294074192007,
          0.21122940741920082,
          0.2112294074192007,
          0.2112294074146603,
          0.21122940741920077,
          0.21122940741920068,
          0.21122940741919172,
          0.21122940741920082,
          0.21122940741920082,
          0.21122940741920074,
          0.2112294074183892,
          0.21122940741920082,
          0.21122940741920082,
          0.21122940741920082,
          0.2112294074191999,
          0.21122940741920068,
          0.21122940741920077,
          0.21122940741920082,
          0.21122940734350232,
          0.21122940741920082,
          0.2112294074192007,
          0.21122940737996537,
          0.21122940741920082,
          0.21122940741920082,
          0.211229407359624,
          0.21122940741920082,
          0.21122940741920082,
          0.21122940741920082,
          0.21122940741920077,
          0.21122940741920082,
          0.21122940741920054,
          0.07016398872586008,
          0.21122940741920082,
          0.2112293834898426,
          0.21122940741920077,
          0.21122940741920068,
          0.21122940741920082,
          0.21122940741920068,
          0.21122940741920082,
          0.21122940741919177,
          0.21122940741920082,
          0.21122940741920077,
          0.21122940741919172,
          0.21122940741920082,
          0.2112294074024924,
          0.21122940741920082,
          0.21122940741920082,
          0.21122940741920082,
          0.21122940741920077,
          0.21122940461652992,
          0.21122940733240134,
          0.21122940741920077,
          0.21122940741920082,
          0.2112294074192007,
          0.21122940741920082,
          0.21122940741920082,
          0.2112294065091911,
          0.2112294074192007,
          0.21122940741920082,
          0.18047225896142816,
          0.026686516672569875,
          0.14971511050365693,
          0.2235322668023092,
          0.06359509482189542,
          -0.04504331856403513,
          0.21122940741910978,
          -0.04504331856403514,
          0.0945609753858728,
          0.020535086981014996,
          -0.05119474825559019,
          0.1497151105036573,
          0.1005036729712225
         ]
        },
        {
         "customdata": [
          [
           3
          ]
         ],
         "hovertemplate": "<b>%{hovertext}</b><br><br>Class=%{marker.color}<br>PC1=%{x}<br>PC2=%{y}<br>PC3=%{z}<br>Algorithm=%{customdata[0]}<extra></extra>",
         "hovertext": [
          "Rabbit Finance"
         ],
         "legendgroup": "2",
         "marker": {
          "color": [
           2
          ],
          "coloraxis": "coloraxis",
          "symbol": "square"
         },
         "mode": "markers",
         "name": "2",
         "scene": "scene",
         "showlegend": true,
         "type": "scatter3d",
         "x": [
          -3.16931746429385
         ],
         "y": [
          14.025562690024637
         ],
         "z": [
          -9.25028991444978
         ]
        },
        {
         "customdata": [
          [
           44
          ]
         ],
         "hovertemplate": "<b>%{hovertext}</b><br><br>Class=%{marker.color}<br>PC1=%{x}<br>PC2=%{y}<br>PC3=%{z}<br>Algorithm=%{customdata[0]}<extra></extra>",
         "hovertext": [
          "eCash"
         ],
         "legendgroup": "3",
         "marker": {
          "color": [
           3
          ],
          "coloraxis": "coloraxis",
          "symbol": "x"
         },
         "mode": "markers",
         "name": "3",
         "scene": "scene",
         "showlegend": true,
         "type": "scatter3d",
         "x": [
          4.206080999461119
         ],
         "y": [
          9.609174999649131
         ],
         "z": [
          13.537239212271874
         ]
        }
       ],
       "layout": {
        "autosize": true,
        "coloraxis": {
         "colorbar": {
          "title": {
           "text": "Class"
          }
         },
         "colorscale": [
          [
           0,
           "#0d0887"
          ],
          [
           0.1111111111111111,
           "#46039f"
          ],
          [
           0.2222222222222222,
           "#7201a8"
          ],
          [
           0.3333333333333333,
           "#9c179e"
          ],
          [
           0.4444444444444444,
           "#bd3786"
          ],
          [
           0.5555555555555556,
           "#d8576b"
          ],
          [
           0.6666666666666666,
           "#ed7953"
          ],
          [
           0.7777777777777778,
           "#fb9f3a"
          ],
          [
           0.8888888888888888,
           "#fdca26"
          ],
          [
           1,
           "#f0f921"
          ]
         ]
        },
        "legend": {
         "title": {
          "text": "Class"
         },
         "tracegroupgap": 0,
         "x": 0,
         "y": 1
        },
        "margin": {
         "t": 60
        },
        "scene": {
         "aspectmode": "auto",
         "aspectratio": {
          "x": 0.5526654865773812,
          "y": 1.0596527350448228,
          "z": 1.7075526067650673
         },
         "camera": {
          "center": {
           "x": 0,
           "y": 0,
           "z": 0
          },
          "eye": {
           "x": 1.3983318444713038,
           "y": 0.3882138391012039,
           "z": 0.27444602989743067
          },
          "projection": {
           "type": "perspective"
          },
          "up": {
           "x": 0,
           "y": 0,
           "z": 1
          }
         },
         "domain": {
          "x": [
           0,
           1
          ],
          "y": [
           0,
           1
          ]
         },
         "xaxis": {
          "title": {
           "text": "PC1"
          },
          "type": "linear"
         },
         "yaxis": {
          "title": {
           "text": "PC2"
          },
          "type": "linear"
         },
         "zaxis": {
          "title": {
           "text": "PC3"
          },
          "type": "linear"
         }
        },
        "template": {
         "data": {
          "bar": [
           {
            "error_x": {
             "color": "#2a3f5f"
            },
            "error_y": {
             "color": "#2a3f5f"
            },
            "marker": {
             "line": {
              "color": "#E5ECF6",
              "width": 0.5
             },
             "pattern": {
              "fillmode": "overlay",
              "size": 10,
              "solidity": 0.2
             }
            },
            "type": "bar"
           }
          ],
          "barpolar": [
           {
            "marker": {
             "line": {
              "color": "#E5ECF6",
              "width": 0.5
             },
             "pattern": {
              "fillmode": "overlay",
              "size": 10,
              "solidity": 0.2
             }
            },
            "type": "barpolar"
           }
          ],
          "carpet": [
           {
            "aaxis": {
             "endlinecolor": "#2a3f5f",
             "gridcolor": "white",
             "linecolor": "white",
             "minorgridcolor": "white",
             "startlinecolor": "#2a3f5f"
            },
            "baxis": {
             "endlinecolor": "#2a3f5f",
             "gridcolor": "white",
             "linecolor": "white",
             "minorgridcolor": "white",
             "startlinecolor": "#2a3f5f"
            },
            "type": "carpet"
           }
          ],
          "choropleth": [
           {
            "colorbar": {
             "outlinewidth": 0,
             "ticks": ""
            },
            "type": "choropleth"
           }
          ],
          "contour": [
           {
            "colorbar": {
             "outlinewidth": 0,
             "ticks": ""
            },
            "colorscale": [
             [
              0,
              "#0d0887"
             ],
             [
              0.1111111111111111,
              "#46039f"
             ],
             [
              0.2222222222222222,
              "#7201a8"
             ],
             [
              0.3333333333333333,
              "#9c179e"
             ],
             [
              0.4444444444444444,
              "#bd3786"
             ],
             [
              0.5555555555555556,
              "#d8576b"
             ],
             [
              0.6666666666666666,
              "#ed7953"
             ],
             [
              0.7777777777777778,
              "#fb9f3a"
             ],
             [
              0.8888888888888888,
              "#fdca26"
             ],
             [
              1,
              "#f0f921"
             ]
            ],
            "type": "contour"
           }
          ],
          "contourcarpet": [
           {
            "colorbar": {
             "outlinewidth": 0,
             "ticks": ""
            },
            "type": "contourcarpet"
           }
          ],
          "heatmap": [
           {
            "colorbar": {
             "outlinewidth": 0,
             "ticks": ""
            },
            "colorscale": [
             [
              0,
              "#0d0887"
             ],
             [
              0.1111111111111111,
              "#46039f"
             ],
             [
              0.2222222222222222,
              "#7201a8"
             ],
             [
              0.3333333333333333,
              "#9c179e"
             ],
             [
              0.4444444444444444,
              "#bd3786"
             ],
             [
              0.5555555555555556,
              "#d8576b"
             ],
             [
              0.6666666666666666,
              "#ed7953"
             ],
             [
              0.7777777777777778,
              "#fb9f3a"
             ],
             [
              0.8888888888888888,
              "#fdca26"
             ],
             [
              1,
              "#f0f921"
             ]
            ],
            "type": "heatmap"
           }
          ],
          "heatmapgl": [
           {
            "colorbar": {
             "outlinewidth": 0,
             "ticks": ""
            },
            "colorscale": [
             [
              0,
              "#0d0887"
             ],
             [
              0.1111111111111111,
              "#46039f"
             ],
             [
              0.2222222222222222,
              "#7201a8"
             ],
             [
              0.3333333333333333,
              "#9c179e"
             ],
             [
              0.4444444444444444,
              "#bd3786"
             ],
             [
              0.5555555555555556,
              "#d8576b"
             ],
             [
              0.6666666666666666,
              "#ed7953"
             ],
             [
              0.7777777777777778,
              "#fb9f3a"
             ],
             [
              0.8888888888888888,
              "#fdca26"
             ],
             [
              1,
              "#f0f921"
             ]
            ],
            "type": "heatmapgl"
           }
          ],
          "histogram": [
           {
            "marker": {
             "pattern": {
              "fillmode": "overlay",
              "size": 10,
              "solidity": 0.2
             }
            },
            "type": "histogram"
           }
          ],
          "histogram2d": [
           {
            "colorbar": {
             "outlinewidth": 0,
             "ticks": ""
            },
            "colorscale": [
             [
              0,
              "#0d0887"
             ],
             [
              0.1111111111111111,
              "#46039f"
             ],
             [
              0.2222222222222222,
              "#7201a8"
             ],
             [
              0.3333333333333333,
              "#9c179e"
             ],
             [
              0.4444444444444444,
              "#bd3786"
             ],
             [
              0.5555555555555556,
              "#d8576b"
             ],
             [
              0.6666666666666666,
              "#ed7953"
             ],
             [
              0.7777777777777778,
              "#fb9f3a"
             ],
             [
              0.8888888888888888,
              "#fdca26"
             ],
             [
              1,
              "#f0f921"
             ]
            ],
            "type": "histogram2d"
           }
          ],
          "histogram2dcontour": [
           {
            "colorbar": {
             "outlinewidth": 0,
             "ticks": ""
            },
            "colorscale": [
             [
              0,
              "#0d0887"
             ],
             [
              0.1111111111111111,
              "#46039f"
             ],
             [
              0.2222222222222222,
              "#7201a8"
             ],
             [
              0.3333333333333333,
              "#9c179e"
             ],
             [
              0.4444444444444444,
              "#bd3786"
             ],
             [
              0.5555555555555556,
              "#d8576b"
             ],
             [
              0.6666666666666666,
              "#ed7953"
             ],
             [
              0.7777777777777778,
              "#fb9f3a"
             ],
             [
              0.8888888888888888,
              "#fdca26"
             ],
             [
              1,
              "#f0f921"
             ]
            ],
            "type": "histogram2dcontour"
           }
          ],
          "mesh3d": [
           {
            "colorbar": {
             "outlinewidth": 0,
             "ticks": ""
            },
            "type": "mesh3d"
           }
          ],
          "parcoords": [
           {
            "line": {
             "colorbar": {
              "outlinewidth": 0,
              "ticks": ""
             }
            },
            "type": "parcoords"
           }
          ],
          "pie": [
           {
            "automargin": true,
            "type": "pie"
           }
          ],
          "scatter": [
           {
            "marker": {
             "colorbar": {
              "outlinewidth": 0,
              "ticks": ""
             }
            },
            "type": "scatter"
           }
          ],
          "scatter3d": [
           {
            "line": {
             "colorbar": {
              "outlinewidth": 0,
              "ticks": ""
             }
            },
            "marker": {
             "colorbar": {
              "outlinewidth": 0,
              "ticks": ""
             }
            },
            "type": "scatter3d"
           }
          ],
          "scattercarpet": [
           {
            "marker": {
             "colorbar": {
              "outlinewidth": 0,
              "ticks": ""
             }
            },
            "type": "scattercarpet"
           }
          ],
          "scattergeo": [
           {
            "marker": {
             "colorbar": {
              "outlinewidth": 0,
              "ticks": ""
             }
            },
            "type": "scattergeo"
           }
          ],
          "scattergl": [
           {
            "marker": {
             "colorbar": {
              "outlinewidth": 0,
              "ticks": ""
             }
            },
            "type": "scattergl"
           }
          ],
          "scattermapbox": [
           {
            "marker": {
             "colorbar": {
              "outlinewidth": 0,
              "ticks": ""
             }
            },
            "type": "scattermapbox"
           }
          ],
          "scatterpolar": [
           {
            "marker": {
             "colorbar": {
              "outlinewidth": 0,
              "ticks": ""
             }
            },
            "type": "scatterpolar"
           }
          ],
          "scatterpolargl": [
           {
            "marker": {
             "colorbar": {
              "outlinewidth": 0,
              "ticks": ""
             }
            },
            "type": "scatterpolargl"
           }
          ],
          "scatterternary": [
           {
            "marker": {
             "colorbar": {
              "outlinewidth": 0,
              "ticks": ""
             }
            },
            "type": "scatterternary"
           }
          ],
          "surface": [
           {
            "colorbar": {
             "outlinewidth": 0,
             "ticks": ""
            },
            "colorscale": [
             [
              0,
              "#0d0887"
             ],
             [
              0.1111111111111111,
              "#46039f"
             ],
             [
              0.2222222222222222,
              "#7201a8"
             ],
             [
              0.3333333333333333,
              "#9c179e"
             ],
             [
              0.4444444444444444,
              "#bd3786"
             ],
             [
              0.5555555555555556,
              "#d8576b"
             ],
             [
              0.6666666666666666,
              "#ed7953"
             ],
             [
              0.7777777777777778,
              "#fb9f3a"
             ],
             [
              0.8888888888888888,
              "#fdca26"
             ],
             [
              1,
              "#f0f921"
             ]
            ],
            "type": "surface"
           }
          ],
          "table": [
           {
            "cells": {
             "fill": {
              "color": "#EBF0F8"
             },
             "line": {
              "color": "white"
             }
            },
            "header": {
             "fill": {
              "color": "#C8D4E3"
             },
             "line": {
              "color": "white"
             }
            },
            "type": "table"
           }
          ]
         },
         "layout": {
          "annotationdefaults": {
           "arrowcolor": "#2a3f5f",
           "arrowhead": 0,
           "arrowwidth": 1
          },
          "autotypenumbers": "strict",
          "coloraxis": {
           "colorbar": {
            "outlinewidth": 0,
            "ticks": ""
           }
          },
          "colorscale": {
           "diverging": [
            [
             0,
             "#8e0152"
            ],
            [
             0.1,
             "#c51b7d"
            ],
            [
             0.2,
             "#de77ae"
            ],
            [
             0.3,
             "#f1b6da"
            ],
            [
             0.4,
             "#fde0ef"
            ],
            [
             0.5,
             "#f7f7f7"
            ],
            [
             0.6,
             "#e6f5d0"
            ],
            [
             0.7,
             "#b8e186"
            ],
            [
             0.8,
             "#7fbc41"
            ],
            [
             0.9,
             "#4d9221"
            ],
            [
             1,
             "#276419"
            ]
           ],
           "sequential": [
            [
             0,
             "#0d0887"
            ],
            [
             0.1111111111111111,
             "#46039f"
            ],
            [
             0.2222222222222222,
             "#7201a8"
            ],
            [
             0.3333333333333333,
             "#9c179e"
            ],
            [
             0.4444444444444444,
             "#bd3786"
            ],
            [
             0.5555555555555556,
             "#d8576b"
            ],
            [
             0.6666666666666666,
             "#ed7953"
            ],
            [
             0.7777777777777778,
             "#fb9f3a"
            ],
            [
             0.8888888888888888,
             "#fdca26"
            ],
            [
             1,
             "#f0f921"
            ]
           ],
           "sequentialminus": [
            [
             0,
             "#0d0887"
            ],
            [
             0.1111111111111111,
             "#46039f"
            ],
            [
             0.2222222222222222,
             "#7201a8"
            ],
            [
             0.3333333333333333,
             "#9c179e"
            ],
            [
             0.4444444444444444,
             "#bd3786"
            ],
            [
             0.5555555555555556,
             "#d8576b"
            ],
            [
             0.6666666666666666,
             "#ed7953"
            ],
            [
             0.7777777777777778,
             "#fb9f3a"
            ],
            [
             0.8888888888888888,
             "#fdca26"
            ],
            [
             1,
             "#f0f921"
            ]
           ]
          },
          "colorway": [
           "#636efa",
           "#EF553B",
           "#00cc96",
           "#ab63fa",
           "#FFA15A",
           "#19d3f3",
           "#FF6692",
           "#B6E880",
           "#FF97FF",
           "#FECB52"
          ],
          "font": {
           "color": "#2a3f5f"
          },
          "geo": {
           "bgcolor": "white",
           "lakecolor": "white",
           "landcolor": "#E5ECF6",
           "showlakes": true,
           "showland": true,
           "subunitcolor": "white"
          },
          "hoverlabel": {
           "align": "left"
          },
          "hovermode": "closest",
          "mapbox": {
           "style": "light"
          },
          "paper_bgcolor": "white",
          "plot_bgcolor": "#E5ECF6",
          "polar": {
           "angularaxis": {
            "gridcolor": "white",
            "linecolor": "white",
            "ticks": ""
           },
           "bgcolor": "#E5ECF6",
           "radialaxis": {
            "gridcolor": "white",
            "linecolor": "white",
            "ticks": ""
           }
          },
          "scene": {
           "xaxis": {
            "backgroundcolor": "#E5ECF6",
            "gridcolor": "white",
            "gridwidth": 2,
            "linecolor": "white",
            "showbackground": true,
            "ticks": "",
            "zerolinecolor": "white"
           },
           "yaxis": {
            "backgroundcolor": "#E5ECF6",
            "gridcolor": "white",
            "gridwidth": 2,
            "linecolor": "white",
            "showbackground": true,
            "ticks": "",
            "zerolinecolor": "white"
           },
           "zaxis": {
            "backgroundcolor": "#E5ECF6",
            "gridcolor": "white",
            "gridwidth": 2,
            "linecolor": "white",
            "showbackground": true,
            "ticks": "",
            "zerolinecolor": "white"
           }
          },
          "shapedefaults": {
           "line": {
            "color": "#2a3f5f"
           }
          },
          "ternary": {
           "aaxis": {
            "gridcolor": "white",
            "linecolor": "white",
            "ticks": ""
           },
           "baxis": {
            "gridcolor": "white",
            "linecolor": "white",
            "ticks": ""
           },
           "bgcolor": "#E5ECF6",
           "caxis": {
            "gridcolor": "white",
            "linecolor": "white",
            "ticks": ""
           }
          },
          "title": {
           "x": 0.05
          },
          "xaxis": {
           "automargin": true,
           "gridcolor": "white",
           "linecolor": "white",
           "ticks": "",
           "title": {
            "standoff": 15
           },
           "zerolinecolor": "white",
           "zerolinewidth": 2
          },
          "yaxis": {
           "automargin": true,
           "gridcolor": "white",
           "linecolor": "white",
           "ticks": "",
           "title": {
            "standoff": 15
           },
           "zerolinecolor": "white",
           "zerolinewidth": 2
          }
         }
        }
       }
      },
      "image/png": "[encoded data removed]",
      "text/html": [
       "<div>                            <div id=\"62dd7296-c992-416c-807b-423adaeb7ebc\" class=\"plotly-graph-div\" style=\"height:525px; width:800px;\"></div>            <script type=\"text/javascript\">                require([\"plotly\"], function(Plotly) {                    window.PLOTLYENV=window.PLOTLYENV || {};                                    if (document.getElementById(\"62dd7296-c992-416c-807b-423adaeb7ebc\")) {                    Plotly.newPlot(                        \"62dd7296-c992-416c-807b-423adaeb7ebc\",                        [{\"customdata\":[[39],[56],[49],[49],[43],[14],[54],[18],[26],[14],[44],[40],[58],[9],[57],[24],[44],[38],[21],[42],[49],[44],[47],[18],[21],[44],[53],[44],[49],[44],[51],[51],[33],[57],[18],[51],[36],[56],[12],[49],[21],[18],[9],[26],[3],[17],[49],[49],[39],[56],[10],[7],[44],[49],[39],[13],[1],[33],[49],[51],[53],[15],[51],[13],[49],[52],[49],[46],[56],[8],[44],[43],[21],[18],[49],[29],[19],[31],[33],[48],[44],[39],[54],[49],[28],[55],[8],[49],[49],[13],[38],[56],[45],[49],[21],[18],[39],[56],[13],[16],[18],[44],[44],[18],[44],[50],[49],[42],[30],[10],[54],[21],[37],[45],[54],[10],[49],[13],[20],[32],[13],[23],[11],[49],[49],[39],[59],[49],[18],[13],[42],[41]],\"hovertemplate\":\"<b>%{hovertext}</b><br><br>Class=%{marker.color}<br>PC1=%{x}<br>PC2=%{y}<br>PC3=%{z}<br>Algorithm=%{customdata[0]}<extra></extra>\",\"hovertext\":[\"NuShares\",\"Triangles Coin\",\"CometCoin\",\"OpenChat\",\"Quantum Resistant Ledger\",\"Amber\",\"Pura\",\"Bitcoin Private\",\"Aidos Kuneen\",\"DAPS Coin\",\"Foin\",\"Zano\",\"VEIL\",\"MimbleWimbleCoin\",\"Ravencoin Classic\",\"XDNA\",\"Wibcoin\",\"TokenPay\",\"EtherZero\",\"QuarkCoin\",\"United Emirates Coin\",\"Arweave\",\"MAPS\",\"Bithereum\",\"BeforeCoinMarketCap\",\"Smart Bitcoin\",\"VEED\",\"UnitedBitcoin\",\"VeriCoin\",\"Emercoin\",\"Novax Coin\",\"TRONbetLive\",\"Circuits of Value\",\"Genix\",\"Beam\",\"Didcoin\",\"FeatherCoin\",\"Stratis\",\"AEON\",\"Canada eCoin\",\"Expanse\",\"TENT\",\"Grin\",\"Internet Node token\",\"SafePal\",\"Nervos Network\",\"Reddcoin\",\"PotCoin\",\"Nxt\",\"CloakCoin\",\"Beldex\",\"Handshake\",\"REDi\",\"ViaCoin\",\"Anchor Protocol\",\"ARK\",\"Binance Coin\",\"DigiByte\",\"Auroracoin\",\"Sun Token\",\"VeChain\",\"Ubiq\",\"Sun Token\",\"Shift\",\"Primas\",\"Ontology\",\"NovaCoin\",\"Nexus\",\"NavCoin\",\"Nano\",\"Namecoin\",\"Monero\",\"Ethereum Name Service\",\"Zelcash\",\"WhiteCoin\",\"Waves\",\"Aion\",\"Vertcoin\",\"Verge\",\"V Systems\",\"SysCoin\",\"Steem\",\"Stakenet\",\"Gulden\",\"SmartCash\",\"SibCoin\",\"Siacoin\",\"SaluS\",\"SafeExchangeCoin\",\"Rise\",\"QTUM\",\"Bitcoin Diamond\",\"Bitshares\",\"Dogecoin\",\"Ethereum\",\"BitcoinZ\",\"Validity\",\"ABBC Coin\",\"Achain\",\"Acute Angle Cloud\",\"Horizen\",\"Bitcoin\",\"Bitcoin Cash\",\"Bitcoin Gold\",\"Bitcoin SV\",\"BitTorrent\",\"BlackCoin\",\"BlockNet\",\"ICON Project\",\"ByteCoin\",\"IOCoin\",\"Callisto Network\",\"Cardano\",\"Kcash\",\"Dash\",\"Dero\",\"Einsteinium\",\"EOS\",\"Ethereum Classic\",\"Firo\",\"Lisk\",\"Groestlcoin\",\"Haven Protocol\",\"Litecoin\",\"MonaCoin\",\"Neblio\",\"NEO\",\"MegaCoin\",\"ZCash\",\"Oxycoin\",\"Private Instant Verified Transaction\",\"Poa Network\"],\"legendgroup\":\"0\",\"marker\":{\"color\":[0,0,0,0,0,0,0,0,0,0,0,0,0,0,0,0,0,0,0,0,0,0,0,0,0,0,0,0,0,0,0,0,0,0,0,0,0,0,0,0,0,0,0,0,0,0,0,0,0,0,0,0,0,0,0,0,0,0,0,0,0,0,0,0,0,0,0,0,0,0,0,0,0,0,0,0,0,0,0,0,0,0,0,0,0,0,0,0,0,0,0,0,0,0,0,0,0,0,0,0,0,0,0,0,0,0,0,0,0,0,0,0,0,0,0,0,0,0,0,0,0,0,0,0,0,0,0,0,0,0,0,0],\"coloraxis\":\"coloraxis\",\"symbol\":\"circle\"},\"mode\":\"markers\",\"name\":\"0\",\"scene\":\"scene\",\"showlegend\":true,\"type\":\"scatter3d\",\"x\":[1.7338455909702102,1.8215520122143691,1.6745820448237216,1.569885128327507,1.458867572920698,1.149126040862919,1.8543441047429086,0.5600572733247633,0.8476765691954624,1.882004456336422,0.3431539034461701,1.2463152760592489,1.8934568361820432,0.23648556547022703,1.962201340694421,0.6710748287315726,1.4948199849045152,1.6978931789863707,0.6679145092762754,1.3182182444406452,0.522915963365357,1.4948271739417711,2.1261618033371223,0.5600572733247633,0.5632175927800602,1.4948199849045347,0.6667256113007046,1.4948199849045347,1.7792789613199367,1.3901230684083197,0.5948207873330317,0.5948207873330317,1.099343453082324,1.962201340694421,0.5600572733247633,0.5948207873330118,1.207200689033836,2.3450365946954435,0.34434280142173895,3.0356419592745163,0.6679145092762754,0.5600572733247633,0.23648556547022703,1.7899488176613971,0.23016492655963247,0.5241048613409254,1.5698851283275062,1.5698851283275066,1.6291486744739934,1.8215520122143682,0.27243797745406434,0.1645807415025522,0.34315390344616986,1.6745820448237216,1.733845590970208,1.427264378367726,1.2052292675541076,1.0993434530823236,1.5698851283275066,0.5948207873330317,1.3996040267742098,0.45220003737325104,0.5948207873330313,1.427264378367726,1.6745820448237216,2.201226946760094,1.5698851283275066,1.2526340593835648,1.8215520122143682,0.20053315348638948,1.4948199849045347,1.458867572920698,0.14442992679520053,0.4553603568285483,1.5698851283275066,1.7931091371166943,0.49131276881238567,1.027438629114649,1.0993434530823236,1.0104481338625941,1.4948199849045347,1.3150579249853482,1.1214656892694037,1.6745820448237214,0.9195813931631369,1.8902965167267458,0.20053315348638848,1.5698851283275066,2.3027635438010114,0.7990828793904363,1.6978931789863707,1.8215520122143682,2.577741561850522,1.6935174068069614,0.6679314890025281,0.5600572733247631,1.733846228319473,0.7745828472522186,1.427264378367726,1.6398185308154534,0.5600572733247633,1.4948226927327,1.494822696640469,0.5600572733247633,1.49482269614037,2.757503621769689,2.093369710808582,1.3182182444406452,1.4102738831156718,0.27243797745406073,1.7496471882466937,0.6679145092762754,1.6666469494757983,0.6931970649186525,1.6449517690255393,0.2724395548497301,1.6745820448237216,1.4274134955255644,0.6319807056431556,1.0633910410984864,1.427264378367726,0.7398193332439502,0.30839038943790176,1.6745919413502097,1.6745820448237216,0.16339184352698358,0.8824400832037309,1.6745820448237216,0.5600572733247633,1.427264378367726,1.3182182444406452,2.1198411644265276],\"y\":[-0.07192521371995164,-0.051065427605011655,-0.05868767456717767,-0.05777432432007669,-0.06443815746580507,-0.0986256098721996,-0.05389560548498655,-0.08839850287675621,-0.08073119234525183,-0.10501906160188255,-0.05343289093128067,-0.0663934287058255,-0.04914859997213559,-0.09702422722469863,-0.051020364035671055,-0.08173466973102918,-0.0634797436492312,-0.07288362753639034,-0.08552326142744206,-0.06448322103514433,-0.04864082184909045,-0.06345409614632404,-0.06517125343554653,-0.08839850287675621,-0.08460991118034215,-0.06347974364936701,-0.044807166583324676,-0.06347974364936701,-0.059601024814275566,-0.06256639340226824,-0.04672399421621434,-0.0467239942162142,-0.07402229563018528,-0.0510203640356724,-0.08839850287675621,-0.046723994216077175,-0.07114705418087135,-0.055632178840505475,-0.09414898577538448,-0.07056122777946064,-0.08552326142744207,-0.08839850287675621,-0.09702422722469861,-0.08895134456914058,-0.10460141061752436,-0.08935691669318957,-0.05777432432007388,-0.05777432432007802,-0.07101186347285338,-0.0510654276050117,-0.0960658134082604,-0.09894105485757464,-0.05343289093127932,-0.05868767456717678,-0.07192521371995214,-0.102324074429934,-0.11565174072138806,-0.07402229563018349,-0.05777432432007804,-0.04672399421621434,-0.0512006183130179,-0.09127374432607033,-0.04672399421621162,-0.102324074429934,-0.05868767456717677,-0.05946583410625755,-0.05777432432007804,-0.05882286527519465,-0.05106542760501169,-0.09798264104113664,-0.06347974364936701,-0.06443815746580507,-0.08095651019194827,-0.08748515262965739,-0.057774324320077904,-0.08516275287272776,-0.08652673881321933,-0.07593912326306161,-0.07402229563018327,-0.05416598690102149,-0.06347974364936693,-0.06827181273155719,-0.04750215375529522,-0.05868767456717671,-0.07881436471237538,-0.05293719166854852,-0.09798264104112997,-0.05777432432007804,-0.06416777604976903,-0.09684397294734146,-0.07288362753639033,-0.051065427605011676,-0.07165483230391617,0.008865843120685305,-0.08546268480689667,-0.08839850287675478,-0.07192293992212985,-0.041931925134023926,-0.10232407442993388,-0.1003621832277185,-0.08839850287675621,-0.06347008324160691,-0.06347006930030759,-0.08839850287675621,-0.06347007108445282,-0.06686276322159189,-0.0623410755555718,-0.06448322103514435,-0.08055093806789457,-0.09606581340823553,-0.052982255237887806,-0.08552326142744165,-0.057052334283514326,-0.05521452785613877,-0.05206356333440126,-0.0960601859147858,-0.05868767456717676,-0.10179208626046987,-0.08641528836675315,-0.07498070944662356,-0.102324074429934,-0.08360643379456598,-0.09510739959182253,-0.058652367865474654,-0.05868767456717677,-0.05822496001347091,-0.03905668368470997,-0.05868767456717677,-0.08839850287675621,-0.10232407442993387,-0.06448322103514435,-0.07274843682837243],\"z\":[-0.3761768613769478,-0.35876623283330705,-0.3401032116524387,-0.3157062249924249,-0.3031946335031132,-0.2955820790681262,-0.37086036011021106,-0.14940889121425444,-0.19862032874668922,-0.46636098568822076,-0.04097920993452758,-0.26033388116935624,-0.37106909221641576,-0.09404602399026525,-0.3893146491848751,-0.1619204827035678,-0.30934606319475855,-0.37002543168539237,-0.16786318028891747,-0.27264621715154613,-0.07173635839229935,-0.3093093483167553,-0.44978528556939434,-0.14940889121425444,-0.14346619362890548,-0.3093460631946675,-0.09634207715852582,-0.3093460631946675,-0.364500198312452,-0.28494907653465484,-0.08403921777540803,-0.08403921777540808,-0.24168033658756985,-0.38931464918487413,-0.14940889121425444,-0.08403921777549993,-0.2601346256622327,-0.48075116613337066,-0.11250031306492825,-0.6572640382326047,-0.16786318028891745,-0.14940889121425444,-0.09404602399026527,-0.4181932086868038,-0.10593141916096462,-0.1432574615227032,-0.31570622499242934,-0.31570622499242657,-0.351779874716934,-0.358766232833307,-0.10019745368181973,-0.08174316460715658,-0.04097920993452849,-0.3401032116524393,-0.3761768613769468,-0.3626216093566098,-0.33759842637798304,-0.24168033658757104,-0.31570622499242657,-0.08403921777540803,-0.2671209837786136,-0.1309546021395913,-0.08403921777540982,-0.3626216093566098,-0.3401032116524393,-0.4561454473671534,-0.31570622499242657,-0.24845796259773806,-0.358766232833307,-0.08789459429871087,-0.3093460631946675,-0.3031946335031132,-0.045878246988853844,-0.12501190455424172,-0.3157062249924266,-0.4122505111014541,-0.13116333424579607,-0.22937747720446094,-0.24168033658757118,-0.18756986200080913,-0.30934606319466756,-0.2785889147368958,-0.200081453490122,-0.34010321165243934,-0.21092318812979816,-0.37701178980176536,-0.08789459429871534,-0.31570622499242657,-0.4864851316125158,-0.21623968939653357,-0.3700254316853924,-0.358766232833307,-0.5594673594863494,-0.2433990938950281,-0.16777646372926122,-0.1494088912142554,-0.3761736063930479,-0.11479636623317992,-0.3626216093566099,-0.4054728850912858,-0.14940889121425444,-0.30933223414117644,-0.309332214183947,-0.14940889121425444,-0.3093322167379841,-0.5902245079442109,-0.43769115829249017,-0.27264621715154613,-0.3208139941529576,-0.10019745368183638,-0.3464633734501983,-0.16786318028891775,-0.33983922386362203,-0.1203215996061202,-0.32205874010965696,-0.10018939782018142,-0.3401032116524393,-0.3618600583915939,-0.16161671654728008,-0.23552890689601533,-0.3626216093566098,-0.18016603967202616,-0.10634888337337396,-0.3400526694518864,-0.3401032116524393,-0.010222061476755879,-0.13325065530784286,-0.3401032116524393,-0.14940889121425444,-0.3626216093566099,-0.27264621715154613,-0.46167068074009354]},{\"customdata\":[[34],[4],[33],[35],[13],[25],[3],[1],[3],[3],[3],[3],[3],[3],[3],[3],[3],[3],[3],[3],[3],[13],[3],[3],[3],[3],[3],[3],[3],[3],[3],[3],[3],[3],[3],[3],[3],[3],[3],[3],[0],[22],[3],[3],[3],[3],[3],[3],[3],[3],[3],[3],[3],[3],[3],[3],[3],[21],[3],[3],[3],[3],[3],[3],[3],[3],[3],[3],[3],[2],[3],[3],[3],[3],[3],[3],[3],[3],[3],[3],[3],[3],[3],[3],[3],[3],[3],[3],[3],[3],[3],[3],[3],[3],[3],[3],[3],[3],[3],[3],[3],[3],[3],[3],[3],[3],[3],[3],[3],[3],[3],[3],[3],[3],[3],[3],[3],[18],[3],[3],[3],[3],[3],[3],[3],[3],[3],[3],[3],[3],[3],[3],[3],[3],[3],[3],[3],[3],[3],[3],[3],[3],[3],[3],[3],[8],[33],[13],[1],[27],[5],[3],[5],[18],[34],[6],[13],[21]],\"hovertemplate\":\"<b>%{hovertext}</b><br><br>Class=%{marker.color}<br>PC1=%{x}<br>PC2=%{y}<br>PC3=%{z}<br>Algorithm=%{customdata[0]}<extra></extra>\",\"hovertext\":[\"Nevula\",\"Swingby\",\"Revain\",\"NextDAO\",\"Tenset\",\"WeStarter\",\"YooShi\",\"BakeryToken\",\"IMPULSE by FDR\",\"Altura\",\"DekBox\",\"Less Network\",\"KingDoge\",\"SafeHamsters\",\"Yuang Coin\",\"Kiwigo\",\"Votechain\",\"Pea Farm\",\"SparkPoint Fuel\",\"Genshiro\",\"Binamon\",\"ModiHost\",\"MiniDOGE\",\"RealFevr\",\"MocktailSwap\",\"Effort Economy \",\"QueenDex Coin\",\"Lion Token\",\"Artex\",\"TBCC\",\"xWIN Finance\",\"MContent\",\"Tokyo AU\",\"ShonToken\",\"Investelly token\",\"Binance Smart Chain Girl\",\"Daddy Doge\",\"Five7\",\"Diamond Boyz Coin\",\"Plant vs Undead Token\",\"Ergo\",\"ECOMI\",\"Coin98\",\"Safe Energy\",\"Trust Wallet Token\",\"Lanceria\",\"Teaswap Art\",\"Kaiken Shiba\",\"My DeFi Pet\",\"BunnyPark\",\"ApeSwap Finance\",\"Pancake Bunny\",\"Alpha Finance Lab\",\"Safe Star\",\"Pylon Eco Token\",\"Metahero\",\"Pig Finance\",\"Waltonchain\",\"Monsta Infinite\",\"Doggy\",\"Xiasi Inu\",\"Thetan Arena\",\"Nafter\",\"CryptoBlades\",\"CryptoZoon\",\"Binemon\",\"HoDooi.com\",\"Smaugs NFT\",\"Wall Street Games\",\"Honest\",\"Radio Caca\",\"Sishi Finance\",\"Feeder Finance\",\"Battle Pets\",\"Pacoca\",\"Pancake Hunny\",\"NFT Alley\",\"TEN\",\"Dehero Community Token\",\"Wheelers\",\"ShibaCash\",\"Longdrink Finance\",\"Eggplant Finance\",\"EIFI FINANCE\",\"TendieSwap\",\"CosmicSwap\",\"Vention\",\"WOWswap\",\"Betu\",\"Wenlambo\",\"Sheesh it is bussin bussin\",\"Pet Games\",\"CheCoin\",\"GemGuardian\",\"ForeverFOMO\",\"Knight War Spirits\",\"KRYZA Network\",\"Badger Sett Badger\",\"Portify\",\"DogeHouse Capital\",\"Bholdus Token\",\"Sphynx Token\",\"RugZombie\",\"LPI DAO\",\"Rainbow Token\",\"Step Hero\",\"Starpunk\",\"The Real Golden Inu\",\"Jade Currency\",\"Binamars\",\"BUMooN\",\"Loud Market\",\"DefiXBet\",\"RiceFarm\",\"BNB Cash\",\"Bogged Finance\",\"Dexit Finance\",\"Pirate Chain\",\"Roseon Finance\",\"BabyDoge\",\"Splinterlands\",\"CumRocket\",\"Lucky Lion\",\"OpenOcean\",\"SIL Finance Token V2\",\"Bonus Cake\",\"TrustFi Network Token\",\"gotEM\",\"Pitch Finance Token\",\"Torii Finance\",\"GOMA Finance\",\"GameFi\",\"Shell Token\",\"Pokmonsters\",\"Kalata Protocol\",\"NFT Art Finance\",\"Baby Floki Billionaire\",\"VelasPad\",\"Lazio Fan Token\",\"HarmonyPad\",\"YocoinYOCO\",\"JERITEX\",\"Australian Safe Shepherd\",\"TRONPAD\",\"AUREO\",\"Yee\",\"Wirex Token\",\"Worldwide Asset eXchange\",\"Phoenix Binance\",\"Ravencoin\",\"Decred\",\"Project Quantum\",\"HyperCash\",\"Komodo\",\"DeepBrain Chain\",\"DigitalNote\",\"High Performance Blockchain\",\"Metaverse\"],\"legendgroup\":\"1\",\"marker\":{\"color\":[1,1,1,1,1,1,1,1,1,1,1,1,1,1,1,1,1,1,1,1,1,1,1,1,1,1,1,1,1,1,1,1,1,1,1,1,1,1,1,1,1,1,1,1,1,1,1,1,1,1,1,1,1,1,1,1,1,1,1,1,1,1,1,1,1,1,1,1,1,1,1,1,1,1,1,1,1,1,1,1,1,1,1,1,1,1,1,1,1,1,1,1,1,1,1,1,1,1,1,1,1,1,1,1,1,1,1,1,1,1,1,1,1,1,1,1,1,1,1,1,1,1,1,1,1,1,1,1,1,1,1,1,1,1,1,1,1,1,1,1,1,1,1,1,1,1,1,1,1,1,1,1,1,1,1,1,1,1],\"coloraxis\":\"coloraxis\",\"symbol\":\"diamond\"},\"mode\":\"markers\",\"name\":\"1\",\"scene\":\"scene\",\"showlegend\":true,\"type\":\"scatter3d\",\"x\":[-0.016370216392204096,-1.0949425759073248,-0.052322628376042436,0.019582195591633964,-0.7713708680527883,-0.33994192424673975,-1.130894987899169,-1.2027998118588366,-1.1308949878911623,-1.1308949878911623,-1.1308949878911623,-1.1308949878911623,-1.130894987910768,-1.1308949878912113,-1.130894987910768,-1.1308949878911623,-1.1308949878911623,-1.1308949878911623,-1.1308949878911623,-1.1308949878911623,-1.1308949878911623,-0.7713708680527883,-1.130894987905685,-1.1308949878911625,-1.1308949878911623,-1.1308949878911623,-1.1308949878911623,-1.1308949878911623,-1.1308949878911623,-1.1308949878911623,-1.1308949878911623,-1.1308949880097552,-1.130894987910768,-1.1308949878911625,-1.1308949878911623,-1.1308949878911623,-1.1308949879009558,-1.1308949878911623,-1.1308949878911623,-1.1308949878911623,-0.08708614238430945,-0.4136979404570935,-1.1308949878911623,-1.1308949878965981,-1.1308949878911623,-1.1308949878911623,-1.1308949878911623,-1.1308949935825339,-1.1308949878911623,-1.1308949878911623,-1.1308949878911623,-1.1308949878911623,-1.1308949878911623,-1.1308949879016876,-1.1308949878911623,-1.1308949878911625,-1.1308949878993169,-0.48375157218208936,-1.1308949878911623,-1.1308949878911623,-1.130894987900923,-1.1308949878911623,-1.1308949878911623,-1.1308949878911623,-1.1308949878911623,-1.1308949878911623,-1.1308949878911623,-1.1308949878911623,-1.1308949879103716,-1.1668473998749995,-1.1308949878911685,-1.1308949878911623,-1.1308949878911623,-1.1308949878911623,-1.1308949878911623,-1.1308949878911623,-1.1308949878911623,-1.1308949878911623,-1.1308949878911623,-1.1308949878911623,-1.130894987893976,-1.1308947917845902,-1.1308949878911623,-1.1308949878911623,-1.1308949878911623,-1.1308949878911623,-1.1308949878911623,-1.1308949878911623,-1.1308949878911623,-1.1308949878921404,-1.1308949878911623,-1.1308949878911623,-1.1308949878911643,-1.1308949878911623,-1.1308949878911623,-1.1308949878911623,-1.130894987891337,-1.1308949878911623,-1.1308949878911623,-1.1308949878911623,-1.1308949878911625,-1.1308949878911623,-1.1308949878911623,-1.1308949878911623,-1.130894987907471,-1.1308949878911623,-1.1308949878911623,-1.130894987899615,-1.1308949878911623,-1.1308949878911623,-1.1308949879039978,-1.1308949878911623,-1.1308949878911623,-1.1308949878911623,-1.1308949878911623,-1.1308949878911623,-1.1308949878911623,-0.3822149751411715,-1.1308949878911623,-1.130894993046586,-1.1308949878911623,-1.1308949878911623,-1.1308949878911623,-1.1308949878911623,-1.1308949878911623,-1.130894987891164,-1.1308949878911623,-1.1308949878911623,-1.1308949878911643,-1.1308949878911623,-1.130894987894762,-1.1308949878911623,-1.1308949878911623,-1.1308949878911623,-1.1308949878911623,-1.1308949884949793,-1.1308949879098626,-1.1308949878911623,-1.1308949878911623,-1.1308949878911623,-1.1308949878911623,-1.1308949878911623,-1.130894988087218,-1.1308949878911623,-1.1308949878911623,-0.9511329279719754,-0.052322628376040854,-0.7713708680527883,-1.2027998118588368,-0.26803710027906524,-0.012020998961337431,-1.1308949878911818,-0.012020998961337433,-0.48691189163738646,-0.01637021639220351,0.02393141302249973,-0.7713708680527883,-0.48375157218208936],\"y\":[-0.0630170290956557,-0.09176944358880237,-0.06397544291208765,-0.06205861527922278,-0.08314371924086009,-0.07164275344360356,-0.09272785734978368,-0.09464468503811657,-0.09272785740524057,-0.09272785740524038,-0.09272785740524057,-0.09272785740524056,-0.09272785726945074,-0.0927278574049011,-0.09272785726945074,-0.09272785740524042,-0.09272785740524057,-0.09272785740524057,-0.09272785740524056,-0.09272785740524057,-0.09272785740524055,-0.08314371924085998,-0.09272785730465448,-0.0927278574052384,-0.09272785740524057,-0.09272785740524057,-0.09272785740524031,-0.09272785740523988,-0.09272785740524057,-0.09272785740524042,-0.09272785740524057,-0.09272785658385609,-0.09272785726945074,-0.09272785740523921,-0.09272785740524057,-0.09272785740524056,-0.09272785733740954,-0.09272785740524056,-0.09272785740524042,-0.09272785740524053,-0.10564995157264105,0.047141012893837264,-0.09272785740524057,-0.09272785736759111,-0.09272785740524042,-0.09272785740524052,-0.09272785740524049,-0.0927278179863073,-0.09272785740524057,-0.09272785740524057,-0.09272785740524057,-0.09272785740524057,-0.09272785740524042,-0.09272785733234028,-0.09272785740524057,-0.09272785740523924,-0.09272785734876061,-0.07547640870935574,-0.09272785740524053,-0.09272785740524003,-0.09272785733763703,-0.09272785740524052,-0.09272785740524042,-0.09272785740524057,-0.09272785740524042,-0.09272785740524044,-0.09272785740524042,-0.09272785740524057,-0.09272785727219575,-0.09368627122167855,-0.09272785740519722,-0.09272785740524057,-0.09272785740524057,-0.09272785740524055,-0.09272785740524057,-0.09272785740524057,-0.09272785740524057,-0.09272785740524057,-0.09272785740524057,-0.09272785740524057,-0.09272785738575166,-0.09272715777833108,-0.09272785740524057,-0.09272785740524056,-0.09272785740524057,-0.09272785740524057,-0.09272785740524048,-0.09272785740524057,-0.09272785740524044,-0.09272785739846529,-0.09272785740524052,-0.0927278574052404,-0.09272785740522699,-0.09272785740524057,-0.09272785740524057,-0.09272785740524052,-0.0927278574040295,-0.09272785740524057,-0.09272785740524057,-0.09272785740524057,-0.09272785740523921,-0.09272785740524042,-0.09272785740524056,-0.09272785740524057,-0.09272785729228482,-0.09272785740524057,-0.09272785740524048,-0.0927278573466942,-0.09272785740524057,-0.09272785740524057,-0.09272785731634123,-0.09272785740524057,-0.09272785740524057,-0.09272785740524057,-0.09272785740524055,-0.09272785740524057,-0.0927278574052402,-0.08017835065286735,-0.09272785740524057,-0.09272782169832924,-0.09272785740524052,-0.09272785740524038,-0.09272785740524057,-0.09272785740524042,-0.09272785740524057,-0.09272785740522711,-0.09272785740524057,-0.09272785740524053,-0.09272785740522699,-0.09272785740524057,-0.09272785738030866,-0.09272785740524057,-0.09272785740524057,-0.09272785740524057,-0.09272785740524056,-0.09272785322315093,-0.09272785727572015,-0.09272785740524056,-0.09272785740524057,-0.09272785740524045,-0.09272785740524057,-0.09272785740524057,-0.09272785604734225,-0.09272785740524048,-0.09272785740524057,-0.08793578832304898,-0.06397544291209864,-0.08314371924085961,-0.09464468503811622,-0.06972592581072606,-0.09994453224335206,-0.09272785740510477,-0.09994453224335204,-0.0792650004057686,-0.06301702909565977,-0.09898611842691292,-0.0831437192408601,-0.07547640870935572],\"z\":[0.020535086981012276,0.20507797772764635,0.02668651667256252,0.014383657289461352,0.1497151105036573,0.07589795420500507,0.21122940738203577,0.22353226680230942,0.21122940741920082,0.21122940741920068,0.21122940741920082,0.21122940741920077,0.2112294073281998,0.2112294074189733,0.2112294073281998,0.21122940741920068,0.21122940741920082,0.21122940741920082,0.21122940741920077,0.21122940741920082,0.21122940741920077,0.14971511050365718,0.211229407351792,0.21122940741919935,0.21122940741920082,0.21122940741920082,0.21122940741920063,0.21122940741920035,0.21122940741920082,0.21122940741920068,0.21122940741920082,0.21122940686874142,0.2112294073281998,0.2112294074191999,0.21122940741920082,0.21122940741920077,0.21122940737374313,0.21122940741920077,0.21122940741920068,0.21122940741920077,-0.03868315676627609,0.26850937702970296,0.21122940741920082,0.21122940739396964,0.21122940741920068,0.21122940741920077,0.21122940741920074,0.2112293810021925,0.21122940741920082,0.21122940741920082,0.21122940741920082,0.21122940741920082,0.21122940741920068,0.21122940737034593,0.21122940741920082,0.2112294074191999,0.21122940738135018,0.10050367297122251,0.21122940741920077,0.21122940741920043,0.2112294073738956,0.21122940741920077,0.21122940741920068,0.21122940741920082,0.21122940741920068,0.2112294074192007,0.21122940741920068,0.21122940741920082,0.21122940733003945,0.2173808371107551,0.21122940741917173,0.21122940741920082,0.21122940741920082,0.21122940741920077,0.21122940741920082,0.21122940741920082,0.21122940741920082,0.21122940741920082,0.21122940741920082,0.21122940741920082,0.2112294074061401,0.211230408948142,0.21122940741920082,0.21122940741920077,0.21122940741920082,0.21122940741920082,0.2112294074192007,0.21122940741920082,0.2112294074192007,0.2112294074146603,0.21122940741920077,0.21122940741920068,0.21122940741919172,0.21122940741920082,0.21122940741920082,0.21122940741920074,0.2112294074183892,0.21122940741920082,0.21122940741920082,0.21122940741920082,0.2112294074191999,0.21122940741920068,0.21122940741920077,0.21122940741920082,0.21122940734350232,0.21122940741920082,0.2112294074192007,0.21122940737996537,0.21122940741920082,0.21122940741920082,0.211229407359624,0.21122940741920082,0.21122940741920082,0.21122940741920082,0.21122940741920077,0.21122940741920082,0.21122940741920054,0.07016398872586008,0.21122940741920082,0.2112293834898426,0.21122940741920077,0.21122940741920068,0.21122940741920082,0.21122940741920068,0.21122940741920082,0.21122940741919177,0.21122940741920082,0.21122940741920077,0.21122940741919172,0.21122940741920082,0.2112294074024924,0.21122940741920082,0.21122940741920082,0.21122940741920082,0.21122940741920077,0.21122940461652992,0.21122940733240134,0.21122940741920077,0.21122940741920082,0.2112294074192007,0.21122940741920082,0.21122940741920082,0.2112294065091911,0.2112294074192007,0.21122940741920082,0.18047225896142816,0.026686516672569875,0.14971511050365693,0.2235322668023092,0.06359509482189542,-0.04504331856403513,0.21122940741910978,-0.04504331856403514,0.0945609753858728,0.020535086981014996,-0.05119474825559019,0.1497151105036573,0.1005036729712225]},{\"customdata\":[[3]],\"hovertemplate\":\"<b>%{hovertext}</b><br><br>Class=%{marker.color}<br>PC1=%{x}<br>PC2=%{y}<br>PC3=%{z}<br>Algorithm=%{customdata[0]}<extra></extra>\",\"hovertext\":[\"Rabbit Finance\"],\"legendgroup\":\"2\",\"marker\":{\"color\":[2],\"coloraxis\":\"coloraxis\",\"symbol\":\"square\"},\"mode\":\"markers\",\"name\":\"2\",\"scene\":\"scene\",\"showlegend\":true,\"type\":\"scatter3d\",\"x\":[-3.16931746429385],\"y\":[14.025562690024637],\"z\":[-9.25028991444978]},{\"customdata\":[[44]],\"hovertemplate\":\"<b>%{hovertext}</b><br><br>Class=%{marker.color}<br>PC1=%{x}<br>PC2=%{y}<br>PC3=%{z}<br>Algorithm=%{customdata[0]}<extra></extra>\",\"hovertext\":[\"eCash\"],\"legendgroup\":\"3\",\"marker\":{\"color\":[3],\"coloraxis\":\"coloraxis\",\"symbol\":\"x\"},\"mode\":\"markers\",\"name\":\"3\",\"scene\":\"scene\",\"showlegend\":true,\"type\":\"scatter3d\",\"x\":[4.206080999461119],\"y\":[9.609174999649131],\"z\":[13.537239212271874]}],                        {\"coloraxis\":{\"colorbar\":{\"title\":{\"text\":\"Class\"}},\"colorscale\":[[0.0,\"#0d0887\"],[0.1111111111111111,\"#46039f\"],[0.2222222222222222,\"#7201a8\"],[0.3333333333333333,\"#9c179e\"],[0.4444444444444444,\"#bd3786\"],[0.5555555555555556,\"#d8576b\"],[0.6666666666666666,\"#ed7953\"],[0.7777777777777778,\"#fb9f3a\"],[0.8888888888888888,\"#fdca26\"],[1.0,\"#f0f921\"]]},\"legend\":{\"title\":{\"text\":\"Class\"},\"tracegroupgap\":0,\"x\":0,\"y\":1},\"margin\":{\"t\":60},\"scene\":{\"domain\":{\"x\":[0.0,1.0],\"y\":[0.0,1.0]},\"xaxis\":{\"title\":{\"text\":\"PC1\"}},\"yaxis\":{\"title\":{\"text\":\"PC2\"}},\"zaxis\":{\"title\":{\"text\":\"PC3\"}}},\"template\":{\"data\":{\"bar\":[{\"error_x\":{\"color\":\"#2a3f5f\"},\"error_y\":{\"color\":\"#2a3f5f\"},\"marker\":{\"line\":{\"color\":\"#E5ECF6\",\"width\":0.5},\"pattern\":{\"fillmode\":\"overlay\",\"size\":10,\"solidity\":0.2}},\"type\":\"bar\"}],\"barpolar\":[{\"marker\":{\"line\":{\"color\":\"#E5ECF6\",\"width\":0.5},\"pattern\":{\"fillmode\":\"overlay\",\"size\":10,\"solidity\":0.2}},\"type\":\"barpolar\"}],\"carpet\":[{\"aaxis\":{\"endlinecolor\":\"#2a3f5f\",\"gridcolor\":\"white\",\"linecolor\":\"white\",\"minorgridcolor\":\"white\",\"startlinecolor\":\"#2a3f5f\"},\"baxis\":{\"endlinecolor\":\"#2a3f5f\",\"gridcolor\":\"white\",\"linecolor\":\"white\",\"minorgridcolor\":\"white\",\"startlinecolor\":\"#2a3f5f\"},\"type\":\"carpet\"}],\"choropleth\":[{\"colorbar\":{\"outlinewidth\":0,\"ticks\":\"\"},\"type\":\"choropleth\"}],\"contour\":[{\"colorbar\":{\"outlinewidth\":0,\"ticks\":\"\"},\"colorscale\":[[0.0,\"#0d0887\"],[0.1111111111111111,\"#46039f\"],[0.2222222222222222,\"#7201a8\"],[0.3333333333333333,\"#9c179e\"],[0.4444444444444444,\"#bd3786\"],[0.5555555555555556,\"#d8576b\"],[0.6666666666666666,\"#ed7953\"],[0.7777777777777778,\"#fb9f3a\"],[0.8888888888888888,\"#fdca26\"],[1.0,\"#f0f921\"]],\"type\":\"contour\"}],\"contourcarpet\":[{\"colorbar\":{\"outlinewidth\":0,\"ticks\":\"\"},\"type\":\"contourcarpet\"}],\"heatmap\":[{\"colorbar\":{\"outlinewidth\":0,\"ticks\":\"\"},\"colorscale\":[[0.0,\"#0d0887\"],[0.1111111111111111,\"#46039f\"],[0.2222222222222222,\"#7201a8\"],[0.3333333333333333,\"#9c179e\"],[0.4444444444444444,\"#bd3786\"],[0.5555555555555556,\"#d8576b\"],[0.6666666666666666,\"#ed7953\"],[0.7777777777777778,\"#fb9f3a\"],[0.8888888888888888,\"#fdca26\"],[1.0,\"#f0f921\"]],\"type\":\"heatmap\"}],\"heatmapgl\":[{\"colorbar\":{\"outlinewidth\":0,\"ticks\":\"\"},\"colorscale\":[[0.0,\"#0d0887\"],[0.1111111111111111,\"#46039f\"],[0.2222222222222222,\"#7201a8\"],[0.3333333333333333,\"#9c179e\"],[0.4444444444444444,\"#bd3786\"],[0.5555555555555556,\"#d8576b\"],[0.6666666666666666,\"#ed7953\"],[0.7777777777777778,\"#fb9f3a\"],[0.8888888888888888,\"#fdca26\"],[1.0,\"#f0f921\"]],\"type\":\"heatmapgl\"}],\"histogram\":[{\"marker\":{\"pattern\":{\"fillmode\":\"overlay\",\"size\":10,\"solidity\":0.2}},\"type\":\"histogram\"}],\"histogram2d\":[{\"colorbar\":{\"outlinewidth\":0,\"ticks\":\"\"},\"colorscale\":[[0.0,\"#0d0887\"],[0.1111111111111111,\"#46039f\"],[0.2222222222222222,\"#7201a8\"],[0.3333333333333333,\"#9c179e\"],[0.4444444444444444,\"#bd3786\"],[0.5555555555555556,\"#d8576b\"],[0.6666666666666666,\"#ed7953\"],[0.7777777777777778,\"#fb9f3a\"],[0.8888888888888888,\"#fdca26\"],[1.0,\"#f0f921\"]],\"type\":\"histogram2d\"}],\"histogram2dcontour\":[{\"colorbar\":{\"outlinewidth\":0,\"ticks\":\"\"},\"colorscale\":[[0.0,\"#0d0887\"],[0.1111111111111111,\"#46039f\"],[0.2222222222222222,\"#7201a8\"],[0.3333333333333333,\"#9c179e\"],[0.4444444444444444,\"#bd3786\"],[0.5555555555555556,\"#d8576b\"],[0.6666666666666666,\"#ed7953\"],[0.7777777777777778,\"#fb9f3a\"],[0.8888888888888888,\"#fdca26\"],[1.0,\"#f0f921\"]],\"type\":\"histogram2dcontour\"}],\"mesh3d\":[{\"colorbar\":{\"outlinewidth\":0,\"ticks\":\"\"},\"type\":\"mesh3d\"}],\"parcoords\":[{\"line\":{\"colorbar\":{\"outlinewidth\":0,\"ticks\":\"\"}},\"type\":\"parcoords\"}],\"pie\":[{\"automargin\":true,\"type\":\"pie\"}],\"scatter\":[{\"marker\":{\"colorbar\":{\"outlinewidth\":0,\"ticks\":\"\"}},\"type\":\"scatter\"}],\"scatter3d\":[{\"line\":{\"colorbar\":{\"outlinewidth\":0,\"ticks\":\"\"}},\"marker\":{\"colorbar\":{\"outlinewidth\":0,\"ticks\":\"\"}},\"type\":\"scatter3d\"}],\"scattercarpet\":[{\"marker\":{\"colorbar\":{\"outlinewidth\":0,\"ticks\":\"\"}},\"type\":\"scattercarpet\"}],\"scattergeo\":[{\"marker\":{\"colorbar\":{\"outlinewidth\":0,\"ticks\":\"\"}},\"type\":\"scattergeo\"}],\"scattergl\":[{\"marker\":{\"colorbar\":{\"outlinewidth\":0,\"ticks\":\"\"}},\"type\":\"scattergl\"}],\"scattermapbox\":[{\"marker\":{\"colorbar\":{\"outlinewidth\":0,\"ticks\":\"\"}},\"type\":\"scattermapbox\"}],\"scatterpolar\":[{\"marker\":{\"colorbar\":{\"outlinewidth\":0,\"ticks\":\"\"}},\"type\":\"scatterpolar\"}],\"scatterpolargl\":[{\"marker\":{\"colorbar\":{\"outlinewidth\":0,\"ticks\":\"\"}},\"type\":\"scatterpolargl\"}],\"scatterternary\":[{\"marker\":{\"colorbar\":{\"outlinewidth\":0,\"ticks\":\"\"}},\"type\":\"scatterternary\"}],\"surface\":[{\"colorbar\":{\"outlinewidth\":0,\"ticks\":\"\"},\"colorscale\":[[0.0,\"#0d0887\"],[0.1111111111111111,\"#46039f\"],[0.2222222222222222,\"#7201a8\"],[0.3333333333333333,\"#9c179e\"],[0.4444444444444444,\"#bd3786\"],[0.5555555555555556,\"#d8576b\"],[0.6666666666666666,\"#ed7953\"],[0.7777777777777778,\"#fb9f3a\"],[0.8888888888888888,\"#fdca26\"],[1.0,\"#f0f921\"]],\"type\":\"surface\"}],\"table\":[{\"cells\":{\"fill\":{\"color\":\"#EBF0F8\"},\"line\":{\"color\":\"white\"}},\"header\":{\"fill\":{\"color\":\"#C8D4E3\"},\"line\":{\"color\":\"white\"}},\"type\":\"table\"}]},\"layout\":{\"annotationdefaults\":{\"arrowcolor\":\"#2a3f5f\",\"arrowhead\":0,\"arrowwidth\":1},\"autotypenumbers\":\"strict\",\"coloraxis\":{\"colorbar\":{\"outlinewidth\":0,\"ticks\":\"\"}},\"colorscale\":{\"diverging\":[[0,\"#8e0152\"],[0.1,\"#c51b7d\"],[0.2,\"#de77ae\"],[0.3,\"#f1b6da\"],[0.4,\"#fde0ef\"],[0.5,\"#f7f7f7\"],[0.6,\"#e6f5d0\"],[0.7,\"#b8e186\"],[0.8,\"#7fbc41\"],[0.9,\"#4d9221\"],[1,\"#276419\"]],\"sequential\":[[0.0,\"#0d0887\"],[0.1111111111111111,\"#46039f\"],[0.2222222222222222,\"#7201a8\"],[0.3333333333333333,\"#9c179e\"],[0.4444444444444444,\"#bd3786\"],[0.5555555555555556,\"#d8576b\"],[0.6666666666666666,\"#ed7953\"],[0.7777777777777778,\"#fb9f3a\"],[0.8888888888888888,\"#fdca26\"],[1.0,\"#f0f921\"]],\"sequentialminus\":[[0.0,\"#0d0887\"],[0.1111111111111111,\"#46039f\"],[0.2222222222222222,\"#7201a8\"],[0.3333333333333333,\"#9c179e\"],[0.4444444444444444,\"#bd3786\"],[0.5555555555555556,\"#d8576b\"],[0.6666666666666666,\"#ed7953\"],[0.7777777777777778,\"#fb9f3a\"],[0.8888888888888888,\"#fdca26\"],[1.0,\"#f0f921\"]]},\"colorway\":[\"#636efa\",\"#EF553B\",\"#00cc96\",\"#ab63fa\",\"#FFA15A\",\"#19d3f3\",\"#FF6692\",\"#B6E880\",\"#FF97FF\",\"#FECB52\"],\"font\":{\"color\":\"#2a3f5f\"},\"geo\":{\"bgcolor\":\"white\",\"lakecolor\":\"white\",\"landcolor\":\"#E5ECF6\",\"showlakes\":true,\"showland\":true,\"subunitcolor\":\"white\"},\"hoverlabel\":{\"align\":\"left\"},\"hovermode\":\"closest\",\"mapbox\":{\"style\":\"light\"},\"paper_bgcolor\":\"white\",\"plot_bgcolor\":\"#E5ECF6\",\"polar\":{\"angularaxis\":{\"gridcolor\":\"white\",\"linecolor\":\"white\",\"ticks\":\"\"},\"bgcolor\":\"#E5ECF6\",\"radialaxis\":{\"gridcolor\":\"white\",\"linecolor\":\"white\",\"ticks\":\"\"}},\"scene\":{\"xaxis\":{\"backgroundcolor\":\"#E5ECF6\",\"gridcolor\":\"white\",\"gridwidth\":2,\"linecolor\":\"white\",\"showbackground\":true,\"ticks\":\"\",\"zerolinecolor\":\"white\"},\"yaxis\":{\"backgroundcolor\":\"#E5ECF6\",\"gridcolor\":\"white\",\"gridwidth\":2,\"linecolor\":\"white\",\"showbackground\":true,\"ticks\":\"\",\"zerolinecolor\":\"white\"},\"zaxis\":{\"backgroundcolor\":\"#E5ECF6\",\"gridcolor\":\"white\",\"gridwidth\":2,\"linecolor\":\"white\",\"showbackground\":true,\"ticks\":\"\",\"zerolinecolor\":\"white\"}},\"shapedefaults\":{\"line\":{\"color\":\"#2a3f5f\"}},\"ternary\":{\"aaxis\":{\"gridcolor\":\"white\",\"linecolor\":\"white\",\"ticks\":\"\"},\"baxis\":{\"gridcolor\":\"white\",\"linecolor\":\"white\",\"ticks\":\"\"},\"bgcolor\":\"#E5ECF6\",\"caxis\":{\"gridcolor\":\"white\",\"linecolor\":\"white\",\"ticks\":\"\"}},\"title\":{\"x\":0.05},\"xaxis\":{\"automargin\":true,\"gridcolor\":\"white\",\"linecolor\":\"white\",\"ticks\":\"\",\"title\":{\"standoff\":15},\"zerolinecolor\":\"white\",\"zerolinewidth\":2},\"yaxis\":{\"automargin\":true,\"gridcolor\":\"white\",\"linecolor\":\"white\",\"ticks\":\"\",\"title\":{\"standoff\":15},\"zerolinecolor\":\"white\",\"zerolinewidth\":2}}},\"width\":800},                        {\"responsive\": true}                    ).then(function(){\n",
       "                            \n",
       "var gd = document.getElementById('62dd7296-c992-416c-807b-423adaeb7ebc');\n",
       "var x = new MutationObserver(function (mutations, observer) {{\n",
       "        var display = window.getComputedStyle(gd).display;\n",
       "        if (!display || display === 'none') {{\n",
       "            console.log([gd, 'removed!']);\n",
       "            Plotly.purge(gd);\n",
       "            observer.disconnect();\n",
       "        }}\n",
       "}});\n",
       "\n",
       "// Listen for the removal of the full notebook cells\n",
       "var notebookContainer = gd.closest('#notebook-container');\n",
       "if (notebookContainer) {{\n",
       "    x.observe(notebookContainer, {childList: true});\n",
       "}}\n",
       "\n",
       "// Listen for the clearing of the current output cell\n",
       "var outputEl = gd.closest('.output');\n",
       "if (outputEl) {{\n",
       "    x.observe(outputEl, {childList: true});\n",
       "}}\n",
       "\n",
       "                        })                };                });            </script>        </div>"
      ]
     },
     "metadata": {},
     "output_type": "display_data"
    }
   ],
   "source": [
    "# Create a 3D-Scatter with the PCA data and the clusters\n",
    "fig = px.scatter_3d(\n",
    "    combined_df,\n",
    "    x='PC1',\n",
    "    y='PC2',\n",
    "    z='PC3',\n",
    "    color='Class',\n",
    "    symbol='Class',\n",
    "    width=800,\n",
    "    hover_name=\"CoinName\",\n",
    "    hover_data=[\"Algorithm\"]\n",
    ")\n",
    "\n",
    "fig.update_layout(legend=dict(x=0, y=1))\n",
    "fig.show()"
   ]
  },
  {
   "cell_type": "markdown",
   "metadata": {},
   "source": [
    "#### Table of Tradable Cryptocurrencies"
   ]
  },
  {
   "cell_type": "code",
   "execution_count": 250,
   "metadata": {},
   "outputs": [
    {
     "data": {},
     "metadata": {},
     "output_type": "display_data"
    },
    {
     "data": {
      "application/vnd.holoviews_exec.v0+json": "",
      "text/html": [
       "<div id='2129'>\n",
       "\n",
       "\n",
       "\n",
       "\n",
       "\n",
       "  <div class=\"bk-root\" id=\"23acb84c-b559-4508-b813-8c89fb5912b4\" data-root-id=\"2129\"></div>\n",
       "</div>\n",
       "<script type=\"application/javascript\">(function(root) {\n",
       "  function embed_document(root) {\n",
       "    var docs_json = {\"093dbc75-2c8b-4fc2-8c11-64ffa55481ac\":{\"defs\":[{\"extends\":null,\"module\":null,\"name\":\"ReactiveHTML1\",\"overrides\":[],\"properties\":[]},{\"extends\":null,\"module\":null,\"name\":\"FlexBox1\",\"overrides\":[],\"properties\":[{\"default\":\"flex-start\",\"kind\":null,\"name\":\"align_content\"},{\"default\":\"flex-start\",\"kind\":null,\"name\":\"align_items\"},{\"default\":\"row\",\"kind\":null,\"name\":\"flex_direction\"},{\"default\":\"wrap\",\"kind\":null,\"name\":\"flex_wrap\"},{\"default\":\"flex-start\",\"kind\":null,\"name\":\"justify_content\"}]},{\"extends\":null,\"module\":null,\"name\":\"TemplateActions1\",\"overrides\":[],\"properties\":[{\"default\":0,\"kind\":null,\"name\":\"open_modal\"},{\"default\":0,\"kind\":null,\"name\":\"close_modal\"}]},{\"extends\":null,\"module\":null,\"name\":\"MaterialTemplateActions1\",\"overrides\":[],\"properties\":[{\"default\":0,\"kind\":null,\"name\":\"open_modal\"},{\"default\":0,\"kind\":null,\"name\":\"close_modal\"}]}],\"roots\":{\"references\":[{\"attributes\":{},\"id\":\"2158\",\"type\":\"NumberFormatter\"},{\"attributes\":{},\"id\":\"2149\",\"type\":\"StringEditor\"},{\"attributes\":{\"editor\":{\"id\":\"2154\"},\"field\":\"TotalCoinsMined\",\"formatter\":{\"id\":\"2153\"},\"title\":\"TotalCoinsMined\"},\"id\":\"2155\",\"type\":\"TableColumn\"},{\"attributes\":{\"editor\":{\"id\":\"2139\"},\"field\":\"Algorithm\",\"formatter\":{\"id\":\"2138\"},\"title\":\"Algorithm\"},\"id\":\"2140\",\"type\":\"TableColumn\"},{\"attributes\":{\"data\":{\"Algorithm\":{\"__ndarray__\":\"JwAAADgAAAAxAAAAMQAAACsAAAAOAAAANgAAABIAAAAaAAAADgAAACwAAAAiAAAAKAAAADoAAAAJAAAAOQAAABgAAAAEAAAALAAAACEAAAAmAAAAFQAAACMAAAAqAAAAMQAAACwAAAAvAAAADQAAABIAAAAVAAAALAAAABkAAAADAAAAAQAAAAMAAAADAAAAAwAAADUAAAADAAAAAwAAAAMAAAADAAAAAwAAAAMAAAAsAAAAMQAAAAMAAAAsAAAAAwAAAAMAAAADAAAADQAAAAMAAAADAAAAAwAAAAMAAAADAAAAAwAAAAMAAAADAAAAAwAAAAMAAAADAAAAMwAAAAMAAAADAAAAMwAAAAMAAAADAAAAAwAAACEAAAADAAAAAwAAAAAAAAAWAAAAAwAAAAMAAAA5AAAAAwAAAAMAAAASAAAAMwAAAAMAAAADAAAAAwAAAAMAAAADAAAAAwAAAAMAAAADAAAAAwAAAAMAAAADAAAAFQAAACQAAAADAAAAAwAAAAMAAAADAAAAAwAAAAMAAAADAAAAAwAAAAMAAAADAAAAAwAAAAIAAAADAAAAAwAAAAMAAAADAAAAAwAAAAMAAAADAAAAAwAAAAMAAAADAAAAAwAAAAMAAAADAAAAAwAAAAMAAAADAAAAAwAAAAMAAAADAAAAAwAAAAMAAAADAAAAAwAAAAMAAAADAAAAAwAAAAMAAAADAAAAAwAAAAMAAAADAAAAAwAAAAMAAAADAAAAAwAAAAMAAAADAAAAAwAAAAMAAAADAAAAAwAAAAMAAAADAAAAAwAAAAMAAAADAAAAOAAAAAMAAAADAAAADAAAADEAAAAVAAAAEgAAAAkAAAASAAAAGgAAAAMAAAADAAAAAwAAAAMAAAADAAAAEQAAAAMAAAADAAAAMQAAADEAAAAnAAAAOAAAAAMAAAADAAAAAwAAAAoAAAAHAAAAAwAAAAMAAAADAAAAAwAAAAMAAAADAAAALAAAAAMAAAADAAAAAwAAAAMAAAADAAAAAwAAADEAAAAnAAAADQAAAAEAAAAhAAAAAwAAAAMAAAADAAAAAwAAAAMAAAAxAAAAAwAAACwAAAAzAAAANQAAAA8AAAAzAAAADQAAADEAAAA0AAAAMQAAAC4AAAA4AAAACAAAACwAAAArAAAAFQAAABIAAAAIAAAAIQAAADEAAAANAAAAHQAAABMAAAAfAAAAIQAAADAAAAAsAAAAJwAAADYAAAAxAAAAHAAAADcAAAAIAAAAMQAAADEAAAANAAAAAQAAABsAAAAmAAAAOAAAAC0AAAAFAAAAMQAAABUAAAASAAAAJwAAAAMAAAA4AAAADQAAABAAAAASAAAABQAAACwAAAAsAAAAEgAAACwAAAAyAAAAMQAAACoAAAAeAAAACgAAADYAAAAVAAAAJQAAAC0AAAASAAAANgAAACIAAAAKAAAABgAAADEAAAANAAAAFAAAACAAAAANAAAAFwAAAAsAAAANAAAAMQAAADEAAAAnAAAAOwAAADEAAAASAAAAFQAAAA0AAAAqAAAAKQAAAA==\",\"dtype\":\"int32\",\"order\":\"little\",\"shape\":[292]},\"CirculatingSupply\":{\"__ndarray__\":\"AAAAAAAAAAAAAAAAAAAAAAAAAAAAAAAAAAAAAAAAAAAAAAAAAAAAAAAAAAAAAAAAAAAAAAAAAAAAAAAAAAAAAAAAAAAAAAAAAAAAAAAAAAAAAAAAAAAAAAAAAAAAAAAAPGEk/ESraEEAAAAAAAAAAAAAAAAAAAAAAAAAAAAAAAAAAAAAAAAAAAAAAAAAAAAAAAAAAAAAAAAAAAAAAAAAAAAAAAAAAAAAAAAAAAAAAAAAAAAAAAAAAAAAAAAAAAAAAAAAAAAAAAAAAACwwuSHQQAAAAAAAAAAAAAAAAAAAAAAAAAAAAAAAAAAAAAAAAAAAAAAAAAAAAAAAAAAAAAAAAAAAAAAAAAAAAAAAAAAAAAAAAAAAAAAAAAAAAAAAAAAAAAAAAAAAAAAAAAAAAAAAAAAAAAAAAAAAAAAAAAAAAAAAAAAAAAAAAAAAAAAAAAAAAAAAAAAAAAAAAAAAAAAAAAAAAAAAAAAAAAAAAAAAAAAAAAAAAAAAAAAAAAAAAAAAAAAAAAAAAAAAAAAAAAAAAAAAAAAAAAAAAAAAAAAAAAAAAAAAAAAAAAAAAAAAAAAAAAAAAAAAAAAAAAAAAAAAAAAAAAAAAAAAAAAAAAAAAAAAAAAAAAAAAAAAAAAAAAAAAAAAAAAAAAAAAAAAAAAAAAAAAAAAAAAAAAAAAAAAAAAAAAAAAAAAAAAAAAAAAAAAAAAAAAAAAAAAAAAAAAAAAAAAAAAAAAAAAAAAAAAAAAAAAAAAAAAAAAAAAAAAAAAAAAAAAAAAAAAAAAAAAAAALpb+Xy1q0tCAAAAAAAAAAAAAAAAAAAAAAAAAAAAAAAAAAAAAAAAAAAAAAAAAAAAAAAAAAAAAAAAAAAAAAAAAAAAAAAAAAAAAAAAAAAAAAAAAAAAAAAAAAAAAAAAAAAAAAAAAAAAAAAAAAAAAAAAAAAAAAAAAAAAAAAAAAAAAAAAAAAAAAAAAAAAAAAAAAAAAAAAAAAAAAAAAAAAAAAAAAAAAAAAAAAAAAAAAAAAAAAAAAAAAAAAAAAAAAAAAAAAAAAAAAAAAAAAAAAAAAAAAAAAAAAAAAAAAAAAAAAAAAAAAAAAAAAAAAAAAAAAAAAAAAAAAAAAAAAAAAAAAAAAAAAAAAAAAAAAAAAAAAAAAAAAAAAAAAAAAAAAAAAAAAAAAAAAAAAAAAAAAAAAAAAAAAAAAAAAAAAAAAAAAAAAAAAAAAAAAAAAAAAAAAAAAAAAAAAAAAAAAAAAAAAAAAAAAAAAAAAAAAAAAP0bsLJn2zRBAAAAAAAAAAAAAAAAAAAAAAAAAAAAAAAAAAAAAAAAAAAAAAAAAAAAAAAAAAAAAAAAAAAAAAAAAAAAAAAAAAAAAAAAAAAAAAAAAAAAAAAAAAAAAAAAAAAAAAAAAAAAAAAAAAAAAAAAAAAAAAAAAAAAAAAAAAAAAAAAAAAAAAAAAAAAAAAAAAAAAAAAAAAAAAAAAAAAAAAAAAAAAAAAAAAAAAAAAAAAAAAAAAAAAAAAAAAAAAAAAAAAAAAAAAAAAAAAAAAAAAAAAAAAAAAAAAAAAAAAAAAAAAAAAAAAAAAAAAAAAAAAAAAAAAAAAAAAAAAAAAAAAAAAAAAAAAAAAAAAAAAAAAAAAAAAAAAAAAAAAAAAAAAAAAAAAAAAAAAAAAAAAAAAAAAAAAAAAAAAAAAAAAAAAAAAAAAAAAAAAAAAAAAAAAAAAAAAAAAAAAAAAAAAAAAAAAAAAAAAAAAAAAAAAAAAAAAAAAAAAAAAAAAAAAAAAAAAAAAAAAAAAAAAAAAAAAAAAAAAAAAAAAAAAAAAAAAAAAAAAAAAAAAAAAAAAAAAAAAAAAAAAAAAAAAAAAAAAAAAAAAAAAAAAAAAAAAAAAAAAAAAAAAAAAAAAAAAAAAAAAAAAAAAAAAAAAAAAAAAAAAAAAAAAAAAAAAAAAAAAAAAAAAAAAAAAAAAAAAAAAAAAAAAAAAAAAAAAAAAAAAAAAAAAAAAAAAAAAAAAAAAAAAAAAAAAAAAAAAAAAAAAAAAAAAAAAAAAAAAAAAAAAAAAAAAAAAAAAAAAAAAAAAAAAAAAAAAAAAAAAAAAAAAAAAAAAAAAAAAAAAAAAAAAAAAAAAAAAAAAAAAAAAAAAAAAAAAAAAAAAAAAAAAAAAAAAAAAAAAAAAAAAAAAAAAAAAAAAAAAAAAAABhNYql/i+xQgAAAAAAAAAAAAAAAAAAAAAAAAAAAAAAAAAAAAAAAAAAAAAAAAAAAAAAAAAAAAAAAAAAAAAAAAAAAAAAAAAAAAAAAAAAAAAAAAAAAAAAAAAAAAAAAAAAAAAAAAAAAAAAAAAAAAAAAAAAAAAAAAAAAAAAAAAAAAAAAAAAAAAAAAAAAAAAAAAAAAAAAAAAAAAAAAAAAAAAAAAAAAAAAAAAAAAAAAAAAAAAAAAAAAAAAAAAAAAAAAAAAAAAAAAAAAAAAAAAAAAAAAAAAAAAAAAAAAAAAAAAAAAAAAAAAAAAAAAAAAAAAAAAAAAAAAAAAAAAAAAAAAAAAAAAAAAAAAAAAAAAAAAAAAAAAAAAAAAAAAAAAAAAAAAAAAAAAAAAAAAAAAAAAAAAAAAAAAAAAAAAAAAAAAAAAAAAAAAAAAAAAAAAi7SfnLu6PkLb+X78jzecQQAAAAAAAAAAw41pUUnyUEEAAAAAAAAAAAAAAAAAAAAAAAAAAAAAAAAAAAAAAAAAAAAAAAAAAAAAAAAAAAAAAAAAAAAg4/9xQb6wWHqJBnJBAAAAAAAAAACbzU6erwVyQQAAAAAAAAAAAAAAAAAAAAAAAAAAAAAAAAAAAAAAAAAAAAAAAAAAAAAAAAAAAAAAAAAAAAAAAAAAvzxBQsWMHkIAAAAAAAAAAAAAAAAAAAAAuy7VpsznY0EAAAAAAAAAAAAAAAB7+GRBAAAAAAAAAAAAAAAAAAAAAEvIX8a6+c5BeERsmWrsnkEAAAAAAAAAAAAAAAAAAAAAAAAAAAAAAAAAAAAAAAAAAAAAAAAAAAAAHRPvNjVykEEAAAAAAAAAAAAAAAAAAAAAAAAAAAAAAAAAAAAAAAAAAAAAAAAAAAAAAAAAAAAAAAAAAAAAAAAAAAAAAAAAAAAAAAAAAAAAAAA=\",\"dtype\":\"float64\",\"order\":\"little\",\"shape\":[292]},\"Class\":{\"__ndarray__\":\"AAAAAAAAAAAAAAAAAAAAAAAAAAAAAAAAAAAAAAAAAAAAAAAAAAAAAAAAAAABAAAAAAAAAAAAAAAAAAAAAAAAAAAAAAABAAAAAAAAAAEAAAAAAAAAAAAAAAEAAAAAAAAAAAAAAAAAAAAAAAAAAQAAAAAAAAAAAAAAAAAAAAEAAAABAAAAAQAAAAEAAAABAAAAAQAAAAAAAAABAAAAAQAAAAEAAAABAAAAAQAAAAEAAAAAAAAAAAAAAAEAAAAAAAAAAQAAAAEAAAABAAAAAQAAAAEAAAABAAAAAQAAAAEAAAABAAAAAQAAAAEAAAABAAAAAQAAAAEAAAABAAAAAAAAAAEAAAABAAAAAAAAAAEAAAABAAAAAQAAAAAAAAABAAAAAQAAAAEAAAABAAAAAQAAAAEAAAAAAAAAAQAAAAEAAAAAAAAAAAAAAAEAAAABAAAAAQAAAAEAAAABAAAAAQAAAAEAAAABAAAAAQAAAAEAAAABAAAAAQAAAAAAAAABAAAAAQAAAAEAAAABAAAAAQAAAAEAAAABAAAAAQAAAAEAAAABAAAAAQAAAAEAAAABAAAAAQAAAAEAAAABAAAAAQAAAAEAAAACAAAAAQAAAAEAAAABAAAAAQAAAAEAAAABAAAAAQAAAAEAAAABAAAAAQAAAAEAAAABAAAAAQAAAAEAAAABAAAAAQAAAAEAAAABAAAAAQAAAAEAAAABAAAAAQAAAAEAAAABAAAAAQAAAAEAAAABAAAAAQAAAAEAAAABAAAAAQAAAAEAAAABAAAAAQAAAAEAAAABAAAAAQAAAAEAAAABAAAAAAAAAAEAAAABAAAAAAAAAAAAAAAAAAAAAAAAAAAAAAABAAAAAAAAAAEAAAABAAAAAQAAAAAAAAABAAAAAAAAAAEAAAABAAAAAAAAAAAAAAAAAAAAAAAAAAEAAAABAAAAAQAAAAAAAAAAAAAAAQAAAAEAAAABAAAAAQAAAAEAAAABAAAAAAAAAAEAAAABAAAAAQAAAAEAAAABAAAAAQAAAAAAAAAAAAAAAAAAAAAAAAAAAAAAAQAAAAEAAAABAAAAAQAAAAEAAAAAAAAAAQAAAAMAAAAAAAAAAAAAAAAAAAAAAAAAAAAAAAAAAAAAAAAAAAAAAAAAAAAAAAAAAAAAAAAAAAAAAAAAAAAAAAAAAAABAAAAAQAAAAAAAAABAAAAAAAAAAAAAAAAAAAAAAAAAAAAAAAAAAAAAAAAAAAAAAAAAAAAAAAAAAAAAAAAAAAAAAAAAAAAAAAAAAAAAQAAAAEAAAAAAAAAAAAAAAAAAAABAAAAAAAAAAAAAAAAAAAAAAAAAAEAAAAAAAAAAAAAAAAAAAAAAAAAAQAAAAAAAAAAAAAAAAAAAAAAAAAAAAAAAAAAAAAAAAAAAAAAAAAAAAAAAAAAAAAAAAAAAAAAAAABAAAAAAAAAAEAAAAAAAAAAQAAAAAAAAAAAAAAAAAAAAAAAAAAAAAAAAAAAAAAAAABAAAAAAAAAAAAAAAAAAAAAAAAAAAAAAAAAAAAAQAAAAAAAAAAAAAAAAAAAA==\",\"dtype\":\"int32\",\"order\":\"little\",\"shape\":[292]},\"CoinName\":[\"NuShares\",\"Triangles Coin\",\"CometCoin\",\"OpenChat\",\"Quantum Resistant Ledger\",\"Amber\",\"Pura\",\"Bitcoin Private\",\"Aidos Kuneen\",\"DAPS Coin\",\"Foin\",\"Nevula\",\"Zano\",\"VEIL\",\"MimbleWimbleCoin\",\"Ravencoin Classic\",\"XDNA\",\"Swingby\",\"Wibcoin\",\"Revain\",\"TokenPay\",\"EtherZero\",\"NextDAO\",\"QuarkCoin\",\"United Emirates Coin\",\"Arweave\",\"MAPS\",\"Tenset\",\"Bithereum\",\"BeforeCoinMarketCap\",\"Smart Bitcoin\",\"WeStarter\",\"YooShi\",\"BakeryToken\",\"IMPULSE by FDR\",\"Altura\",\"DekBox\",\"VEED\",\"Less Network\",\"KingDoge\",\"SafeHamsters\",\"Yuang Coin\",\"Kiwigo\",\"Votechain\",\"UnitedBitcoin\",\"VeriCoin\",\"Pea Farm\",\"Emercoin\",\"SparkPoint Fuel\",\"Genshiro\",\"Binamon\",\"ModiHost\",\"MiniDOGE\",\"RealFevr\",\"MocktailSwap\",\"Effort Economy \",\"QueenDex Coin\",\"Lion Token\",\"Artex\",\"TBCC\",\"xWIN Finance\",\"MContent\",\"Tokyo AU\",\"Novax Coin\",\"ShonToken\",\"Investelly token\",\"TRONbetLive\",\"Binance Smart Chain Girl\",\"Daddy Doge\",\"Five7\",\"Circuits of Value\",\"Diamond Boyz Coin\",\"Plant vs Undead Token\",\"Ergo\",\"ECOMI\",\"Coin98\",\"Safe Energy\",\"Genix\",\"Trust Wallet Token\",\"Lanceria\",\"Beam\",\"Didcoin\",\"Teaswap Art\",\"Kaiken Shiba\",\"My DeFi Pet\",\"BunnyPark\",\"ApeSwap Finance\",\"Pancake Bunny\",\"Alpha Finance Lab\",\"Safe Star\",\"Pylon Eco Token\",\"Metahero\",\"Pig Finance\",\"Waltonchain\",\"FeatherCoin\",\"Monsta Infinite\",\"Doggy\",\"Xiasi Inu\",\"Thetan Arena\",\"Nafter\",\"CryptoBlades\",\"CryptoZoon\",\"Binemon\",\"HoDooi.com\",\"Smaugs NFT\",\"Wall Street Games\",\"Honest\",\"Radio Caca\",\"Sishi Finance\",\"Feeder Finance\",\"Battle Pets\",\"Pacoca\",\"Pancake Hunny\",\"Rabbit Finance\",\"NFT Alley\",\"TEN\",\"Dehero Community Token\",\"Wheelers\",\"ShibaCash\",\"Longdrink Finance\",\"Eggplant Finance\",\"EIFI FINANCE\",\"TendieSwap\",\"CosmicSwap\",\"Vention\",\"WOWswap\",\"Betu\",\"Wenlambo\",\"Sheesh it is bussin bussin\",\"Pet Games\",\"CheCoin\",\"GemGuardian\",\"ForeverFOMO\",\"Knight War Spirits\",\"KRYZA Network\",\"Badger Sett Badger\",\"Portify\",\"DogeHouse Capital\",\"Bholdus Token\",\"Sphynx Token\",\"RugZombie\",\"LPI DAO\",\"Rainbow Token\",\"Step Hero\",\"Starpunk\",\"The Real Golden Inu\",\"Jade Currency\",\"Binamars\",\"BUMooN\",\"Loud Market\",\"DefiXBet\",\"RiceFarm\",\"BNB Cash\",\"Stratis\",\"Bogged Finance\",\"Dexit Finance\",\"AEON\",\"Canada eCoin\",\"Expanse\",\"TENT\",\"Grin\",\"Pirate Chain\",\"Internet Node token\",\"Roseon Finance\",\"BabyDoge\",\"Splinterlands\",\"SafePal\",\"CumRocket\",\"Nervos Network\",\"Lucky Lion\",\"OpenOcean\",\"Reddcoin\",\"PotCoin\",\"Nxt\",\"CloakCoin\",\"SIL Finance Token V2\",\"Bonus Cake\",\"TrustFi Network Token\",\"Beldex\",\"Handshake\",\"gotEM\",\"Pitch Finance Token\",\"Torii Finance\",\"GOMA Finance\",\"GameFi\",\"Shell Token\",\"REDi\",\"Pokmonsters\",\"Kalata Protocol\",\"NFT Art Finance\",\"Baby Floki Billionaire\",\"VelasPad\",\"Lazio Fan Token\",\"ViaCoin\",\"Anchor Protocol\",\"ARK\",\"Binance Coin\",\"DigiByte\",\"HarmonyPad\",\"YocoinYOCO\",\"JERITEX\",\"Australian Safe Shepherd\",\"TRONPAD\",\"Auroracoin\",\"AUREO\",\"eCash\",\"Sun Token\",\"VeChain\",\"Ubiq\",\"Sun Token\",\"Shift\",\"Primas\",\"Ontology\",\"NovaCoin\",\"Nexus\",\"NavCoin\",\"Nano\",\"Namecoin\",\"Monero\",\"Ethereum Name Service\",\"Zelcash\",\"Yee\",\"Wirex Token\",\"WhiteCoin\",\"Worldwide Asset eXchange\",\"Waves\",\"Aion\",\"Vertcoin\",\"Verge\",\"V Systems\",\"SysCoin\",\"Steem\",\"Stakenet\",\"Gulden\",\"SmartCash\",\"SibCoin\",\"Siacoin\",\"SaluS\",\"SafeExchangeCoin\",\"Rise\",\"Phoenix Binance\",\"Ravencoin\",\"QTUM\",\"Bitcoin Diamond\",\"Bitshares\",\"Decred\",\"Dogecoin\",\"Ethereum\",\"BitcoinZ\",\"Validity\",\"Project Quantum\",\"ABBC Coin\",\"Achain\",\"Acute Angle Cloud\",\"Horizen\",\"HyperCash\",\"Bitcoin\",\"Bitcoin Cash\",\"Bitcoin Gold\",\"Bitcoin SV\",\"BitTorrent\",\"BlackCoin\",\"BlockNet\",\"ICON Project\",\"ByteCoin\",\"IOCoin\",\"Callisto Network\",\"Cardano\",\"Kcash\",\"Komodo\",\"Dash\",\"DeepBrain Chain\",\"Dero\",\"DigitalNote\",\"Einsteinium\",\"EOS\",\"Ethereum Classic\",\"Firo\",\"Lisk\",\"Groestlcoin\",\"Haven Protocol\",\"High Performance Blockchain\",\"Litecoin\",\"MonaCoin\",\"Neblio\",\"NEO\",\"MegaCoin\",\"ZCash\",\"Metaverse\",\"Oxycoin\",\"Private Instant Verified Transaction\",\"Poa Network\"],\"ProofType\":{\"__ndarray__\":\"CgAAAA8AAAAOAAAADwAAAA4AAAAHAAAADgAAAA4AAAAOAAAAAAAAABkAAAAZAAAADwAAAA8AAAAOAAAADgAAAA8AAAAZAAAADgAAABkAAAAKAAAADgAAABkAAAAPAAAAGQAAAA4AAAAJAAAAGQAAAA4AAAAPAAAADgAAABkAAAAZAAAAGQAAABkAAAAZAAAAGQAAABkAAAAZAAAAGQAAABkAAAAZAAAAGQAAABkAAAAOAAAADQAAABkAAAAPAAAAGQAAABkAAAAZAAAAGQAAABkAAAAZAAAAGQAAABkAAAAZAAAAGQAAABkAAAAZAAAAGQAAABkAAAAZAAAAGQAAABkAAAAZAAAAGQAAABkAAAAZAAAAGQAAAA4AAAAZAAAAGQAAAA4AAAAZAAAAGQAAABkAAAAOAAAAGQAAABkAAAAOAAAAGQAAABkAAAAZAAAAGQAAABkAAAAZAAAAGQAAABkAAAAZAAAAGQAAABkAAAAZAAAAGQAAAA4AAAAZAAAAGQAAABkAAAAZAAAAGQAAABkAAAAZAAAAGQAAABkAAAAZAAAAGQAAABkAAAAZAAAAGQAAABkAAAAZAAAAGQAAABkAAAAZAAAAGQAAABkAAAAZAAAAGQAAABkAAAAZAAAAGQAAABkAAAAZAAAAGQAAABkAAAAZAAAAGQAAABkAAAAZAAAAGQAAABkAAAAZAAAAGQAAABkAAAAZAAAAGQAAABkAAAAZAAAAGQAAABkAAAAZAAAAGQAAABkAAAAZAAAAGQAAABkAAAAZAAAAGQAAABkAAAAZAAAAGQAAABkAAAAZAAAACgAAABkAAAAZAAAADgAAAAEAAAAOAAAADgAAAA4AAAAXAAAABQAAABkAAAAZAAAAGQAAAAwAAAAZAAAADgAAABkAAAAZAAAADwAAAA8AAAALAAAADwAAABkAAAAZAAAAGQAAAA4AAAAOAAAAGQAAABkAAAAZAAAAGQAAABkAAAAZAAAAGQAAABkAAAAZAAAAGQAAABkAAAAZAAAAGQAAAA4AAAAKAAAABAAAAAIAAAAOAAAAGQAAABkAAAAZAAAAGQAAABkAAAAPAAAAGQAAAA4AAAAZAAAAEgAAAA4AAAAZAAAABAAAAA4AAAAKAAAADwAAABEAAAAPAAAADgAAAA4AAAAOAAAAEwAAAA8AAAAZAAAAGQAAAA8AAAAZAAAABgAAAA8AAAAOAAAADgAAABQAAAAOAAAADgAAABUAAAAOAAAADgAAAA4AAAAOAAAADwAAAAgAAAAKAAAAGQAAABkAAAAKAAAADwAAAAQAAAAPAAAADgAAAA4AAAAOAAAACgAAABkAAAAZAAAABAAAAAMAAAAOAAAADwAAAA4AAAAOAAAADgAAAA4AAAAEAAAACgAAAA8AAAAKAAAADgAAAA8AAAAOAAAACgAAABYAAAAYAAAAEAAAABkAAAAOAAAADwAAAA4AAAAEAAAADgAAAA4AAAAEAAAADgAAAA4AAAAZAAAADgAAAA4AAAAZAAAAGQAAAA4AAAAOAAAAGQAAAAQAAAAPAAAABwAAAA==\",\"dtype\":\"int32\",\"order\":\"little\",\"shape\":[292]},\"TotalCoinsMined\":{\"__ndarray__\":\"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\",\"dtype\":\"float64\",\"order\":\"little\",\"shape\":[292]}},\"selected\":{\"id\":\"2132\"},\"selection_policy\":{\"id\":\"2166\"}},\"id\":\"2131\",\"type\":\"ColumnDataSource\"},{\"attributes\":{\"editor\":{\"id\":\"2144\"},\"field\":\"ProofType\",\"formatter\":{\"id\":\"2143\"},\"title\":\"ProofType\"},\"id\":\"2145\",\"type\":\"TableColumn\"},{\"attributes\":{\"margin\":[5,5,5,5],\"name\":\"HSpacer03373\",\"sizing_mode\":\"stretch_width\"},\"id\":\"2170\",\"type\":\"Spacer\"},{\"attributes\":{},\"id\":\"2144\",\"type\":\"IntEditor\"},{\"attributes\":{},\"id\":\"2148\",\"type\":\"StringFormatter\"},{\"attributes\":{},\"id\":\"2166\",\"type\":\"UnionRenderers\"},{\"attributes\":{\"margin\":[5,5,5,5],\"name\":\"HSpacer03372\",\"sizing_mode\":\"stretch_width\"},\"id\":\"2130\",\"type\":\"Spacer\"},{\"attributes\":{},\"id\":\"2143\",\"type\":\"NumberFormatter\"},{\"attributes\":{},\"id\":\"2159\",\"type\":\"IntEditor\"},{\"attributes\":{\"editor\":{\"id\":\"2159\"},\"field\":\"Class\",\"formatter\":{\"id\":\"2158\"},\"title\":\"Class\"},\"id\":\"2160\",\"type\":\"TableColumn\"},{\"attributes\":{},\"id\":\"2134\",\"type\":\"StringEditor\"},{\"attributes\":{\"source\":{\"id\":\"2131\"}},\"id\":\"2165\",\"type\":\"CDSView\"},{\"attributes\":{},\"id\":\"2133\",\"type\":\"StringFormatter\"},{\"attributes\":{\"children\":[{\"id\":\"2130\"},{\"id\":\"2163\"},{\"id\":\"2170\"}],\"margin\":[0,0,0,0],\"name\":\"Row03368\",\"tags\":[\"embedded\"]},\"id\":\"2129\",\"type\":\"Row\"},{\"attributes\":{},\"id\":\"2132\",\"type\":\"Selection\"},{\"attributes\":{},\"id\":\"2154\",\"type\":\"StringEditor\"},{\"attributes\":{\"editor\":{\"id\":\"2149\"},\"field\":\"CirculatingSupply\",\"formatter\":{\"id\":\"2148\"},\"title\":\"CirculatingSupply\"},\"id\":\"2150\",\"type\":\"TableColumn\"},{\"attributes\":{\"editor\":{\"id\":\"2134\"},\"field\":\"CoinName\",\"formatter\":{\"id\":\"2133\"},\"title\":\"CoinName\"},\"id\":\"2135\",\"type\":\"TableColumn\"},{\"attributes\":{},\"id\":\"2153\",\"type\":\"StringFormatter\"},{\"attributes\":{},\"id\":\"2138\",\"type\":\"NumberFormatter\"},{\"attributes\":{\"columns\":[{\"id\":\"2135\"},{\"id\":\"2140\"},{\"id\":\"2145\"},{\"id\":\"2150\"},{\"id\":\"2155\"},{\"id\":\"2160\"}],\"height\":300,\"reorderable\":false,\"source\":{\"id\":\"2131\"},\"view\":{\"id\":\"2165\"},\"width\":700},\"id\":\"2163\",\"type\":\"DataTable\"},{\"attributes\":{},\"id\":\"2139\",\"type\":\"IntEditor\"}],\"root_ids\":[\"2129\"]},\"title\":\"Bokeh Application\",\"version\":\"2.3.2\"}};\n",
       "    var render_items = [{\"docid\":\"093dbc75-2c8b-4fc2-8c11-64ffa55481ac\",\"root_ids\":[\"2129\"],\"roots\":{\"2129\":\"23acb84c-b559-4508-b813-8c89fb5912b4\"}}];\n",
       "    root.Bokeh.embed.embed_items_notebook(docs_json, render_items);\n",
       "  }\n",
       "  if (root.Bokeh !== undefined && root.Bokeh.Panel !== undefined) {\n",
       "    embed_document(root);\n",
       "  } else {\n",
       "    var attempts = 0;\n",
       "    var timer = setInterval(function(root) {\n",
       "      if (root.Bokeh !== undefined && root.Bokeh.Panel !== undefined) {\n",
       "        clearInterval(timer);\n",
       "        embed_document(root);\n",
       "      } else if (document.readyState == \"complete\") {\n",
       "        attempts++;\n",
       "        if (attempts > 200) {\n",
       "          clearInterval(timer);\n",
       "          console.log(\"Bokeh: ERROR: Unable to run BokehJS code because BokehJS library is missing\");\n",
       "        }\n",
       "      }\n",
       "    }, 25, root)\n",
       "  }\n",
       "})(window);</script>"
      ],
      "text/plain": [
       ":Table   [CoinName,Algorithm,ProofType,CirculatingSupply,TotalCoinsMined,Class]"
      ]
     },
     "execution_count": 250,
     "metadata": {
      "application/vnd.holoviews_exec.v0+json": {
       "id": "2129"
      }
     },
     "output_type": "execute_result"
    }
   ],
   "source": [
    "# Table with tradable cryptos\n",
    "tradable_cols = ['CoinName', 'Algorithm', 'ProofType', 'CirculatingSupply', 'TotalCoinsMined', 'Class']\n",
    "table = combined_df.hvplot.table(tradable_cols)\n",
    "table"
   ]
  },
  {
   "cell_type": "code",
   "execution_count": 251,
   "metadata": {},
   "outputs": [
    {
     "name": "stdout",
     "output_type": "stream",
     "text": [
      "292\n"
     ]
    }
   ],
   "source": [
    "# Print the total number of tradable cryptocurrencies\n",
    "print(combined_df['CoinName'].count())"
   ]
  },
  {
   "cell_type": "markdown",
   "metadata": {},
   "source": [
    "#### Scatter Plot with Tradable Cryptocurrencies"
   ]
  },
  {
   "cell_type": "code",
   "execution_count": 252,
   "metadata": {},
   "outputs": [],
   "source": [
    "# Scale data to create the scatter plot\n",
    "combined_df['TotalCoinsMined'] = combined_df['TotalCoinsMined'] / 10000000\n",
    "\n",
    "combined_df['CirculatingSupply'] = combined_df['CirculatingSupply'] / 10000"
   ]
  },
  {
   "cell_type": "code",
   "execution_count": 253,
   "metadata": {},
   "outputs": [
    {
     "data": {},
     "metadata": {},
     "output_type": "display_data"
    },
    {
     "data": {
      "application/vnd.holoviews_exec.v0+json": "",
      "text/html": [
       "<div id='2182'>\n",
       "\n",
       "\n",
       "\n",
       "\n",
       "\n",
       "  <div class=\"bk-root\" id=\"885198c0-dc18-4999-a726-62c4882daba4\" data-root-id=\"2182\"></div>\n",
       "</div>\n",
       "<script type=\"application/javascript\">(function(root) {\n",
       "  function embed_document(root) {\n",
       "    var docs_json = {\"c9075004-a1d8-48b9-a508-bf9cad843389\":{\"defs\":[{\"extends\":null,\"module\":null,\"name\":\"ReactiveHTML1\",\"overrides\":[],\"properties\":[]},{\"extends\":null,\"module\":null,\"name\":\"FlexBox1\",\"overrides\":[],\"properties\":[{\"default\":\"flex-start\",\"kind\":null,\"name\":\"align_content\"},{\"default\":\"flex-start\",\"kind\":null,\"name\":\"align_items\"},{\"default\":\"row\",\"kind\":null,\"name\":\"flex_direction\"},{\"default\":\"wrap\",\"kind\":null,\"name\":\"flex_wrap\"},{\"default\":\"flex-start\",\"kind\":null,\"name\":\"justify_content\"}]},{\"extends\":null,\"module\":null,\"name\":\"TemplateActions1\",\"overrides\":[],\"properties\":[{\"default\":0,\"kind\":null,\"name\":\"open_modal\"},{\"default\":0,\"kind\":null,\"name\":\"close_modal\"}]},{\"extends\":null,\"module\":null,\"name\":\"MaterialTemplateActions1\",\"overrides\":[],\"properties\":[{\"default\":0,\"kind\":null,\"name\":\"open_modal\"},{\"default\":0,\"kind\":null,\"name\":\"close_modal\"}]}],\"roots\":{\"references\":[{\"attributes\":{\"margin\":[5,5,5,5],\"name\":\"HSpacer03498\",\"sizing_mode\":\"stretch_width\"},\"id\":\"2183\",\"type\":\"Spacer\"},{\"attributes\":{\"end\":2078761673.6468318,\"reset_end\":2078761673.6468318,\"reset_start\":-188978333.9678938,\"start\":-188978333.9678938,\"tags\":[[[\"CirculatingSupply\",\"CirculatingSupply\",null]]]},\"id\":\"2185\",\"type\":\"Range1d\"},{\"attributes\":{\"data\":{\"CirculatingSupply\":{\"__ndarray__\":\"AAAAAAAAAAAAAAAAAAAAAAAAAAAAAAAAAAAAAAAAAAAAAAAAAAAAAAAAAAAAAAAAAAAAAAAAAAAAAAAAAAAAAAAAAAAAAAAAAAAAAAAAAAAAAAAAAAAAAAAAAAAAAAAAZ80dAHg1lEAAAAAAAAAAAAAAAAAAAAAAAAAAAAAAAAAAAAAAAAAAAAAAAAAAAAAAAAAAAAAAAAAAAAAAAAAAAAAAAAAAAAAAAAAAAAAAAAAAAAAAAAAAAAAAAAAAAAAAAAAAAAAAAAAPC7Wm2ZKzQAAAAAAAAAAAAAAAAAAAAAAAAAAAAAAAAAAAAAAAAAAAAAAAAAAAAAAAAAAAAAAAAAAAAAAAAAAAAAAAAAAAAAAAAAAAAAAAAAAAAAAAAAAAAAAAAAAAAAAAAAAAAAAAAAAAAAAAAAAAAAAAAAAAAAAAAAAAAAAAAAAAAAAAAAAAAAAAAAAAAAAAAAAAAAAAAAAAAAAAAAAAAAAAAAAAAAAAAAAAAAAAAAAAAAAAAAAAAAAAAAAAAAAAAAAAAAAAAAAAAAAAAAAAAAAAAAAAAAAAAAAAAAAAAAAAAAAAAAAAAAAAAAAAAAAAAAAAAAAAAAAAAAAAAAAAAAAAAAAAAAAAAAAAAAAAAAAAAAAAAAAAAAAAAAAAAAAAAAAAAAAAAAAAAAAAAAAAAAAAAAAAAAAAAAAAAAAAAAAAAAAAAAAAAAAAAAAAAAAAAAAAAAAAAAAAAAAAAAAAAAAAAAAAAAAAAAAAAAAAAAAAAAAAAAAAAAAAAAAAAAAAAAAAAAAAABavzG/5qnZBAAAAAAAAAAAAAAAAAAAAAAAAAAAAAAAAAAAAAAAAAAAAAAAAAAAAAAAAAAAAAAAAAAAAAAAAAAAAAAAAAAAAAAAAAAAAAAAAAAAAAAAAAAAAAAAAAAAAAAAAAAAAAAAAAAAAAAAAAAAAAAAAAAAAAAAAAAAAAAAAAAAAAAAAAAAAAAAAAAAAAAAAAAAAAAAAAAAAAAAAAAAAAAAAAAAAAAAAAAAAAAAAAAAAAAAAAAAAAAAAAAAAAAAAAAAAAAAAAAAAAAAAAAAAAAAAAAAAAAAAAAAAAAAAAAAAAAAAAAAAAAAAAAAAAAAAAAAAAAAAAAAAAAAAAAAAAAAAAAAAAAAAAAAAAAAAAAAAAAAAAAAAAAAAAAAAAAAAAAAAAAAAAAAAAAAAAAAAAAAAAAAAAAAAAAAAAAAAAAAAAAAAAAAAAAAAAAAAAAAAAAAAAAAAAAAAAAAAAAAAAAAAAAAAADSr9mYKFmFAAAAAAAAAAAAAAAAAAAAAAAAAAAAAAAAAAAAAAAAAAAAAAAAAAAAAAAAAAAAAAAAAAAAAAAAAAAAAAAAAAAAAAAAAAAAAAAAAAAAAAAAAAAAAAAAAAAAAAAAAAAAAAAAAAAAAAAAAAAAAAAAAAAAAAAAAAAAAAAAAAAAAAAAAAAAAAAAAAAAAAAAAAAAAAAAAAAAAAAAAAAAAAAAAAAAAAAAAAAAAAAAAAAAAAAAAAAAAAAAAAAAAAAAAAAAAAAAAAAAAAAAAAAAAAAAAAAAAAAAAAAAAAAAAAAAAAAAAAAAAAAAAAAAAAAAAAAAAAAAAAAAAAAAAAAAAAAAAAAAAAAAAAAAAAAAAAAAAAAAAAAAAAAAAAAAAAAAAAAAAAAAAAAAAAAAAAAAAAAAAAAAAAAAAAAAAAAAAAAAAAAAAAAAAAAAAAAAAAAAAAAAAAAAAAAAAAAAAAAAAAAAAAAAAAAAAAAAAAAAAAAAAAAAAAAAAAAAAAAAAAAAAAAAAAAAAAAAAAAAAAAAAAAAAAAAAAAAAAAAAAAAAAAAAAAAAAAAAAAAAAAAAAAAAAAAAAAAAAAAAAAAAAAAAAAAAAAAAAAAAAAAAAAAAAAAAAAAAAAAAAAAAAAAAAAAAAAAAAAAAAAAAAAAAAAAAAAAAAAAAAAAAAAAAAAAAAAAAAAAAAAAAAAAAAAAAAAAAAAAAAAAAAAAAAAAAAAAAAAAAAAAAAAAAAAAAAAAAAAAAAAAAAAAAAAAAAAAAAAAAAAAAAAAAAAAAAAAAAAAAAAAAAAAAAAAAAAAAAAAAAAAAAAAAAAAAAAAAAAAAAAAAAAAAAAAAAAAAAAAAAAAAAAAAAAAAAAAAAAAAAAAAAAAAAAAAAAAAAAAAAAAAAAAAAAAAAAAAAAAAAAAAAAC4c+uK8yjcQQAAAAAAAAAAAAAAAAAAAAAAAAAAAAAAAAAAAAAAAAAAAAAAAAAAAAAAAAAAAAAAAAAAAAAAAAAAAAAAAAAAAAAAAAAAAAAAAAAAAAAAAAAAAAAAAAAAAAAAAAAAAAAAAAAAAAAAAAAAAAAAAAAAAAAAAAAAAAAAAAAAAAAAAAAAAAAAAAAAAAAAAAAAAAAAAAAAAAAAAAAAAAAAAAAAAAAAAAAAAAAAAAAAAAAAAAAAAAAAAAAAAAAAAAAAAAAAAAAAAAAAAAAAAAAAAAAAAAAAAAAAAAAAAAAAAAAAAAAAAAAAAAAAAAAAAAAAAAAAAAAAAAAAAAAAAAAAAAAAAAAAAAAAAAAAAAAAAAAAAAAAAAAAAAAAAAAAAAAAAAAAAAAAAAAAAAAAAAAAAAAAAAAAAAAAAAAAAAAAAAAAAAAABohtdG0saUHIHdvXih3HQAAAAAAAAAAAkGwOM9nDe0AAAAAAAAAAAAAAAAAAAAAAAAAAAAAAAAAAAAAAAAAAAAAAAAAAAAAAAAAAAAAAAABFR3L5j32dQAHFAhx1iJ1AAAAAAAAAAAAtTRorEIedQAAAAAAAAAAAAAAAAAAAAAAAAAAAAAAAAAAAAAAAAAAAAAAAAAAAAAAAAAAAAAAAAAAAAAAAAAAAS7dadcYGSUEAAAAAAAAAAAAAAAAAAAAAfvM7mHpOkEAAAAAAAAAAALn8h/TbLZFAAAAAAAAAAAAAAAAAAAAAAI78qNMIYPlAgDhv2SBVyUAAAAAAAAAAAAAAAAAAAAAAAAAAAAAAAAAAAAAAAAAAAAAAAAAAAAAAYQi4KwHyukAAAAAAAAAAAAAAAAAAAAAAAAAAAAAAAAAAAAAAAAAAAAAAAAAAAAAAAAAAAAAAAAAAAAAAAAAAAAAAAAAAAAAAAAAAAAAAAAA=\",\"dtype\":\"float64\",\"order\":\"little\",\"shape\":[292]},\"CoinName\":[\"NuShares\",\"Triangles Coin\",\"CometCoin\",\"OpenChat\",\"Quantum Resistant Ledger\",\"Amber\",\"Pura\",\"Bitcoin Private\",\"Aidos Kuneen\",\"DAPS Coin\",\"Foin\",\"Nevula\",\"Zano\",\"VEIL\",\"MimbleWimbleCoin\",\"Ravencoin Classic\",\"XDNA\",\"Swingby\",\"Wibcoin\",\"Revain\",\"TokenPay\",\"EtherZero\",\"NextDAO\",\"QuarkCoin\",\"United Emirates Coin\",\"Arweave\",\"MAPS\",\"Tenset\",\"Bithereum\",\"BeforeCoinMarketCap\",\"Smart Bitcoin\",\"WeStarter\",\"YooShi\",\"BakeryToken\",\"IMPULSE by FDR\",\"Altura\",\"DekBox\",\"VEED\",\"Less Network\",\"KingDoge\",\"SafeHamsters\",\"Yuang Coin\",\"Kiwigo\",\"Votechain\",\"UnitedBitcoin\",\"VeriCoin\",\"Pea Farm\",\"Emercoin\",\"SparkPoint Fuel\",\"Genshiro\",\"Binamon\",\"ModiHost\",\"MiniDOGE\",\"RealFevr\",\"MocktailSwap\",\"Effort Economy \",\"QueenDex Coin\",\"Lion Token\",\"Artex\",\"TBCC\",\"xWIN Finance\",\"MContent\",\"Tokyo AU\",\"Novax Coin\",\"ShonToken\",\"Investelly token\",\"TRONbetLive\",\"Binance Smart Chain Girl\",\"Daddy Doge\",\"Five7\",\"Circuits of Value\",\"Diamond Boyz Coin\",\"Plant vs Undead Token\",\"Ergo\",\"ECOMI\",\"Coin98\",\"Safe Energy\",\"Genix\",\"Trust Wallet Token\",\"Lanceria\",\"Beam\",\"Didcoin\",\"Teaswap Art\",\"Kaiken Shiba\",\"My DeFi Pet\",\"BunnyPark\",\"ApeSwap Finance\",\"Pancake Bunny\",\"Alpha Finance Lab\",\"Safe Star\",\"Pylon Eco Token\",\"Metahero\",\"Pig Finance\",\"Waltonchain\",\"FeatherCoin\",\"Monsta Infinite\",\"Doggy\",\"Xiasi Inu\",\"Thetan Arena\",\"Nafter\",\"CryptoBlades\",\"CryptoZoon\",\"Binemon\",\"HoDooi.com\",\"Smaugs NFT\",\"Wall Street Games\",\"Honest\",\"Radio Caca\",\"Sishi Finance\",\"Feeder Finance\",\"Battle Pets\",\"Pacoca\",\"Pancake Hunny\",\"Rabbit Finance\",\"NFT Alley\",\"TEN\",\"Dehero Community Token\",\"Wheelers\",\"ShibaCash\",\"Longdrink Finance\",\"Eggplant Finance\",\"EIFI FINANCE\",\"TendieSwap\",\"CosmicSwap\",\"Vention\",\"WOWswap\",\"Betu\",\"Wenlambo\",\"Sheesh it is bussin bussin\",\"Pet Games\",\"CheCoin\",\"GemGuardian\",\"ForeverFOMO\",\"Knight War Spirits\",\"KRYZA Network\",\"Badger Sett Badger\",\"Portify\",\"DogeHouse Capital\",\"Bholdus Token\",\"Sphynx Token\",\"RugZombie\",\"LPI DAO\",\"Rainbow Token\",\"Step Hero\",\"Starpunk\",\"The Real Golden Inu\",\"Jade Currency\",\"Binamars\",\"BUMooN\",\"Loud Market\",\"DefiXBet\",\"RiceFarm\",\"BNB Cash\",\"Stratis\",\"Bogged Finance\",\"Dexit Finance\",\"AEON\",\"Canada eCoin\",\"Expanse\",\"TENT\",\"Grin\",\"Pirate Chain\",\"Internet Node token\",\"Roseon Finance\",\"BabyDoge\",\"Splinterlands\",\"SafePal\",\"CumRocket\",\"Nervos Network\",\"Lucky Lion\",\"OpenOcean\",\"Reddcoin\",\"PotCoin\",\"Nxt\",\"CloakCoin\",\"SIL Finance Token V2\",\"Bonus Cake\",\"TrustFi Network Token\",\"Beldex\",\"Handshake\",\"gotEM\",\"Pitch Finance Token\",\"Torii Finance\",\"GOMA Finance\",\"GameFi\",\"Shell Token\",\"REDi\",\"Pokmonsters\",\"Kalata Protocol\",\"NFT Art Finance\",\"Baby Floki Billionaire\",\"VelasPad\",\"Lazio Fan Token\",\"ViaCoin\",\"Anchor Protocol\",\"ARK\",\"Binance Coin\",\"DigiByte\",\"HarmonyPad\",\"YocoinYOCO\",\"JERITEX\",\"Australian Safe Shepherd\",\"TRONPAD\",\"Auroracoin\",\"AUREO\",\"eCash\",\"Sun Token\",\"VeChain\",\"Ubiq\",\"Sun Token\",\"Shift\",\"Primas\",\"Ontology\",\"NovaCoin\",\"Nexus\",\"NavCoin\",\"Nano\",\"Namecoin\",\"Monero\",\"Ethereum Name Service\",\"Zelcash\",\"Yee\",\"Wirex Token\",\"WhiteCoin\",\"Worldwide Asset eXchange\",\"Waves\",\"Aion\",\"Vertcoin\",\"Verge\",\"V Systems\",\"SysCoin\",\"Steem\",\"Stakenet\",\"Gulden\",\"SmartCash\",\"SibCoin\",\"Siacoin\",\"SaluS\",\"SafeExchangeCoin\",\"Rise\",\"Phoenix Binance\",\"Ravencoin\",\"QTUM\",\"Bitcoin Diamond\",\"Bitshares\",\"Decred\",\"Dogecoin\",\"Ethereum\",\"BitcoinZ\",\"Validity\",\"Project Quantum\",\"ABBC Coin\",\"Achain\",\"Acute Angle Cloud\",\"Horizen\",\"HyperCash\",\"Bitcoin\",\"Bitcoin Cash\",\"Bitcoin Gold\",\"Bitcoin SV\",\"BitTorrent\",\"BlackCoin\",\"BlockNet\",\"ICON Project\",\"ByteCoin\",\"IOCoin\",\"Callisto Network\",\"Cardano\",\"Kcash\",\"Komodo\",\"Dash\",\"DeepBrain Chain\",\"Dero\",\"DigitalNote\",\"Einsteinium\",\"EOS\",\"Ethereum Classic\",\"Firo\",\"Lisk\",\"Groestlcoin\",\"Haven Protocol\",\"High Performance Blockchain\",\"Litecoin\",\"MonaCoin\",\"Neblio\",\"NEO\",\"MegaCoin\",\"ZCash\",\"Metaverse\",\"Oxycoin\",\"Private Instant Verified Transaction\",\"Poa Network\"],\"TotalCoinsMined\":{\"__ndarray__\":\"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\",\"dtype\":\"float64\",\"order\":\"little\",\"shape\":[292]}},\"selected\":{\"id\":\"2218\"},\"selection_policy\":{\"id\":\"2239\"}},\"id\":\"2217\",\"type\":\"ColumnDataSource\"},{\"attributes\":{\"fill_alpha\":{\"value\":0.1},\"fill_color\":{\"value\":\"#30a2da\"},\"line_alpha\":{\"value\":0.1},\"line_color\":{\"value\":\"#30a2da\"},\"size\":{\"value\":5.477225575051661},\"x\":{\"field\":\"TotalCoinsMined\"},\"y\":{\"field\":\"CirculatingSupply\"}},\"id\":\"2221\",\"type\":\"Scatter\"},{\"attributes\":{},\"id\":\"2227\",\"type\":\"BasicTickFormatter\"},{\"attributes\":{},\"id\":\"2230\",\"type\":\"BasicTickFormatter\"},{\"attributes\":{},\"id\":\"2204\",\"type\":\"SaveTool\"},{\"attributes\":{},\"id\":\"2205\",\"type\":\"PanTool\"},{\"attributes\":{\"end\":1.0842755913171216e+19,\"reset_end\":1.0842755913171216e+19,\"reset_start\":-4.455927087604609e+17,\"start\":-4.455927087604609e+17,\"tags\":[[[\"TotalCoinsMined\",\"TotalCoinsMined\",null]]]},\"id\":\"2184\",\"type\":\"Range1d\"},{\"attributes\":{\"text_color\":\"black\",\"text_font_size\":\"12pt\"},\"id\":\"2188\",\"type\":\"Title\"},{\"attributes\":{\"callback\":null,\"renderers\":[{\"id\":\"2223\"}],\"tags\":[\"hv_created\"],\"tooltips\":[[\"TotalCoinsMined\",\"@{TotalCoinsMined}\"],[\"CirculatingSupply\",\"@{CirculatingSupply}\"],[\"CoinName\",\"@{CoinName}\"]]},\"id\":\"2186\",\"type\":\"HoverTool\"},{\"attributes\":{},\"id\":\"2208\",\"type\":\"ResetTool\"},{\"attributes\":{},\"id\":\"2192\",\"type\":\"LinearScale\"},{\"attributes\":{\"angle\":{\"value\":0.0},\"fill_alpha\":{\"value\":1.0},\"fill_color\":{\"value\":\"#30a2da\"},\"hatch_alpha\":{\"value\":1.0},\"hatch_color\":{\"value\":\"black\"},\"hatch_scale\":{\"value\":12.0},\"hatch_weight\":{\"value\":1.0},\"line_alpha\":{\"value\":1.0},\"line_cap\":{\"value\":\"butt\"},\"line_color\":{\"value\":\"#30a2da\"},\"line_dash\":{\"value\":[]},\"line_dash_offset\":{\"value\":0},\"line_join\":{\"value\":\"bevel\"},\"line_width\":{\"value\":1},\"marker\":{\"value\":\"circle\"},\"size\":{\"value\":5.477225575051661},\"x\":{\"field\":\"TotalCoinsMined\"},\"y\":{\"field\":\"CirculatingSupply\"}},\"id\":\"2225\",\"type\":\"Scatter\"},{\"attributes\":{},\"id\":\"2206\",\"type\":\"WheelZoomTool\"},{\"attributes\":{\"overlay\":{\"id\":\"2209\"}},\"id\":\"2207\",\"type\":\"BoxZoomTool\"},{\"attributes\":{\"axis\":{\"id\":\"2196\"},\"grid_line_color\":null,\"ticker\":null},\"id\":\"2199\",\"type\":\"Grid\"},{\"attributes\":{\"fill_alpha\":{\"value\":0.2},\"fill_color\":{\"value\":\"#30a2da\"},\"line_alpha\":{\"value\":0.2},\"line_color\":{\"value\":\"#30a2da\"},\"size\":{\"value\":5.477225575051661},\"x\":{\"field\":\"TotalCoinsMined\"},\"y\":{\"field\":\"CirculatingSupply\"}},\"id\":\"2222\",\"type\":\"Scatter\"},{\"attributes\":{},\"id\":\"2218\",\"type\":\"Selection\"},{\"attributes\":{\"margin\":[5,5,5,5],\"name\":\"HSpacer03499\",\"sizing_mode\":\"stretch_width\"},\"id\":\"2252\",\"type\":\"Spacer\"},{\"attributes\":{},\"id\":\"2197\",\"type\":\"BasicTicker\"},{\"attributes\":{},\"id\":\"2226\",\"type\":\"AllLabels\"},{\"attributes\":{\"data_source\":{\"id\":\"2217\"},\"glyph\":{\"id\":\"2220\"},\"hover_glyph\":null,\"muted_glyph\":{\"id\":\"2222\"},\"nonselection_glyph\":{\"id\":\"2221\"},\"selection_glyph\":{\"id\":\"2225\"},\"view\":{\"id\":\"2224\"}},\"id\":\"2223\",\"type\":\"GlyphRenderer\"},{\"attributes\":{},\"id\":\"2194\",\"type\":\"LinearScale\"},{\"attributes\":{},\"id\":\"2239\",\"type\":\"UnionRenderers\"},{\"attributes\":{\"axis_label\":\"CirculatingSupply\",\"formatter\":{\"id\":\"2230\"},\"major_label_policy\":{\"id\":\"2229\"},\"ticker\":{\"id\":\"2201\"}},\"id\":\"2200\",\"type\":\"LinearAxis\"},{\"attributes\":{\"active_multi\":null,\"tools\":[{\"id\":\"2186\"},{\"id\":\"2204\"},{\"id\":\"2205\"},{\"id\":\"2206\"},{\"id\":\"2207\"},{\"id\":\"2208\"}]},\"id\":\"2210\",\"type\":\"Toolbar\"},{\"attributes\":{\"axis_label\":\"TotalCoinsMined\",\"formatter\":{\"id\":\"2227\"},\"major_label_policy\":{\"id\":\"2226\"},\"ticker\":{\"id\":\"2197\"}},\"id\":\"2196\",\"type\":\"LinearAxis\"},{\"attributes\":{\"children\":[{\"id\":\"2183\"},{\"id\":\"2187\"},{\"id\":\"2252\"}],\"margin\":[0,0,0,0],\"name\":\"Row03494\",\"tags\":[\"embedded\"]},\"id\":\"2182\",\"type\":\"Row\"},{\"attributes\":{},\"id\":\"2201\",\"type\":\"BasicTicker\"},{\"attributes\":{},\"id\":\"2229\",\"type\":\"AllLabels\"},{\"attributes\":{\"bottom_units\":\"screen\",\"fill_alpha\":0.5,\"fill_color\":\"lightgrey\",\"left_units\":\"screen\",\"level\":\"overlay\",\"line_alpha\":1.0,\"line_color\":\"black\",\"line_dash\":[4,4],\"line_width\":2,\"right_units\":\"screen\",\"syncable\":false,\"top_units\":\"screen\"},\"id\":\"2209\",\"type\":\"BoxAnnotation\"},{\"attributes\":{\"axis\":{\"id\":\"2200\"},\"dimension\":1,\"grid_line_color\":null,\"ticker\":null},\"id\":\"2203\",\"type\":\"Grid\"},{\"attributes\":{\"fill_color\":{\"value\":\"#30a2da\"},\"line_color\":{\"value\":\"#30a2da\"},\"size\":{\"value\":5.477225575051661},\"x\":{\"field\":\"TotalCoinsMined\"},\"y\":{\"field\":\"CirculatingSupply\"}},\"id\":\"2220\",\"type\":\"Scatter\"},{\"attributes\":{\"below\":[{\"id\":\"2196\"}],\"center\":[{\"id\":\"2199\"},{\"id\":\"2203\"}],\"height\":300,\"left\":[{\"id\":\"2200\"}],\"margin\":[5,5,5,5],\"min_border_bottom\":10,\"min_border_left\":10,\"min_border_right\":10,\"min_border_top\":10,\"renderers\":[{\"id\":\"2223\"}],\"sizing_mode\":\"fixed\",\"title\":{\"id\":\"2188\"},\"toolbar\":{\"id\":\"2210\"},\"width\":700,\"x_range\":{\"id\":\"2184\"},\"x_scale\":{\"id\":\"2192\"},\"y_range\":{\"id\":\"2185\"},\"y_scale\":{\"id\":\"2194\"}},\"id\":\"2187\",\"subtype\":\"Figure\",\"type\":\"Plot\"},{\"attributes\":{\"source\":{\"id\":\"2217\"}},\"id\":\"2224\",\"type\":\"CDSView\"}],\"root_ids\":[\"2182\"]},\"title\":\"Bokeh Application\",\"version\":\"2.3.2\"}};\n",
       "    var render_items = [{\"docid\":\"c9075004-a1d8-48b9-a508-bf9cad843389\",\"root_ids\":[\"2182\"],\"roots\":{\"2182\":\"885198c0-dc18-4999-a726-62c4882daba4\"}}];\n",
       "    root.Bokeh.embed.embed_items_notebook(docs_json, render_items);\n",
       "  }\n",
       "  if (root.Bokeh !== undefined && root.Bokeh.Panel !== undefined) {\n",
       "    embed_document(root);\n",
       "  } else {\n",
       "    var attempts = 0;\n",
       "    var timer = setInterval(function(root) {\n",
       "      if (root.Bokeh !== undefined && root.Bokeh.Panel !== undefined) {\n",
       "        clearInterval(timer);\n",
       "        embed_document(root);\n",
       "      } else if (document.readyState == \"complete\") {\n",
       "        attempts++;\n",
       "        if (attempts > 200) {\n",
       "          clearInterval(timer);\n",
       "          console.log(\"Bokeh: ERROR: Unable to run BokehJS code because BokehJS library is missing\");\n",
       "        }\n",
       "      }\n",
       "    }, 25, root)\n",
       "  }\n",
       "})(window);</script>"
      ],
      "text/plain": [
       ":Scatter   [TotalCoinsMined]   (CirculatingSupply,CoinName)"
      ]
     },
     "execution_count": 253,
     "metadata": {
      "application/vnd.holoviews_exec.v0+json": {
       "id": "2182"
      }
     },
     "output_type": "execute_result"
    }
   ],
   "source": [
    "# Plot the scatter with x=\"TotalCoinsMined\" and y=\"TotalCoinSupply\"\n",
    "combined_df.hvplot(\n",
    "    kind='scatter',\n",
    "    x='TotalCoinsMined',\n",
    "    y='CirculatingSupply',\n",
    "    hover_cols = [\"CoinName\"],\n",
    ")"
   ]
  },
  {
   "cell_type": "code",
   "execution_count": null,
   "metadata": {},
   "outputs": [],
   "source": []
  }
 ],
 "metadata": {
  "file_extension": ".py",
  "kernelspec": {
   "display_name": "Python 3",
   "language": "python",
   "name": "python3"
  },
  "language_info": {
   "codemirror_mode": {
    "name": "ipython",
    "version": 3
   },
   "file_extension": ".py",
   "mimetype": "text/x-python",
   "name": "python",
   "nbconvert_exporter": "python",
   "pygments_lexer": "ipython3",
   "version": "3.7.10"
  },
  "mimetype": "text/x-python",
  "name": "python",
  "npconvert_exporter": "python",
  "pygments_lexer": "ipython3",
  "version": 3
 },
 "nbformat": 4,
 "nbformat_minor": 4
}
